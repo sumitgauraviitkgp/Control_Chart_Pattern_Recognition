{
  "nbformat": 4,
  "nbformat_minor": 0,
  "metadata": {
    "colab": {
      "name": "CCPs_Recognition_version1.ipynb",
      "provenance": []
    },
    "kernelspec": {
      "name": "python3",
      "display_name": "Python 3"
    }
  },
  "cells": [
    {
      "cell_type": "code",
      "metadata": {
        "id": "77DdCmgDeoZZ",
        "colab_type": "code",
        "colab": {}
      },
      "source": [
        "import numpy as np\n",
        "import pandas as pd\n",
        "from keras.models import Sequential\n",
        "from keras.layers import Dense, Conv1D, Flatten, MaxPooling1D,AveragePooling1D\n",
        "from sklearn.model_selection import train_test_split\n",
        "from sklearn.metrics import confusion_matrix\n",
        "from sklearn.datasets import load_iris\n",
        "from numpy import unique\n",
        "from keras.layers.merge import concatenate\n",
        "from keras.models import Model\n",
        "from keras.layers import Input\n",
        "import matplotlib.pyplot as plt"
      ],
      "execution_count": 129,
      "outputs": []
    },
    {
      "cell_type": "code",
      "metadata": {
        "id": "Gug-yqxq5tKU",
        "colab_type": "code",
        "colab": {}
      },
      "source": [
        "data=pd.read_csv('/content/ccps_dataset.csv')"
      ],
      "execution_count": 130,
      "outputs": []
    },
    {
      "cell_type": "code",
      "metadata": {
        "id": "T_iWMVxp7Ep_",
        "colab_type": "code",
        "colab": {}
      },
      "source": [
        "x=data.iloc[:,0:2].values\n",
        "y=data.iloc[:,2].values"
      ],
      "execution_count": 131,
      "outputs": []
    },
    {
      "cell_type": "code",
      "metadata": {
        "id": "Gand94UF7Ka8",
        "colab_type": "code",
        "colab": {
          "base_uri": "https://localhost:8080/",
          "height": 1000
        },
        "outputId": "92eb3c12-c608-47b6-ec29-d97277d111c0"
      },
      "source": [
        "x"
      ],
      "execution_count": 132,
      "outputs": [
        {
          "output_type": "execute_result",
          "data": {
            "text/plain": [
              "array([[15.44571457, 15.12445645],\n",
              "       [15.18013059, 15.4388264 ],\n",
              "       [14.70969731, 15.57229368],\n",
              "       [14.36845211, 14.66769897],\n",
              "       [14.3824002 , 13.95385392],\n",
              "       [15.18475629, 14.17411624],\n",
              "       [13.97311731, 14.56977618],\n",
              "       [14.48276665, 15.38665039],\n",
              "       [14.75740019, 14.26966125],\n",
              "       [15.34539166, 14.21183237],\n",
              "       [14.03704184, 14.74829949],\n",
              "       [14.9534048 , 14.76172201],\n",
              "       [14.27695556, 14.95296454],\n",
              "       [13.94794808, 14.34724453],\n",
              "       [14.90286563, 14.80902885],\n",
              "       [15.48107686, 15.48458984],\n",
              "       [15.00160152, 14.55914101],\n",
              "       [15.56962544, 14.15150966],\n",
              "       [14.96592903, 14.53328761],\n",
              "       [14.10799504, 14.74392246],\n",
              "       [14.18022751, 14.43023712],\n",
              "       [13.93708338, 13.92783409],\n",
              "       [14.04725006, 14.36963801],\n",
              "       [14.23868391, 14.13631744],\n",
              "       [14.40495966, 14.06025575],\n",
              "       [14.15944724, 13.97806038],\n",
              "       [14.13252938, 14.23639159],\n",
              "       [13.93052737, 14.10199926],\n",
              "       [14.17953788, 14.43695275],\n",
              "       [14.40238012, 13.97533331],\n",
              "       [14.3997475 , 14.32622134],\n",
              "       [14.37421114, 14.43750984],\n",
              "       [14.17240127, 14.05612625],\n",
              "       [14.10519551, 13.98517107],\n",
              "       [14.28209074, 14.36877799],\n",
              "       [14.12950982, 14.10945188],\n",
              "       [14.07307792, 14.08706003],\n",
              "       [14.29259987, 13.91252683],\n",
              "       [14.0487111 , 14.16995505],\n",
              "       [14.1340867 , 14.13916808],\n",
              "       [15.67427549, 13.96011095],\n",
              "       [16.79622936, 15.48828637],\n",
              "       [17.62871491, 14.02770638],\n",
              "       [19.44045677, 14.55546473],\n",
              "       [18.52704433, 14.68430421],\n",
              "       [18.82626344, 14.12017363],\n",
              "       [17.2070674 , 15.66483187],\n",
              "       [17.75476778, 14.80119429],\n",
              "       [15.34695008, 14.65545496],\n",
              "       [14.02135504, 14.4508519 ],\n",
              "       [13.27229441, 14.63251729],\n",
              "       [12.14937762, 13.90837298],\n",
              "       [10.75116986, 15.40745721],\n",
              "       [10.7242938 , 15.6195735 ],\n",
              "       [10.59347679, 14.27482582],\n",
              "       [11.31974831, 14.2965073 ],\n",
              "       [11.27002981, 14.65652253],\n",
              "       [11.79463448, 15.46343641],\n",
              "       [13.36510145, 13.94772634],\n",
              "       [14.62433906, 13.97925905],\n",
              "       [10.31841626, 17.989788  ],\n",
              "       [17.64761591, 19.05887504],\n",
              "       [11.7593692 , 17.67004047],\n",
              "       [17.6503716 , 19.25853323],\n",
              "       [10.79898934, 19.05536402],\n",
              "       [19.26107891, 18.65362815],\n",
              "       [10.97389091, 17.9143754 ],\n",
              "       [19.21942624, 19.18020321],\n",
              "       [10.88823443, 19.15881577],\n",
              "       [17.8164474 , 19.02432394],\n",
              "       [11.69660885, 18.40603866],\n",
              "       [18.58501856, 18.4298735 ],\n",
              "       [11.27444043, 17.65519702],\n",
              "       [18.95079796, 17.93855446],\n",
              "       [10.56335554, 18.50673883],\n",
              "       [18.57032628, 18.86217773],\n",
              "       [10.62441626, 18.00712107],\n",
              "       [18.25953399, 18.04265592],\n",
              "       [11.41276833, 17.81316796],\n",
              "       [18.55002803, 17.57407376],\n",
              "       [15.94493219, 15.39344903],\n",
              "       [15.522658  , 14.71586361],\n",
              "       [15.35506375, 15.23233993],\n",
              "       [16.25246067, 14.71591447],\n",
              "       [15.483085  , 15.58950705],\n",
              "       [17.15256059, 15.27807203],\n",
              "       [17.36635651, 14.67081846],\n",
              "       [17.84469875, 14.49975406],\n",
              "       [17.31974093, 15.38781099],\n",
              "       [17.94068568, 15.07410272],\n",
              "       [18.15189113, 14.81571532],\n",
              "       [18.94282291, 14.82838698],\n",
              "       [18.83463587, 15.5875769 ],\n",
              "       [19.14233663, 15.61116291],\n",
              "       [19.73741003, 15.60656867],\n",
              "       [19.85166779, 14.63101603],\n",
              "       [20.07487091, 15.53682994],\n",
              "       [21.09840326, 14.92556736],\n",
              "       [20.76072054, 15.10342591],\n",
              "       [20.47322185, 15.14220118],\n",
              "       [14.16013656, 15.05869378],\n",
              "       [13.92881507, 15.03379703],\n",
              "       [14.7134472 , 13.96765454],\n",
              "       [13.61239296, 14.31486014],\n",
              "       [13.33102664, 15.13144632],\n",
              "       [12.13925829, 13.98557509],\n",
              "       [11.92686424, 13.94518695],\n",
              "       [11.90965545, 14.76506545],\n",
              "       [12.43556594, 14.4141646 ],\n",
              "       [11.65063946, 14.33036066],\n",
              "       [12.21829502, 14.21507291],\n",
              "       [11.50305399, 14.76971978],\n",
              "       [11.14567264, 13.95675429],\n",
              "       [ 9.86822925, 15.20848786],\n",
              "       [ 9.35334237, 13.92036577],\n",
              "       [ 9.73036   , 14.63838493],\n",
              "       [10.20610835, 14.90336576],\n",
              "       [ 9.12798348, 14.27411347],\n",
              "       [ 8.382975  , 15.22300389],\n",
              "       [ 8.78285512, 14.60609526],\n",
              "       [15.10733463, 15.67013982],\n",
              "       [14.05830868, 15.43618558],\n",
              "       [15.47714089, 14.0684697 ],\n",
              "       [15.26895514, 14.45089909],\n",
              "       [15.13759437, 15.61540089],\n",
              "       [14.68182144, 14.55129856],\n",
              "       [14.14870789, 14.20411408],\n",
              "       [14.30858589, 14.06564444],\n",
              "       [15.06217213, 15.2298257 ],\n",
              "       [14.2384394 , 15.10756633],\n",
              "       [19.55734725, 19.36902275],\n",
              "       [20.13437892, 18.98605886],\n",
              "       [19.13845587, 20.11615917],\n",
              "       [19.28954318, 20.50042071],\n",
              "       [20.4688732 , 18.94757492],\n",
              "       [18.82607322, 18.94736316],\n",
              "       [19.28912604, 20.39412791],\n",
              "       [18.81125536, 18.87892427],\n",
              "       [20.37113633, 19.99380347],\n",
              "       [20.37238341, 18.83241197],\n",
              "       [14.73043622, 15.31681451],\n",
              "       [15.60990256, 14.23228111],\n",
              "       [15.16253403, 13.94530716],\n",
              "       [15.43363173, 15.32716222],\n",
              "       [14.18212093, 14.20440234],\n",
              "       [14.11085341, 14.60573222],\n",
              "       [15.64085548, 15.44229292],\n",
              "       [13.98033537, 15.43914238],\n",
              "       [14.42907334, 14.74988344],\n",
              "       [15.4696625 , 14.1499325 ],\n",
              "       [10.06671261, 10.20813774],\n",
              "       [ 9.97329484,  9.08432368],\n",
              "       [10.53357643,  9.10633644],\n",
              "       [10.25369671, 10.38402939],\n",
              "       [ 9.75203083, 10.69545475],\n",
              "       [10.55024249, 10.71968282],\n",
              "       [ 9.3116464 , 10.18003298],\n",
              "       [ 9.57567602, 10.26729337],\n",
              "       [10.26887725,  9.10482806],\n",
              "       [10.31358434,  9.54409413]])"
            ]
          },
          "metadata": {
            "tags": []
          },
          "execution_count": 132
        }
      ]
    },
    {
      "cell_type": "code",
      "metadata": {
        "id": "aHMzq-s27L4j",
        "colab_type": "code",
        "colab": {
          "base_uri": "https://localhost:8080/",
          "height": 163
        },
        "outputId": "4212ca2e-1967-492a-e236-7b6bed90aa5c"
      },
      "source": [
        "y"
      ],
      "execution_count": 133,
      "outputs": [
        {
          "output_type": "execute_result",
          "data": {
            "text/plain": [
              "array([0, 0, 0, 0, 0, 0, 0, 0, 0, 0, 0, 0, 0, 0, 0, 0, 0, 0, 0, 0, 1, 1,\n",
              "       1, 1, 1, 1, 1, 1, 1, 1, 1, 1, 1, 1, 1, 1, 1, 1, 1, 1, 2, 2, 2, 2,\n",
              "       2, 2, 2, 2, 2, 2, 2, 2, 2, 2, 2, 2, 2, 2, 2, 2, 3, 3, 3, 3, 3, 3,\n",
              "       3, 3, 3, 3, 3, 3, 3, 3, 3, 3, 3, 3, 3, 3, 4, 4, 4, 4, 4, 4, 4, 4,\n",
              "       4, 4, 4, 4, 4, 4, 4, 4, 4, 4, 4, 4, 5, 5, 5, 5, 5, 5, 5, 5, 5, 5,\n",
              "       5, 5, 5, 5, 5, 5, 5, 5, 5, 5, 6, 6, 6, 6, 6, 6, 6, 6, 6, 6, 6, 6,\n",
              "       6, 6, 6, 6, 6, 6, 6, 6, 7, 7, 7, 7, 7, 7, 7, 7, 7, 7, 7, 7, 7, 7,\n",
              "       7, 7, 7, 7, 7, 7])"
            ]
          },
          "metadata": {
            "tags": []
          },
          "execution_count": 133
        }
      ]
    },
    {
      "cell_type": "code",
      "metadata": {
        "id": "uN0ONM9c8Hol",
        "colab_type": "code",
        "colab": {
          "base_uri": "https://localhost:8080/",
          "height": 35
        },
        "outputId": "6e2633b1-240e-45f7-ebed-585be7d5c956"
      },
      "source": [
        "print(x.shape)"
      ],
      "execution_count": 134,
      "outputs": [
        {
          "output_type": "stream",
          "text": [
            "(160, 2)\n"
          ],
          "name": "stdout"
        }
      ]
    },
    {
      "cell_type": "code",
      "metadata": {
        "id": "dfzTHMD_8H9N",
        "colab_type": "code",
        "colab": {
          "base_uri": "https://localhost:8080/",
          "height": 35
        },
        "outputId": "8d5aa5ef-1bee-43a7-ddee-889f87139ba1"
      },
      "source": [
        "x = x.reshape(x.shape[0],x.shape[1] , 1)\n",
        "print(x.shape)"
      ],
      "execution_count": 135,
      "outputs": [
        {
          "output_type": "stream",
          "text": [
            "(160, 2, 1)\n"
          ],
          "name": "stdout"
        }
      ]
    },
    {
      "cell_type": "code",
      "metadata": {
        "id": "FF3XXaAV8Ij8",
        "colab_type": "code",
        "colab": {
          "base_uri": "https://localhost:8080/",
          "height": 35
        },
        "outputId": "a61cec5f-0379-49dc-e2c9-318152863c27"
      },
      "source": [
        "print(unique(y))"
      ],
      "execution_count": 136,
      "outputs": [
        {
          "output_type": "stream",
          "text": [
            "[0 1 2 3 4 5 6 7]\n"
          ],
          "name": "stdout"
        }
      ]
    },
    {
      "cell_type": "code",
      "metadata": {
        "id": "KadP5HZT8d3U",
        "colab_type": "code",
        "colab": {}
      },
      "source": [
        "xtrain, xtest, ytrain, ytest=train_test_split(x, y, test_size=0.15)"
      ],
      "execution_count": 137,
      "outputs": []
    },
    {
      "cell_type": "code",
      "metadata": {
        "id": "mijTCjDZk9IH",
        "colab_type": "code",
        "colab": {
          "base_uri": "https://localhost:8080/",
          "height": 35
        },
        "outputId": "02037308-95f2-447c-85d5-a12cd07c4eea"
      },
      "source": [
        "xtrain.shape"
      ],
      "execution_count": 175,
      "outputs": [
        {
          "output_type": "execute_result",
          "data": {
            "text/plain": [
              "(136, 2, 1)"
            ]
          },
          "metadata": {
            "tags": []
          },
          "execution_count": 175
        }
      ]
    },
    {
      "cell_type": "markdown",
      "metadata": {
        "id": "UIFJCUAWd0XS",
        "colab_type": "text"
      },
      "source": [
        "Simple 1D-CNN network"
      ]
    },
    {
      "cell_type": "code",
      "metadata": {
        "id": "md-mW_G97ZGL",
        "colab_type": "code",
        "colab": {}
      },
      "source": [
        "model1 = Sequential()\n",
        "model1.add(Conv1D(64,1 , activation=\"relu\", input_shape=(2,1)))\n",
        "model1.add(MaxPooling1D(pool_size=1))\n",
        "model1.add(Flatten())\n",
        "model1.add(Dense(128, activation=\"relu\"))\n",
        "model1.add(Dense(8, activation = 'softmax'))\n",
        "model1.compile(loss = 'sparse_categorical_crossentropy',\n",
        "              optimizer = \"adam\",\n",
        "              metrics = ['accuracy']\n",
        "              )"
      ],
      "execution_count": 138,
      "outputs": []
    },
    {
      "cell_type": "code",
      "metadata": {
        "id": "3haAD7LN75sN",
        "colab_type": "code",
        "colab": {
          "base_uri": "https://localhost:8080/",
          "height": 345
        },
        "outputId": "a5f1eb40-e72b-4485-d559-7a47c4d06215"
      },
      "source": [
        "model1.summary()"
      ],
      "execution_count": 139,
      "outputs": [
        {
          "output_type": "stream",
          "text": [
            "Model: \"sequential_19\"\n",
            "_________________________________________________________________\n",
            "Layer (type)                 Output Shape              Param #   \n",
            "=================================================================\n",
            "conv1d_28 (Conv1D)           (None, 2, 64)             128       \n",
            "_________________________________________________________________\n",
            "max_pooling1d_15 (MaxPooling (None, 2, 64)             0         \n",
            "_________________________________________________________________\n",
            "flatten_17 (Flatten)         (None, 128)               0         \n",
            "_________________________________________________________________\n",
            "dense_33 (Dense)             (None, 128)               16512     \n",
            "_________________________________________________________________\n",
            "dense_34 (Dense)             (None, 8)                 1032      \n",
            "=================================================================\n",
            "Total params: 17,672\n",
            "Trainable params: 17,672\n",
            "Non-trainable params: 0\n",
            "_________________________________________________________________\n"
          ],
          "name": "stdout"
        }
      ]
    },
    {
      "cell_type": "code",
      "metadata": {
        "id": "8f2DW_FN78xL",
        "colab_type": "code",
        "colab": {
          "base_uri": "https://localhost:8080/",
          "height": 1000
        },
        "outputId": "5848d797-cb13-4c49-da08-166a71d7bdd0"
      },
      "source": [
        "\n",
        "batch_size=32\n",
        "epochs=100\n",
        "model1_history=model1.fit(xtrain, ytrain,\n",
        "                          batch_size,\n",
        "                          epochs=epochs,\n",
        "                          validation_data=(xtest, ytest)\n",
        "                          )"
      ],
      "execution_count": 196,
      "outputs": [
        {
          "output_type": "stream",
          "text": [
            "Train on 136 samples, validate on 24 samples\n",
            "Epoch 1/100\n",
            "136/136 [==============================] - 0s 114us/step - loss: 1.0170 - accuracy: 0.6397 - val_loss: 1.0059 - val_accuracy: 0.6250\n",
            "Epoch 2/100\n",
            "136/136 [==============================] - 0s 92us/step - loss: 1.0280 - accuracy: 0.6324 - val_loss: 1.0068 - val_accuracy: 0.6250\n",
            "Epoch 3/100\n",
            "136/136 [==============================] - 0s 110us/step - loss: 1.0158 - accuracy: 0.6324 - val_loss: 1.0148 - val_accuracy: 0.6667\n",
            "Epoch 4/100\n",
            "136/136 [==============================] - 0s 128us/step - loss: 1.0223 - accuracy: 0.6324 - val_loss: 1.0343 - val_accuracy: 0.6250\n",
            "Epoch 5/100\n",
            "136/136 [==============================] - 0s 93us/step - loss: 1.0253 - accuracy: 0.6029 - val_loss: 1.0162 - val_accuracy: 0.6250\n",
            "Epoch 6/100\n",
            "136/136 [==============================] - 0s 80us/step - loss: 1.0173 - accuracy: 0.6250 - val_loss: 0.9910 - val_accuracy: 0.6250\n",
            "Epoch 7/100\n",
            "136/136 [==============================] - 0s 85us/step - loss: 1.0221 - accuracy: 0.6103 - val_loss: 1.0011 - val_accuracy: 0.6250\n",
            "Epoch 8/100\n",
            "136/136 [==============================] - 0s 79us/step - loss: 1.0227 - accuracy: 0.6029 - val_loss: 1.0196 - val_accuracy: 0.6250\n",
            "Epoch 9/100\n",
            "136/136 [==============================] - 0s 80us/step - loss: 1.0189 - accuracy: 0.5956 - val_loss: 1.0081 - val_accuracy: 0.6250\n",
            "Epoch 10/100\n",
            "136/136 [==============================] - 0s 80us/step - loss: 1.0221 - accuracy: 0.6324 - val_loss: 0.9936 - val_accuracy: 0.6250\n",
            "Epoch 11/100\n",
            "136/136 [==============================] - 0s 80us/step - loss: 1.0210 - accuracy: 0.6176 - val_loss: 0.9813 - val_accuracy: 0.6250\n",
            "Epoch 12/100\n",
            "136/136 [==============================] - 0s 90us/step - loss: 1.0274 - accuracy: 0.6250 - val_loss: 0.9947 - val_accuracy: 0.6250\n",
            "Epoch 13/100\n",
            "136/136 [==============================] - 0s 89us/step - loss: 1.0295 - accuracy: 0.6176 - val_loss: 0.9772 - val_accuracy: 0.6250\n",
            "Epoch 14/100\n",
            "136/136 [==============================] - 0s 85us/step - loss: 1.0192 - accuracy: 0.6397 - val_loss: 0.9958 - val_accuracy: 0.6250\n",
            "Epoch 15/100\n",
            "136/136 [==============================] - 0s 81us/step - loss: 1.0226 - accuracy: 0.6029 - val_loss: 1.0376 - val_accuracy: 0.5833\n",
            "Epoch 16/100\n",
            "136/136 [==============================] - 0s 79us/step - loss: 1.0168 - accuracy: 0.6176 - val_loss: 0.9841 - val_accuracy: 0.6667\n",
            "Epoch 17/100\n",
            "136/136 [==============================] - 0s 74us/step - loss: 1.0262 - accuracy: 0.6250 - val_loss: 0.9817 - val_accuracy: 0.6250\n",
            "Epoch 18/100\n",
            "136/136 [==============================] - 0s 83us/step - loss: 1.0124 - accuracy: 0.6324 - val_loss: 1.0201 - val_accuracy: 0.6250\n",
            "Epoch 19/100\n",
            "136/136 [==============================] - 0s 82us/step - loss: 1.0139 - accuracy: 0.6176 - val_loss: 1.0173 - val_accuracy: 0.6250\n",
            "Epoch 20/100\n",
            "136/136 [==============================] - 0s 85us/step - loss: 1.0130 - accuracy: 0.6250 - val_loss: 1.0238 - val_accuracy: 0.6250\n",
            "Epoch 21/100\n",
            "136/136 [==============================] - 0s 81us/step - loss: 1.0162 - accuracy: 0.6176 - val_loss: 1.0287 - val_accuracy: 0.5833\n",
            "Epoch 22/100\n",
            "136/136 [==============================] - 0s 83us/step - loss: 1.0144 - accuracy: 0.6103 - val_loss: 0.9974 - val_accuracy: 0.6250\n",
            "Epoch 23/100\n",
            "136/136 [==============================] - 0s 80us/step - loss: 1.0299 - accuracy: 0.6176 - val_loss: 0.9774 - val_accuracy: 0.6250\n",
            "Epoch 24/100\n",
            "136/136 [==============================] - 0s 88us/step - loss: 1.0131 - accuracy: 0.6250 - val_loss: 1.0070 - val_accuracy: 0.6250\n",
            "Epoch 25/100\n",
            "136/136 [==============================] - 0s 83us/step - loss: 1.0328 - accuracy: 0.5809 - val_loss: 1.0328 - val_accuracy: 0.5417\n",
            "Epoch 26/100\n",
            "136/136 [==============================] - 0s 78us/step - loss: 1.0225 - accuracy: 0.6397 - val_loss: 0.9920 - val_accuracy: 0.6667\n",
            "Epoch 27/100\n",
            "136/136 [==============================] - 0s 85us/step - loss: 1.0203 - accuracy: 0.6029 - val_loss: 1.0163 - val_accuracy: 0.6667\n",
            "Epoch 28/100\n",
            "136/136 [==============================] - 0s 85us/step - loss: 1.0187 - accuracy: 0.6324 - val_loss: 1.0552 - val_accuracy: 0.5833\n",
            "Epoch 29/100\n",
            "136/136 [==============================] - 0s 88us/step - loss: 1.0318 - accuracy: 0.5882 - val_loss: 1.0280 - val_accuracy: 0.5833\n",
            "Epoch 30/100\n",
            "136/136 [==============================] - 0s 87us/step - loss: 1.0116 - accuracy: 0.6397 - val_loss: 0.9716 - val_accuracy: 0.6250\n",
            "Epoch 31/100\n",
            "136/136 [==============================] - 0s 85us/step - loss: 1.0291 - accuracy: 0.6324 - val_loss: 0.9994 - val_accuracy: 0.6667\n",
            "Epoch 32/100\n",
            "136/136 [==============================] - 0s 91us/step - loss: 1.0254 - accuracy: 0.6397 - val_loss: 1.0139 - val_accuracy: 0.6667\n",
            "Epoch 33/100\n",
            "136/136 [==============================] - 0s 94us/step - loss: 1.0076 - accuracy: 0.6397 - val_loss: 1.0117 - val_accuracy: 0.5833\n",
            "Epoch 34/100\n",
            "136/136 [==============================] - 0s 82us/step - loss: 1.0182 - accuracy: 0.6176 - val_loss: 0.9843 - val_accuracy: 0.5833\n",
            "Epoch 35/100\n",
            "136/136 [==============================] - 0s 81us/step - loss: 1.0177 - accuracy: 0.6103 - val_loss: 0.9944 - val_accuracy: 0.5833\n",
            "Epoch 36/100\n",
            "136/136 [==============================] - 0s 83us/step - loss: 1.0236 - accuracy: 0.6176 - val_loss: 0.9837 - val_accuracy: 0.6250\n",
            "Epoch 37/100\n",
            "136/136 [==============================] - 0s 81us/step - loss: 1.0121 - accuracy: 0.6029 - val_loss: 0.9904 - val_accuracy: 0.5833\n",
            "Epoch 38/100\n",
            "136/136 [==============================] - 0s 83us/step - loss: 1.0345 - accuracy: 0.6103 - val_loss: 0.9853 - val_accuracy: 0.5833\n",
            "Epoch 39/100\n",
            "136/136 [==============================] - 0s 81us/step - loss: 1.0358 - accuracy: 0.6103 - val_loss: 0.9632 - val_accuracy: 0.6667\n",
            "Epoch 40/100\n",
            "136/136 [==============================] - 0s 82us/step - loss: 1.0091 - accuracy: 0.6103 - val_loss: 1.0009 - val_accuracy: 0.6250\n",
            "Epoch 41/100\n",
            "136/136 [==============================] - 0s 83us/step - loss: 1.0230 - accuracy: 0.6029 - val_loss: 1.0556 - val_accuracy: 0.6250\n",
            "Epoch 42/100\n",
            "136/136 [==============================] - 0s 102us/step - loss: 1.0303 - accuracy: 0.5882 - val_loss: 1.0490 - val_accuracy: 0.6250\n",
            "Epoch 43/100\n",
            "136/136 [==============================] - 0s 93us/step - loss: 1.0183 - accuracy: 0.6103 - val_loss: 0.9896 - val_accuracy: 0.6250\n",
            "Epoch 44/100\n",
            "136/136 [==============================] - 0s 104us/step - loss: 1.0039 - accuracy: 0.6324 - val_loss: 0.9747 - val_accuracy: 0.6250\n",
            "Epoch 45/100\n",
            "136/136 [==============================] - 0s 84us/step - loss: 1.0081 - accuracy: 0.6250 - val_loss: 0.9660 - val_accuracy: 0.6250\n",
            "Epoch 46/100\n",
            "136/136 [==============================] - 0s 91us/step - loss: 1.0202 - accuracy: 0.6397 - val_loss: 0.9698 - val_accuracy: 0.6250\n",
            "Epoch 47/100\n",
            "136/136 [==============================] - 0s 92us/step - loss: 1.0199 - accuracy: 0.6324 - val_loss: 1.0034 - val_accuracy: 0.6250\n",
            "Epoch 48/100\n",
            "136/136 [==============================] - 0s 80us/step - loss: 1.0225 - accuracy: 0.6176 - val_loss: 1.0185 - val_accuracy: 0.6667\n",
            "Epoch 49/100\n",
            "136/136 [==============================] - 0s 93us/step - loss: 1.0180 - accuracy: 0.6103 - val_loss: 1.0386 - val_accuracy: 0.6667\n",
            "Epoch 50/100\n",
            "136/136 [==============================] - 0s 94us/step - loss: 1.0220 - accuracy: 0.6250 - val_loss: 1.0243 - val_accuracy: 0.6250\n",
            "Epoch 51/100\n",
            "136/136 [==============================] - 0s 93us/step - loss: 1.0158 - accuracy: 0.6176 - val_loss: 1.0060 - val_accuracy: 0.6250\n",
            "Epoch 52/100\n",
            "136/136 [==============================] - 0s 89us/step - loss: 1.0188 - accuracy: 0.6029 - val_loss: 0.9762 - val_accuracy: 0.6667\n",
            "Epoch 53/100\n",
            "136/136 [==============================] - 0s 91us/step - loss: 1.0132 - accuracy: 0.6324 - val_loss: 1.0012 - val_accuracy: 0.6250\n",
            "Epoch 54/100\n",
            "136/136 [==============================] - 0s 105us/step - loss: 1.0160 - accuracy: 0.6029 - val_loss: 1.0164 - val_accuracy: 0.6250\n",
            "Epoch 55/100\n",
            "136/136 [==============================] - 0s 119us/step - loss: 1.0193 - accuracy: 0.6250 - val_loss: 1.0321 - val_accuracy: 0.6250\n",
            "Epoch 56/100\n",
            "136/136 [==============================] - 0s 96us/step - loss: 1.0190 - accuracy: 0.6176 - val_loss: 1.0281 - val_accuracy: 0.6250\n",
            "Epoch 57/100\n",
            "136/136 [==============================] - 0s 90us/step - loss: 1.0068 - accuracy: 0.6103 - val_loss: 1.0010 - val_accuracy: 0.6250\n",
            "Epoch 58/100\n",
            "136/136 [==============================] - 0s 94us/step - loss: 1.0159 - accuracy: 0.6176 - val_loss: 0.9625 - val_accuracy: 0.6667\n",
            "Epoch 59/100\n",
            "136/136 [==============================] - 0s 93us/step - loss: 1.0146 - accuracy: 0.6029 - val_loss: 0.9841 - val_accuracy: 0.6250\n",
            "Epoch 60/100\n",
            "136/136 [==============================] - 0s 84us/step - loss: 1.0282 - accuracy: 0.6029 - val_loss: 1.0099 - val_accuracy: 0.6250\n",
            "Epoch 61/100\n",
            "136/136 [==============================] - 0s 110us/step - loss: 1.0058 - accuracy: 0.6471 - val_loss: 0.9873 - val_accuracy: 0.6667\n",
            "Epoch 62/100\n",
            "136/136 [==============================] - 0s 93us/step - loss: 1.0214 - accuracy: 0.6103 - val_loss: 0.9781 - val_accuracy: 0.6250\n",
            "Epoch 63/100\n",
            "136/136 [==============================] - 0s 89us/step - loss: 1.0033 - accuracy: 0.6324 - val_loss: 0.9870 - val_accuracy: 0.6250\n",
            "Epoch 64/100\n",
            "136/136 [==============================] - 0s 99us/step - loss: 1.0001 - accuracy: 0.6250 - val_loss: 1.0111 - val_accuracy: 0.6250\n",
            "Epoch 65/100\n",
            "136/136 [==============================] - 0s 92us/step - loss: 1.0084 - accuracy: 0.5956 - val_loss: 1.0310 - val_accuracy: 0.5833\n",
            "Epoch 66/100\n",
            "136/136 [==============================] - 0s 91us/step - loss: 1.0060 - accuracy: 0.6103 - val_loss: 1.0002 - val_accuracy: 0.6250\n",
            "Epoch 67/100\n",
            "136/136 [==============================] - 0s 88us/step - loss: 1.0066 - accuracy: 0.6103 - val_loss: 0.9882 - val_accuracy: 0.6250\n",
            "Epoch 68/100\n",
            "136/136 [==============================] - 0s 89us/step - loss: 1.0233 - accuracy: 0.6103 - val_loss: 0.9739 - val_accuracy: 0.6667\n",
            "Epoch 69/100\n",
            "136/136 [==============================] - 0s 114us/step - loss: 1.0111 - accuracy: 0.6397 - val_loss: 0.9956 - val_accuracy: 0.6250\n",
            "Epoch 70/100\n",
            "136/136 [==============================] - 0s 98us/step - loss: 1.0047 - accuracy: 0.6250 - val_loss: 0.9771 - val_accuracy: 0.6250\n",
            "Epoch 71/100\n",
            "136/136 [==============================] - 0s 102us/step - loss: 1.0029 - accuracy: 0.6029 - val_loss: 0.9887 - val_accuracy: 0.6250\n",
            "Epoch 72/100\n",
            "136/136 [==============================] - 0s 88us/step - loss: 1.0100 - accuracy: 0.6324 - val_loss: 1.0084 - val_accuracy: 0.6250\n",
            "Epoch 73/100\n",
            "136/136 [==============================] - 0s 94us/step - loss: 1.0284 - accuracy: 0.5956 - val_loss: 1.0323 - val_accuracy: 0.6250\n",
            "Epoch 74/100\n",
            "136/136 [==============================] - 0s 96us/step - loss: 1.0027 - accuracy: 0.6103 - val_loss: 0.9871 - val_accuracy: 0.6667\n",
            "Epoch 75/100\n",
            "136/136 [==============================] - 0s 94us/step - loss: 1.0274 - accuracy: 0.5882 - val_loss: 0.9807 - val_accuracy: 0.6250\n",
            "Epoch 76/100\n",
            "136/136 [==============================] - 0s 95us/step - loss: 1.0153 - accuracy: 0.6029 - val_loss: 1.0087 - val_accuracy: 0.6250\n",
            "Epoch 77/100\n",
            "136/136 [==============================] - 0s 93us/step - loss: 1.0050 - accuracy: 0.6176 - val_loss: 1.0072 - val_accuracy: 0.6250\n",
            "Epoch 78/100\n",
            "136/136 [==============================] - 0s 124us/step - loss: 1.0128 - accuracy: 0.6176 - val_loss: 0.9831 - val_accuracy: 0.6250\n",
            "Epoch 79/100\n",
            "136/136 [==============================] - 0s 107us/step - loss: 0.9965 - accuracy: 0.6176 - val_loss: 0.9877 - val_accuracy: 0.5833\n",
            "Epoch 80/100\n",
            "136/136 [==============================] - 0s 96us/step - loss: 1.0111 - accuracy: 0.6397 - val_loss: 0.9735 - val_accuracy: 0.5833\n",
            "Epoch 81/100\n",
            "136/136 [==============================] - 0s 91us/step - loss: 1.0194 - accuracy: 0.6103 - val_loss: 0.9689 - val_accuracy: 0.6667\n",
            "Epoch 82/100\n",
            "136/136 [==============================] - 0s 78us/step - loss: 1.0157 - accuracy: 0.5956 - val_loss: 0.9928 - val_accuracy: 0.6250\n",
            "Epoch 83/100\n",
            "136/136 [==============================] - 0s 83us/step - loss: 1.0027 - accuracy: 0.6250 - val_loss: 1.0439 - val_accuracy: 0.5833\n",
            "Epoch 84/100\n",
            "136/136 [==============================] - 0s 76us/step - loss: 1.0064 - accuracy: 0.5809 - val_loss: 0.9880 - val_accuracy: 0.6250\n",
            "Epoch 85/100\n",
            "136/136 [==============================] - 0s 88us/step - loss: 0.9948 - accuracy: 0.6176 - val_loss: 0.9931 - val_accuracy: 0.6250\n",
            "Epoch 86/100\n",
            "136/136 [==============================] - 0s 93us/step - loss: 0.9963 - accuracy: 0.6324 - val_loss: 0.9913 - val_accuracy: 0.6250\n",
            "Epoch 87/100\n",
            "136/136 [==============================] - 0s 91us/step - loss: 0.9954 - accuracy: 0.6397 - val_loss: 0.9985 - val_accuracy: 0.6667\n",
            "Epoch 88/100\n",
            "136/136 [==============================] - 0s 97us/step - loss: 1.0050 - accuracy: 0.6250 - val_loss: 1.0171 - val_accuracy: 0.6250\n",
            "Epoch 89/100\n",
            "136/136 [==============================] - 0s 92us/step - loss: 0.9947 - accuracy: 0.6176 - val_loss: 0.9888 - val_accuracy: 0.6250\n",
            "Epoch 90/100\n",
            "136/136 [==============================] - 0s 88us/step - loss: 0.9966 - accuracy: 0.6397 - val_loss: 0.9848 - val_accuracy: 0.6250\n",
            "Epoch 91/100\n",
            "136/136 [==============================] - 0s 91us/step - loss: 1.0035 - accuracy: 0.6103 - val_loss: 1.0090 - val_accuracy: 0.6250\n",
            "Epoch 92/100\n",
            "136/136 [==============================] - 0s 91us/step - loss: 0.9925 - accuracy: 0.6103 - val_loss: 0.9721 - val_accuracy: 0.6667\n",
            "Epoch 93/100\n",
            "136/136 [==============================] - 0s 87us/step - loss: 1.0062 - accuracy: 0.6029 - val_loss: 0.9711 - val_accuracy: 0.6667\n",
            "Epoch 94/100\n",
            "136/136 [==============================] - 0s 83us/step - loss: 1.0012 - accuracy: 0.6324 - val_loss: 1.0053 - val_accuracy: 0.6250\n",
            "Epoch 95/100\n",
            "136/136 [==============================] - 0s 85us/step - loss: 0.9997 - accuracy: 0.6103 - val_loss: 1.0166 - val_accuracy: 0.6250\n",
            "Epoch 96/100\n",
            "136/136 [==============================] - 0s 93us/step - loss: 0.9882 - accuracy: 0.6397 - val_loss: 0.9958 - val_accuracy: 0.6667\n",
            "Epoch 97/100\n",
            "136/136 [==============================] - 0s 78us/step - loss: 0.9941 - accuracy: 0.6324 - val_loss: 1.0045 - val_accuracy: 0.6250\n",
            "Epoch 98/100\n",
            "136/136 [==============================] - 0s 96us/step - loss: 0.9966 - accuracy: 0.6324 - val_loss: 1.0109 - val_accuracy: 0.6250\n",
            "Epoch 99/100\n",
            "136/136 [==============================] - 0s 86us/step - loss: 0.9939 - accuracy: 0.6397 - val_loss: 0.9589 - val_accuracy: 0.6250\n",
            "Epoch 100/100\n",
            "136/136 [==============================] - 0s 82us/step - loss: 1.0057 - accuracy: 0.6103 - val_loss: 0.9622 - val_accuracy: 0.6250\n"
          ],
          "name": "stdout"
        }
      ]
    },
    {
      "cell_type": "code",
      "metadata": {
        "id": "d_T2keGH8juL",
        "colab_type": "code",
        "colab": {
          "base_uri": "https://localhost:8080/",
          "height": 35
        },
        "outputId": "800dca73-fc24-4f92-fe4c-cb910241ad15"
      },
      "source": [
        "acc1 = model1.evaluate(xtrain, ytrain)"
      ],
      "execution_count": 197,
      "outputs": [
        {
          "output_type": "stream",
          "text": [
            "136/136 [==============================] - 0s 46us/step\n"
          ],
          "name": "stdout"
        }
      ]
    },
    {
      "cell_type": "code",
      "metadata": {
        "id": "mElssz59AUlr",
        "colab_type": "code",
        "colab": {
          "base_uri": "https://localhost:8080/",
          "height": 35
        },
        "outputId": "64d3b9ee-a773-47f2-d746-e83f6e29d80f"
      },
      "source": [
        "print(\"Loss:\", acc1[0], \" Accuracy:\", acc1[1])"
      ],
      "execution_count": 198,
      "outputs": [
        {
          "output_type": "stream",
          "text": [
            "Loss: 1.0001393065733069  Accuracy: 0.6176470518112183\n"
          ],
          "name": "stdout"
        }
      ]
    },
    {
      "cell_type": "code",
      "metadata": {
        "id": "EQAXTceNActZ",
        "colab_type": "code",
        "colab": {}
      },
      "source": [
        "pred = model1.predict(xtest)\n",
        "pred_y = pred.argmax(axis=-1)"
      ],
      "execution_count": 199,
      "outputs": []
    },
    {
      "cell_type": "code",
      "metadata": {
        "id": "ZdhH6dRVAhoL",
        "colab_type": "code",
        "colab": {
          "base_uri": "https://localhost:8080/",
          "height": 163
        },
        "outputId": "3b1e0cfb-7e1c-4dc4-a40b-7a407760f93e"
      },
      "source": [
        "cm = confusion_matrix(ytest, pred_y)\n",
        "print(cm)"
      ],
      "execution_count": 200,
      "outputs": [
        {
          "output_type": "stream",
          "text": [
            "[[0 0 0 0 0 0 1 0]\n",
            " [0 4 0 0 0 0 0 0]\n",
            " [0 0 0 0 1 2 0 0]\n",
            " [0 0 0 3 0 0 2 0]\n",
            " [0 0 0 0 2 0 0 0]\n",
            " [1 0 0 0 0 4 0 0]\n",
            " [1 0 0 1 0 0 1 0]\n",
            " [0 0 0 0 0 0 0 1]]\n"
          ],
          "name": "stdout"
        }
      ]
    },
    {
      "cell_type": "code",
      "metadata": {
        "id": "xOunORnSf6ds",
        "colab_type": "code",
        "colab": {
          "base_uri": "https://localhost:8080/",
          "height": 295
        },
        "outputId": "a0157efa-6e88-4cb5-c82d-88b5e92c3850"
      },
      "source": [
        "\n",
        "plt.plot(model1_history.history['loss'])\n",
        "plt.plot(model1_history.history['val_loss'])\n",
        "plt.title('model train vs validation loss')\n",
        "plt.ylabel('loss')\n",
        "plt.xlabel('epoch')\n",
        "plt.legend(['train', 'validation'], loc='upper right')\n",
        "plt.show()"
      ],
      "execution_count": 201,
      "outputs": [
        {
          "output_type": "display_data",
          "data": {
            "image/png": "[encoded data removed]",
            "text/plain": [
              "<Figure size 432x288 with 1 Axes>"
            ]
          },
          "metadata": {
            "tags": [],
            "needs_background": "light"
          }
        }
      ]
    },
    {
      "cell_type": "markdown",
      "metadata": {
        "id": "pnEkGAS2TiPc",
        "colab_type": "text"
      },
      "source": [
        "Conv1D with inception layer"
      ]
    },
    {
      "cell_type": "code",
      "metadata": {
        "id": "IbxOaPjcAlsB",
        "colab_type": "code",
        "colab": {}
      },
      "source": [
        "input_layer=Input(shape=(2,1))\n",
        "conv1=Conv1D(32,1,activation='relu',padding='same')(input_layer)\n",
        "conv2=Conv1D(32,2,activation='relu',padding='same')(input_layer)\n",
        "inception_layer=concatenate([conv1,conv2],axis=-1)\n",
        "conv3=Conv1D(64,1,activation='relu')(inception_layer)\n",
        "pool=AveragePooling1D(pool_size=2)(conv3)\n",
        "flatten=Flatten()(pool)\n",
        "layer=Dense(64,activation='relu')(flatten)\n",
        "outer_layer=Dense(8,activation='softmax')(layer)\n",
        "model2 = Model(inputs=input_layer, outputs=outer_layer)"
      ],
      "execution_count": 167,
      "outputs": []
    },
    {
      "cell_type": "code",
      "metadata": {
        "id": "0c5G2KpZanGL",
        "colab_type": "code",
        "colab": {}
      },
      "source": [
        "model2.compile(loss = 'sparse_categorical_crossentropy',\n",
        "              optimizer = \"adam\",\n",
        "              metrics = ['accuracy']\n",
        "              )"
      ],
      "execution_count": 168,
      "outputs": []
    },
    {
      "cell_type": "code",
      "metadata": {
        "id": "TInW40nzdHVg",
        "colab_type": "code",
        "colab": {
          "base_uri": "https://localhost:8080/",
          "height": 508
        },
        "outputId": "040bb227-51f6-4974-cc7d-6b2a4cb0f081"
      },
      "source": [
        "model2.summary()"
      ],
      "execution_count": 169,
      "outputs": [
        {
          "output_type": "stream",
          "text": [
            "Model: \"model_4\"\n",
            "__________________________________________________________________________________________________\n",
            "Layer (type)                    Output Shape         Param #     Connected to                     \n",
            "==================================================================================================\n",
            "input_7 (InputLayer)            (None, 2, 1)         0                                            \n",
            "__________________________________________________________________________________________________\n",
            "conv1d_35 (Conv1D)              (None, 2, 32)        64          input_7[0][0]                    \n",
            "__________________________________________________________________________________________________\n",
            "conv1d_36 (Conv1D)              (None, 2, 32)        96          input_7[0][0]                    \n",
            "__________________________________________________________________________________________________\n",
            "concatenate_6 (Concatenate)     (None, 2, 64)        0           conv1d_35[0][0]                  \n",
            "                                                                 conv1d_36[0][0]                  \n",
            "__________________________________________________________________________________________________\n",
            "conv1d_37 (Conv1D)              (None, 2, 64)        4160        concatenate_6[0][0]              \n",
            "__________________________________________________________________________________________________\n",
            "average_pooling1d_5 (AveragePoo (None, 1, 64)        0           conv1d_37[0][0]                  \n",
            "__________________________________________________________________________________________________\n",
            "flatten_20 (Flatten)            (None, 64)           0           average_pooling1d_5[0][0]        \n",
            "__________________________________________________________________________________________________\n",
            "dense_39 (Dense)                (None, 64)           4160        flatten_20[0][0]                 \n",
            "__________________________________________________________________________________________________\n",
            "dense_40 (Dense)                (None, 8)            520         dense_39[0][0]                   \n",
            "==================================================================================================\n",
            "Total params: 9,000\n",
            "Trainable params: 9,000\n",
            "Non-trainable params: 0\n",
            "__________________________________________________________________________________________________\n"
          ],
          "name": "stdout"
        }
      ]
    },
    {
      "cell_type": "code",
      "metadata": {
        "id": "VMXxo49NdJ6-",
        "colab_type": "code",
        "colab": {
          "base_uri": "https://localhost:8080/",
          "height": 1000
        },
        "outputId": "6fb6825a-2608-4f99-8c61-c0306524386c"
      },
      "source": [
        "batch_size=32\n",
        "epochs=100\n",
        "model2_history=model2.fit(xtrain, ytrain,\n",
        "                          batch_size,\n",
        "                          epochs=epochs,\n",
        "                          validation_data=(xtest, ytest)\n",
        "                          )"
      ],
      "execution_count": 202,
      "outputs": [
        {
          "output_type": "stream",
          "text": [
            "Train on 136 samples, validate on 24 samples\n",
            "Epoch 1/100\n",
            "136/136 [==============================] - 0s 132us/step - loss: 1.1676 - accuracy: 0.5809 - val_loss: 1.1004 - val_accuracy: 0.6250\n",
            "Epoch 2/100\n",
            "136/136 [==============================] - 0s 97us/step - loss: 1.1771 - accuracy: 0.5956 - val_loss: 1.1230 - val_accuracy: 0.6667\n",
            "Epoch 3/100\n",
            "136/136 [==============================] - 0s 96us/step - loss: 1.1905 - accuracy: 0.5074 - val_loss: 1.1323 - val_accuracy: 0.6667\n",
            "Epoch 4/100\n",
            "136/136 [==============================] - 0s 100us/step - loss: 1.1764 - accuracy: 0.5882 - val_loss: 1.0928 - val_accuracy: 0.6250\n",
            "Epoch 5/100\n",
            "136/136 [==============================] - 0s 122us/step - loss: 1.1790 - accuracy: 0.5809 - val_loss: 1.1007 - val_accuracy: 0.6667\n",
            "Epoch 6/100\n",
            "136/136 [==============================] - 0s 107us/step - loss: 1.1934 - accuracy: 0.5588 - val_loss: 1.1338 - val_accuracy: 0.6667\n",
            "Epoch 7/100\n",
            "136/136 [==============================] - 0s 104us/step - loss: 1.1708 - accuracy: 0.5809 - val_loss: 1.0867 - val_accuracy: 0.5833\n",
            "Epoch 8/100\n",
            "136/136 [==============================] - 0s 102us/step - loss: 1.1903 - accuracy: 0.5588 - val_loss: 1.0959 - val_accuracy: 0.6667\n",
            "Epoch 9/100\n",
            "136/136 [==============================] - 0s 97us/step - loss: 1.1678 - accuracy: 0.5882 - val_loss: 1.1054 - val_accuracy: 0.6667\n",
            "Epoch 10/100\n",
            "136/136 [==============================] - 0s 96us/step - loss: 1.1620 - accuracy: 0.6029 - val_loss: 1.0877 - val_accuracy: 0.6250\n",
            "Epoch 11/100\n",
            "136/136 [==============================] - 0s 99us/step - loss: 1.1633 - accuracy: 0.5662 - val_loss: 1.1254 - val_accuracy: 0.6667\n",
            "Epoch 12/100\n",
            "136/136 [==============================] - 0s 103us/step - loss: 1.1761 - accuracy: 0.5662 - val_loss: 1.1104 - val_accuracy: 0.6667\n",
            "Epoch 13/100\n",
            "136/136 [==============================] - 0s 93us/step - loss: 1.1542 - accuracy: 0.5882 - val_loss: 1.1235 - val_accuracy: 0.5000\n",
            "Epoch 14/100\n",
            "136/136 [==============================] - 0s 99us/step - loss: 1.1750 - accuracy: 0.5515 - val_loss: 1.0911 - val_accuracy: 0.6250\n",
            "Epoch 15/100\n",
            "136/136 [==============================] - 0s 103us/step - loss: 1.1542 - accuracy: 0.5956 - val_loss: 1.0989 - val_accuracy: 0.6667\n",
            "Epoch 16/100\n",
            "136/136 [==============================] - 0s 114us/step - loss: 1.1611 - accuracy: 0.5809 - val_loss: 1.0799 - val_accuracy: 0.6250\n",
            "Epoch 17/100\n",
            "136/136 [==============================] - 0s 100us/step - loss: 1.1730 - accuracy: 0.5809 - val_loss: 1.0933 - val_accuracy: 0.6667\n",
            "Epoch 18/100\n",
            "136/136 [==============================] - 0s 97us/step - loss: 1.1569 - accuracy: 0.5735 - val_loss: 1.0860 - val_accuracy: 0.6667\n",
            "Epoch 19/100\n",
            "136/136 [==============================] - 0s 106us/step - loss: 1.1717 - accuracy: 0.5735 - val_loss: 1.0752 - val_accuracy: 0.6250\n",
            "Epoch 20/100\n",
            "136/136 [==============================] - 0s 114us/step - loss: 1.1565 - accuracy: 0.5588 - val_loss: 1.1331 - val_accuracy: 0.6667\n",
            "Epoch 21/100\n",
            "136/136 [==============================] - 0s 109us/step - loss: 1.1700 - accuracy: 0.5368 - val_loss: 1.0775 - val_accuracy: 0.6250\n",
            "Epoch 22/100\n",
            "136/136 [==============================] - 0s 120us/step - loss: 1.1551 - accuracy: 0.5809 - val_loss: 1.0704 - val_accuracy: 0.6250\n",
            "Epoch 23/100\n",
            "136/136 [==============================] - 0s 114us/step - loss: 1.1519 - accuracy: 0.5809 - val_loss: 1.1058 - val_accuracy: 0.7083\n",
            "Epoch 24/100\n",
            "136/136 [==============================] - 0s 137us/step - loss: 1.1461 - accuracy: 0.5515 - val_loss: 1.0710 - val_accuracy: 0.6250\n",
            "Epoch 25/100\n",
            "136/136 [==============================] - 0s 132us/step - loss: 1.1710 - accuracy: 0.5882 - val_loss: 1.0610 - val_accuracy: 0.6250\n",
            "Epoch 26/100\n",
            "136/136 [==============================] - 0s 125us/step - loss: 1.1385 - accuracy: 0.5735 - val_loss: 1.0727 - val_accuracy: 0.6250\n",
            "Epoch 27/100\n",
            "136/136 [==============================] - 0s 137us/step - loss: 1.1498 - accuracy: 0.5662 - val_loss: 1.0634 - val_accuracy: 0.6250\n",
            "Epoch 28/100\n",
            "136/136 [==============================] - 0s 142us/step - loss: 1.1369 - accuracy: 0.6029 - val_loss: 1.0532 - val_accuracy: 0.6250\n",
            "Epoch 29/100\n",
            "136/136 [==============================] - 0s 118us/step - loss: 1.1455 - accuracy: 0.5735 - val_loss: 1.0599 - val_accuracy: 0.6250\n",
            "Epoch 30/100\n",
            "136/136 [==============================] - 0s 127us/step - loss: 1.1413 - accuracy: 0.5735 - val_loss: 1.0783 - val_accuracy: 0.6250\n",
            "Epoch 31/100\n",
            "136/136 [==============================] - 0s 125us/step - loss: 1.1403 - accuracy: 0.5735 - val_loss: 1.0740 - val_accuracy: 0.6250\n",
            "Epoch 32/100\n",
            "136/136 [==============================] - 0s 123us/step - loss: 1.1372 - accuracy: 0.5882 - val_loss: 1.0728 - val_accuracy: 0.6250\n",
            "Epoch 33/100\n",
            "136/136 [==============================] - 0s 142us/step - loss: 1.1393 - accuracy: 0.5882 - val_loss: 1.0851 - val_accuracy: 0.6667\n",
            "Epoch 34/100\n",
            "136/136 [==============================] - 0s 132us/step - loss: 1.1249 - accuracy: 0.6324 - val_loss: 1.0487 - val_accuracy: 0.6250\n",
            "Epoch 35/100\n",
            "136/136 [==============================] - 0s 141us/step - loss: 1.1585 - accuracy: 0.5809 - val_loss: 1.0536 - val_accuracy: 0.6250\n",
            "Epoch 36/100\n",
            "136/136 [==============================] - 0s 124us/step - loss: 1.1353 - accuracy: 0.5882 - val_loss: 1.0987 - val_accuracy: 0.6667\n",
            "Epoch 37/100\n",
            "136/136 [==============================] - 0s 136us/step - loss: 1.1385 - accuracy: 0.5368 - val_loss: 1.0489 - val_accuracy: 0.6250\n",
            "Epoch 38/100\n",
            "136/136 [==============================] - 0s 131us/step - loss: 1.1393 - accuracy: 0.5956 - val_loss: 1.0495 - val_accuracy: 0.6250\n",
            "Epoch 39/100\n",
            "136/136 [==============================] - 0s 129us/step - loss: 1.1430 - accuracy: 0.5662 - val_loss: 1.0860 - val_accuracy: 0.5417\n",
            "Epoch 40/100\n",
            "136/136 [==============================] - 0s 141us/step - loss: 1.1516 - accuracy: 0.5441 - val_loss: 1.0854 - val_accuracy: 0.6667\n",
            "Epoch 41/100\n",
            "136/136 [==============================] - 0s 127us/step - loss: 1.1676 - accuracy: 0.5588 - val_loss: 1.0686 - val_accuracy: 0.6667\n",
            "Epoch 42/100\n",
            "136/136 [==============================] - 0s 138us/step - loss: 1.1247 - accuracy: 0.5882 - val_loss: 1.0493 - val_accuracy: 0.5833\n",
            "Epoch 43/100\n",
            "136/136 [==============================] - 0s 129us/step - loss: 1.1389 - accuracy: 0.5368 - val_loss: 1.0769 - val_accuracy: 0.6667\n",
            "Epoch 44/100\n",
            "136/136 [==============================] - 0s 125us/step - loss: 1.1307 - accuracy: 0.5662 - val_loss: 1.0547 - val_accuracy: 0.6250\n",
            "Epoch 45/100\n",
            "136/136 [==============================] - 0s 110us/step - loss: 1.1429 - accuracy: 0.5588 - val_loss: 1.0634 - val_accuracy: 0.6250\n",
            "Epoch 46/100\n",
            "136/136 [==============================] - 0s 117us/step - loss: 1.1283 - accuracy: 0.5809 - val_loss: 1.0883 - val_accuracy: 0.6667\n",
            "Epoch 47/100\n",
            "136/136 [==============================] - 0s 128us/step - loss: 1.1393 - accuracy: 0.5956 - val_loss: 1.0636 - val_accuracy: 0.6250\n",
            "Epoch 48/100\n",
            "136/136 [==============================] - 0s 108us/step - loss: 1.1179 - accuracy: 0.6176 - val_loss: 1.0795 - val_accuracy: 0.6250\n",
            "Epoch 49/100\n",
            "136/136 [==============================] - 0s 111us/step - loss: 1.1319 - accuracy: 0.6250 - val_loss: 1.0767 - val_accuracy: 0.6250\n",
            "Epoch 50/100\n",
            "136/136 [==============================] - 0s 114us/step - loss: 1.1212 - accuracy: 0.5956 - val_loss: 1.1043 - val_accuracy: 0.7083\n",
            "Epoch 51/100\n",
            "136/136 [==============================] - 0s 115us/step - loss: 1.1329 - accuracy: 0.5515 - val_loss: 1.0555 - val_accuracy: 0.6250\n",
            "Epoch 52/100\n",
            "136/136 [==============================] - 0s 119us/step - loss: 1.1300 - accuracy: 0.6029 - val_loss: 1.0298 - val_accuracy: 0.6250\n",
            "Epoch 53/100\n",
            "136/136 [==============================] - 0s 106us/step - loss: 1.1287 - accuracy: 0.5735 - val_loss: 1.0730 - val_accuracy: 0.6667\n",
            "Epoch 54/100\n",
            "136/136 [==============================] - 0s 130us/step - loss: 1.1226 - accuracy: 0.5809 - val_loss: 1.0503 - val_accuracy: 0.6250\n",
            "Epoch 55/100\n",
            "136/136 [==============================] - 0s 122us/step - loss: 1.1305 - accuracy: 0.5588 - val_loss: 1.0464 - val_accuracy: 0.6250\n",
            "Epoch 56/100\n",
            "136/136 [==============================] - 0s 154us/step - loss: 1.1110 - accuracy: 0.6103 - val_loss: 1.0818 - val_accuracy: 0.7083\n",
            "Epoch 57/100\n",
            "136/136 [==============================] - 0s 114us/step - loss: 1.1194 - accuracy: 0.5809 - val_loss: 1.0740 - val_accuracy: 0.5000\n",
            "Epoch 58/100\n",
            "136/136 [==============================] - 0s 138us/step - loss: 1.1234 - accuracy: 0.5882 - val_loss: 1.0408 - val_accuracy: 0.6250\n",
            "Epoch 59/100\n",
            "136/136 [==============================] - 0s 123us/step - loss: 1.1256 - accuracy: 0.5956 - val_loss: 1.0363 - val_accuracy: 0.6250\n",
            "Epoch 60/100\n",
            "136/136 [==============================] - 0s 104us/step - loss: 1.1458 - accuracy: 0.5735 - val_loss: 1.0816 - val_accuracy: 0.5833\n",
            "Epoch 61/100\n",
            "136/136 [==============================] - 0s 113us/step - loss: 1.1540 - accuracy: 0.5441 - val_loss: 1.0894 - val_accuracy: 0.6667\n",
            "Epoch 62/100\n",
            "136/136 [==============================] - 0s 111us/step - loss: 1.1437 - accuracy: 0.5515 - val_loss: 1.0552 - val_accuracy: 0.6250\n",
            "Epoch 63/100\n",
            "136/136 [==============================] - 0s 109us/step - loss: 1.1147 - accuracy: 0.5956 - val_loss: 1.0854 - val_accuracy: 0.6667\n",
            "Epoch 64/100\n",
            "136/136 [==============================] - 0s 115us/step - loss: 1.1245 - accuracy: 0.5588 - val_loss: 1.0383 - val_accuracy: 0.6250\n",
            "Epoch 65/100\n",
            "136/136 [==============================] - 0s 114us/step - loss: 1.1078 - accuracy: 0.6103 - val_loss: 1.0390 - val_accuracy: 0.6250\n",
            "Epoch 66/100\n",
            "136/136 [==============================] - 0s 102us/step - loss: 1.1293 - accuracy: 0.5735 - val_loss: 1.0460 - val_accuracy: 0.6250\n",
            "Epoch 67/100\n",
            "136/136 [==============================] - 0s 120us/step - loss: 1.1011 - accuracy: 0.6103 - val_loss: 1.0396 - val_accuracy: 0.6250\n",
            "Epoch 68/100\n",
            "136/136 [==============================] - 0s 139us/step - loss: 1.0925 - accuracy: 0.6029 - val_loss: 1.0609 - val_accuracy: 0.6667\n",
            "Epoch 69/100\n",
            "136/136 [==============================] - 0s 124us/step - loss: 1.0961 - accuracy: 0.5956 - val_loss: 1.0630 - val_accuracy: 0.6250\n",
            "Epoch 70/100\n",
            "136/136 [==============================] - 0s 133us/step - loss: 1.1009 - accuracy: 0.5809 - val_loss: 1.0401 - val_accuracy: 0.6667\n",
            "Epoch 71/100\n",
            "136/136 [==============================] - 0s 138us/step - loss: 1.1215 - accuracy: 0.5368 - val_loss: 1.0109 - val_accuracy: 0.6250\n",
            "Epoch 72/100\n",
            "136/136 [==============================] - 0s 102us/step - loss: 1.1417 - accuracy: 0.5588 - val_loss: 1.0124 - val_accuracy: 0.5833\n",
            "Epoch 73/100\n",
            "136/136 [==============================] - 0s 143us/step - loss: 1.0833 - accuracy: 0.5735 - val_loss: 1.1009 - val_accuracy: 0.7083\n",
            "Epoch 74/100\n",
            "136/136 [==============================] - 0s 109us/step - loss: 1.1542 - accuracy: 0.5221 - val_loss: 1.0000 - val_accuracy: 0.6250\n",
            "Epoch 75/100\n",
            "136/136 [==============================] - 0s 186us/step - loss: 1.0894 - accuracy: 0.6103 - val_loss: 1.0300 - val_accuracy: 0.5833\n",
            "Epoch 76/100\n",
            "136/136 [==============================] - 0s 142us/step - loss: 1.0914 - accuracy: 0.5882 - val_loss: 1.0352 - val_accuracy: 0.6250\n",
            "Epoch 77/100\n",
            "136/136 [==============================] - 0s 137us/step - loss: 1.0852 - accuracy: 0.6029 - val_loss: 1.0294 - val_accuracy: 0.5833\n",
            "Epoch 78/100\n",
            "136/136 [==============================] - 0s 121us/step - loss: 1.0868 - accuracy: 0.6103 - val_loss: 1.0479 - val_accuracy: 0.6250\n",
            "Epoch 79/100\n",
            "136/136 [==============================] - 0s 120us/step - loss: 1.0908 - accuracy: 0.5662 - val_loss: 1.0229 - val_accuracy: 0.5833\n",
            "Epoch 80/100\n",
            "136/136 [==============================] - 0s 116us/step - loss: 1.1073 - accuracy: 0.5588 - val_loss: 1.0085 - val_accuracy: 0.6250\n",
            "Epoch 81/100\n",
            "136/136 [==============================] - 0s 114us/step - loss: 1.1078 - accuracy: 0.5441 - val_loss: 1.0517 - val_accuracy: 0.6667\n",
            "Epoch 82/100\n",
            "136/136 [==============================] - 0s 98us/step - loss: 1.0946 - accuracy: 0.6176 - val_loss: 1.0596 - val_accuracy: 0.4583\n",
            "Epoch 83/100\n",
            "136/136 [==============================] - 0s 116us/step - loss: 1.0920 - accuracy: 0.5735 - val_loss: 1.0465 - val_accuracy: 0.6250\n",
            "Epoch 84/100\n",
            "136/136 [==============================] - 0s 116us/step - loss: 1.0914 - accuracy: 0.5588 - val_loss: 1.0193 - val_accuracy: 0.6250\n",
            "Epoch 85/100\n",
            "136/136 [==============================] - 0s 104us/step - loss: 1.1022 - accuracy: 0.5809 - val_loss: 1.0308 - val_accuracy: 0.7083\n",
            "Epoch 86/100\n",
            "136/136 [==============================] - 0s 112us/step - loss: 1.0937 - accuracy: 0.5735 - val_loss: 1.0138 - val_accuracy: 0.6250\n",
            "Epoch 87/100\n",
            "136/136 [==============================] - 0s 155us/step - loss: 1.1007 - accuracy: 0.5882 - val_loss: 1.0325 - val_accuracy: 0.6250\n",
            "Epoch 88/100\n",
            "136/136 [==============================] - 0s 111us/step - loss: 1.0927 - accuracy: 0.5588 - val_loss: 1.0506 - val_accuracy: 0.4583\n",
            "Epoch 89/100\n",
            "136/136 [==============================] - 0s 117us/step - loss: 1.1368 - accuracy: 0.5221 - val_loss: 1.0526 - val_accuracy: 0.6667\n",
            "Epoch 90/100\n",
            "136/136 [==============================] - 0s 133us/step - loss: 1.0893 - accuracy: 0.5662 - val_loss: 0.9944 - val_accuracy: 0.5833\n",
            "Epoch 91/100\n",
            "136/136 [==============================] - 0s 114us/step - loss: 1.0875 - accuracy: 0.5956 - val_loss: 0.9996 - val_accuracy: 0.6250\n",
            "Epoch 92/100\n",
            "136/136 [==============================] - 0s 108us/step - loss: 1.0803 - accuracy: 0.5662 - val_loss: 0.9870 - val_accuracy: 0.6667\n",
            "Epoch 93/100\n",
            "136/136 [==============================] - 0s 105us/step - loss: 1.0816 - accuracy: 0.5882 - val_loss: 1.0067 - val_accuracy: 0.5833\n",
            "Epoch 94/100\n",
            "136/136 [==============================] - 0s 107us/step - loss: 1.0869 - accuracy: 0.5588 - val_loss: 1.0372 - val_accuracy: 0.6250\n",
            "Epoch 95/100\n",
            "136/136 [==============================] - 0s 107us/step - loss: 1.0825 - accuracy: 0.6103 - val_loss: 1.0277 - val_accuracy: 0.6250\n",
            "Epoch 96/100\n",
            "136/136 [==============================] - 0s 108us/step - loss: 1.1161 - accuracy: 0.5441 - val_loss: 1.0147 - val_accuracy: 0.6667\n",
            "Epoch 97/100\n",
            "136/136 [==============================] - 0s 119us/step - loss: 1.1149 - accuracy: 0.5882 - val_loss: 1.0084 - val_accuracy: 0.6667\n",
            "Epoch 98/100\n",
            "136/136 [==============================] - 0s 131us/step - loss: 1.1310 - accuracy: 0.5294 - val_loss: 1.0025 - val_accuracy: 0.5833\n",
            "Epoch 99/100\n",
            "136/136 [==============================] - 0s 100us/step - loss: 1.1073 - accuracy: 0.5809 - val_loss: 1.0829 - val_accuracy: 0.6667\n",
            "Epoch 100/100\n",
            "136/136 [==============================] - 0s 99us/step - loss: 1.0922 - accuracy: 0.5809 - val_loss: 1.0222 - val_accuracy: 0.5417\n"
          ],
          "name": "stdout"
        }
      ]
    },
    {
      "cell_type": "code",
      "metadata": {
        "id": "kUzUFlcmdlt1",
        "colab_type": "code",
        "colab": {
          "base_uri": "https://localhost:8080/",
          "height": 35
        },
        "outputId": "ff0149ca-2635-4c62-e2c6-bb4ec318aab7"
      },
      "source": [
        "acc2 = model2.evaluate(xtrain, ytrain)"
      ],
      "execution_count": 203,
      "outputs": [
        {
          "output_type": "stream",
          "text": [
            "136/136 [==============================] - 0s 61us/step\n"
          ],
          "name": "stdout"
        }
      ]
    },
    {
      "cell_type": "code",
      "metadata": {
        "id": "tAGOWZlBeQwv",
        "colab_type": "code",
        "colab": {
          "base_uri": "https://localhost:8080/",
          "height": 35
        },
        "outputId": "fd363afe-185f-4fee-a1be-471d15f10e53"
      },
      "source": [
        "acc2"
      ],
      "execution_count": 204,
      "outputs": [
        {
          "output_type": "execute_result",
          "data": {
            "text/plain": [
              "[1.0957669370314653, 0.5588235259056091]"
            ]
          },
          "metadata": {
            "tags": []
          },
          "execution_count": 204
        }
      ]
    },
    {
      "cell_type": "code",
      "metadata": {
        "id": "LXjLbe3HdqnN",
        "colab_type": "code",
        "colab": {
          "base_uri": "https://localhost:8080/",
          "height": 35
        },
        "outputId": "73225126-c006-44fe-8aa4-3048faa9e8eb"
      },
      "source": [
        "print(\"Loss:\", acc2[0], \" Accuracy:\", acc2[1])"
      ],
      "execution_count": 205,
      "outputs": [
        {
          "output_type": "stream",
          "text": [
            "Loss: 1.0957669370314653  Accuracy: 0.5588235259056091\n"
          ],
          "name": "stdout"
        }
      ]
    },
    {
      "cell_type": "code",
      "metadata": {
        "id": "9Rf6P-YwdvBc",
        "colab_type": "code",
        "colab": {
          "base_uri": "https://localhost:8080/",
          "height": 295
        },
        "outputId": "bb9a9a85-a7ea-44c3-e6e6-fb4508226abc"
      },
      "source": [
        "plt.plot(model2_history.history['loss'])\n",
        "plt.plot(model2_history.history['val_loss'])\n",
        "plt.title('model train vs validation loss')\n",
        "plt.ylabel('loss')\n",
        "plt.xlabel('epoch')\n",
        "plt.legend(['train', 'validation'], loc='upper right')\n",
        "plt.show()"
      ],
      "execution_count": 206,
      "outputs": [
        {
          "output_type": "display_data",
          "data": {
            "image/png": "[encoded data removed]",
            "text/plain": [
              "<Figure size 432x288 with 1 Axes>"
            ]
          },
          "metadata": {
            "tags": [],
            "needs_background": "light"
          }
        }
      ]
    },
    {
      "cell_type": "code",
      "metadata": {
        "id": "GfOnVlzqeW4F",
        "colab_type": "code",
        "colab": {}
      },
      "source": [
        ""
      ],
      "execution_count": null,
      "outputs": []
    }
  ]
}
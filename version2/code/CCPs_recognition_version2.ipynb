{
  "nbformat": 4,
  "nbformat_minor": 0,
  "metadata": {
    "colab": {
      "name": "CCPs_recognition_version2.ipynb",
      "provenance": []
    },
    "kernelspec": {
      "name": "python3",
      "display_name": "Python 3"
    }
  },
  "cells": [
    {
      "cell_type": "code",
      "metadata": {
        "id": "ncWdARTaucf4"
      },
      "source": [
        "import numpy as np\n",
        "import pandas as pd\n",
        "from tensorflow import keras\n",
        "from keras.models import Sequential\n",
        "from keras.layers import Dense, Conv1D, Flatten, MaxPooling1D,AveragePooling1D,Dropout,BatchNormalization\n",
        "from sklearn.model_selection import train_test_split\n",
        "from sklearn.metrics import confusion_matrix\n",
        "from sklearn.datasets import load_iris\n",
        "from numpy import unique\n",
        "from keras.layers.merge import concatenate\n",
        "from keras.models import Model\n",
        "from keras.layers import Input\n",
        "import matplotlib.pyplot as plt"
      ],
      "execution_count": null,
      "outputs": []
    },
    {
      "cell_type": "code",
      "metadata": {
        "id": "5gh6PkwbgaGc"
      },
      "source": [
        "X=pd.read_csv('/content/x.csv')\n",
        "Patterns=pd.read_csv('/content/y.csv')"
      ],
      "execution_count": null,
      "outputs": []
    },
    {
      "cell_type": "code",
      "metadata": {
        "id": "v0AmJRWWFjhU"
      },
      "source": [
        "encode_dic = {'nor': 0, \n",
        "              'cyc': 1, \n",
        "              'sys': 2, \n",
        "              'str': 3, \n",
        "              'ut': 4,\n",
        "              'dt': 5, \n",
        "              'us': 6, \n",
        "              'ds': 7}\n",
        "decode_dic = {0: 'nor',\n",
        "              1: 'cyc',\n",
        "              2: 'sys',\n",
        "              3: 'str',\n",
        "              4: 'ut',\n",
        "              5: 'dt',\n",
        "              6: 'us',\n",
        "              7: 'ds'}"
      ],
      "execution_count": null,
      "outputs": []
    },
    {
      "cell_type": "code",
      "metadata": {
        "id": "J3TKuwSOFoZq"
      },
      "source": [
        "Y= Patterns['pattern'].map(encode_dic).astype(int)"
      ],
      "execution_count": null,
      "outputs": []
    },
    {
      "cell_type": "code",
      "metadata": {
        "id": "SuREGJjCGhc5",
        "colab": {
          "base_uri": "https://localhost:8080/",
          "height": 34
        },
        "outputId": "32475f93-168e-455c-f6cf-07f322f49897"
      },
      "source": [
        "Y.shape"
      ],
      "execution_count": null,
      "outputs": [
        {
          "output_type": "execute_result",
          "data": {
            "text/plain": [
              "(2736,)"
            ]
          },
          "metadata": {
            "tags": []
          },
          "execution_count": 5
        }
      ]
    },
    {
      "cell_type": "code",
      "metadata": {
        "id": "n5I08LoNjbdQ"
      },
      "source": [
        "x_train=X.iloc[0:76800,1:].values\n",
        "x_test=X.iloc[76800:87552,1:].values\n",
        "y_train=Y.iloc[0:2400,].values\n",
        "y_test=Y.iloc[2400:2736,].values"
      ],
      "execution_count": null,
      "outputs": []
    },
    {
      "cell_type": "code",
      "metadata": {
        "id": "_vQTibH1gm-m",
        "colab": {
          "base_uri": "https://localhost:8080/",
          "height": 34
        },
        "outputId": "cc4a53df-ddf7-4c72-87c2-366e9158620b"
      },
      "source": [
        "x_train.shape,x_test.shape,y_train.shape,y_test.shape"
      ],
      "execution_count": null,
      "outputs": [
        {
          "output_type": "execute_result",
          "data": {
            "text/plain": [
              "((76800, 2), (10752, 2), (2400,), (336,))"
            ]
          },
          "metadata": {
            "tags": []
          },
          "execution_count": 7
        }
      ]
    },
    {
      "cell_type": "code",
      "metadata": {
        "id": "HmiHBBz2jUen"
      },
      "source": [
        "x_train= x_train.reshape((2400,32, 2))\n",
        "x_test=x_test.reshape((336,32,2))"
      ],
      "execution_count": null,
      "outputs": []
    },
    {
      "cell_type": "code",
      "metadata": {
        "id": "QMJQQaAVj8XP"
      },
      "source": [
        "model1 = Sequential()\n",
        "model1.add(Conv1D(112,3 , activation=\"relu\",strides=1, input_shape=(32,2)))\n",
        "model1.add(MaxPooling1D(pool_size=2))\n",
        "model1.add(Flatten())\n",
        "model1.add(Dense(80, activation=\"relu\"))\n",
        "model1.add(Dense(8, activation = 'softmax'))\n",
        "model1.compile(loss = 'sparse_categorical_crossentropy',\n",
        "              optimizer = \"adam\",\n",
        "              metrics = ['accuracy']\n",
        "              )"
      ],
      "execution_count": null,
      "outputs": []
    },
    {
      "cell_type": "code",
      "metadata": {
        "id": "EIeiMI6AvM5c",
        "colab": {
          "base_uri": "https://localhost:8080/",
          "height": 323
        },
        "outputId": "4fab4562-d284-4dcb-a260-836529785719"
      },
      "source": [
        "model1.summary()"
      ],
      "execution_count": null,
      "outputs": [
        {
          "output_type": "stream",
          "text": [
            "Model: \"sequential_5\"\n",
            "_________________________________________________________________\n",
            "Layer (type)                 Output Shape              Param #   \n",
            "=================================================================\n",
            "conv1d_5 (Conv1D)            (None, 30, 112)           784       \n",
            "_________________________________________________________________\n",
            "max_pooling1d_5 (MaxPooling1 (None, 15, 112)           0         \n",
            "_________________________________________________________________\n",
            "flatten_5 (Flatten)          (None, 1680)              0         \n",
            "_________________________________________________________________\n",
            "dense_10 (Dense)             (None, 80)                134480    \n",
            "_________________________________________________________________\n",
            "dense_11 (Dense)             (None, 8)                 648       \n",
            "=================================================================\n",
            "Total params: 135,912\n",
            "Trainable params: 135,912\n",
            "Non-trainable params: 0\n",
            "_________________________________________________________________\n"
          ],
          "name": "stdout"
        }
      ]
    },
    {
      "cell_type": "code",
      "metadata": {
        "id": "EdjbtRjuxcYm",
        "colab": {
          "base_uri": "https://localhost:8080/",
          "height": 1000
        },
        "outputId": "70773ca0-a5c9-4856-b810-e9cd5aee1bdb"
      },
      "source": [
        "batch_size=64\n",
        "epochs=210\n",
        "model1_history=model1.fit(x_train, y_train,\n",
        "                          epochs=epochs,\n",
        "                          batch_size=64,\n",
        "                          validation_data=(x_test, y_test)\n",
        "                          )"
      ],
      "execution_count": null,
      "outputs": [
        {
          "output_type": "stream",
          "text": [
            "Epoch 1/210\n",
            "38/38 [==============================] - 0s 10ms/step - loss: 52.2844 - accuracy: 0.1292 - val_loss: 26.6467 - val_accuracy: 0.1280\n",
            "Epoch 2/210\n",
            "38/38 [==============================] - 0s 7ms/step - loss: 16.0661 - accuracy: 0.1183 - val_loss: 18.3890 - val_accuracy: 0.1280\n",
            "Epoch 3/210\n",
            "38/38 [==============================] - 0s 7ms/step - loss: 10.4863 - accuracy: 0.1321 - val_loss: 7.0778 - val_accuracy: 0.1905\n",
            "Epoch 4/210\n",
            "38/38 [==============================] - 0s 7ms/step - loss: 9.4566 - accuracy: 0.1367 - val_loss: 8.5901 - val_accuracy: 0.1310\n",
            "Epoch 5/210\n",
            "38/38 [==============================] - 0s 7ms/step - loss: 10.7746 - accuracy: 0.1408 - val_loss: 7.2690 - val_accuracy: 0.1577\n",
            "Epoch 6/210\n",
            "38/38 [==============================] - 0s 7ms/step - loss: 7.5961 - accuracy: 0.1587 - val_loss: 5.1161 - val_accuracy: 0.1488\n",
            "Epoch 7/210\n",
            "38/38 [==============================] - 0s 6ms/step - loss: 4.2779 - accuracy: 0.1717 - val_loss: 4.1923 - val_accuracy: 0.2024\n",
            "Epoch 8/210\n",
            "38/38 [==============================] - 0s 6ms/step - loss: 3.6468 - accuracy: 0.1988 - val_loss: 4.0985 - val_accuracy: 0.2113\n",
            "Epoch 9/210\n",
            "38/38 [==============================] - 0s 7ms/step - loss: 4.0213 - accuracy: 0.1946 - val_loss: 4.6411 - val_accuracy: 0.1637\n",
            "Epoch 10/210\n",
            "38/38 [==============================] - 0s 6ms/step - loss: 2.6719 - accuracy: 0.2196 - val_loss: 2.5183 - val_accuracy: 0.1875\n",
            "Epoch 11/210\n",
            "38/38 [==============================] - 0s 7ms/step - loss: 2.4778 - accuracy: 0.2438 - val_loss: 2.4513 - val_accuracy: 0.1964\n",
            "Epoch 12/210\n",
            "38/38 [==============================] - 0s 6ms/step - loss: 2.2026 - accuracy: 0.2612 - val_loss: 2.0725 - val_accuracy: 0.2976\n",
            "Epoch 13/210\n",
            "38/38 [==============================] - 0s 7ms/step - loss: 2.9233 - accuracy: 0.2375 - val_loss: 3.7291 - val_accuracy: 0.2173\n",
            "Epoch 14/210\n",
            "38/38 [==============================] - 0s 6ms/step - loss: 2.5708 - accuracy: 0.2542 - val_loss: 2.6636 - val_accuracy: 0.2738\n",
            "Epoch 15/210\n",
            "38/38 [==============================] - 0s 6ms/step - loss: 2.1051 - accuracy: 0.3100 - val_loss: 3.2680 - val_accuracy: 0.2113\n",
            "Epoch 16/210\n",
            "38/38 [==============================] - 0s 6ms/step - loss: 2.1965 - accuracy: 0.2875 - val_loss: 2.4515 - val_accuracy: 0.2470\n",
            "Epoch 17/210\n",
            "38/38 [==============================] - 0s 7ms/step - loss: 2.3717 - accuracy: 0.2996 - val_loss: 2.1573 - val_accuracy: 0.3750\n",
            "Epoch 18/210\n",
            "38/38 [==============================] - 0s 6ms/step - loss: 1.6329 - accuracy: 0.4083 - val_loss: 2.8736 - val_accuracy: 0.2768\n",
            "Epoch 19/210\n",
            "38/38 [==============================] - 0s 6ms/step - loss: 1.9037 - accuracy: 0.3575 - val_loss: 2.2733 - val_accuracy: 0.3244\n",
            "Epoch 20/210\n",
            "38/38 [==============================] - 0s 7ms/step - loss: 1.9459 - accuracy: 0.3479 - val_loss: 2.1527 - val_accuracy: 0.3810\n",
            "Epoch 21/210\n",
            "38/38 [==============================] - 0s 7ms/step - loss: 1.9476 - accuracy: 0.3837 - val_loss: 2.3723 - val_accuracy: 0.3006\n",
            "Epoch 22/210\n",
            "38/38 [==============================] - 0s 6ms/step - loss: 1.7811 - accuracy: 0.3767 - val_loss: 2.4736 - val_accuracy: 0.3631\n",
            "Epoch 23/210\n",
            "38/38 [==============================] - 0s 6ms/step - loss: 1.8225 - accuracy: 0.3808 - val_loss: 2.2322 - val_accuracy: 0.3393\n",
            "Epoch 24/210\n",
            "38/38 [==============================] - 0s 7ms/step - loss: 1.7663 - accuracy: 0.4058 - val_loss: 2.3784 - val_accuracy: 0.3155\n",
            "Epoch 25/210\n",
            "38/38 [==============================] - 0s 7ms/step - loss: 1.5372 - accuracy: 0.4417 - val_loss: 1.6558 - val_accuracy: 0.3839\n",
            "Epoch 26/210\n",
            "38/38 [==============================] - 0s 6ms/step - loss: 1.9390 - accuracy: 0.3800 - val_loss: 2.4586 - val_accuracy: 0.2946\n",
            "Epoch 27/210\n",
            "38/38 [==============================] - 0s 6ms/step - loss: 1.6539 - accuracy: 0.4125 - val_loss: 2.1389 - val_accuracy: 0.3452\n",
            "Epoch 28/210\n",
            "38/38 [==============================] - 0s 7ms/step - loss: 1.5107 - accuracy: 0.4483 - val_loss: 1.9701 - val_accuracy: 0.3958\n",
            "Epoch 29/210\n",
            "38/38 [==============================] - 0s 6ms/step - loss: 1.4374 - accuracy: 0.4688 - val_loss: 2.2157 - val_accuracy: 0.4613\n",
            "Epoch 30/210\n",
            "38/38 [==============================] - 0s 6ms/step - loss: 1.5361 - accuracy: 0.4525 - val_loss: 2.3518 - val_accuracy: 0.3423\n",
            "Epoch 31/210\n",
            "38/38 [==============================] - 0s 6ms/step - loss: 1.5041 - accuracy: 0.4487 - val_loss: 1.5602 - val_accuracy: 0.3958\n",
            "Epoch 32/210\n",
            "38/38 [==============================] - 0s 7ms/step - loss: 1.3742 - accuracy: 0.4996 - val_loss: 1.4783 - val_accuracy: 0.4048\n",
            "Epoch 33/210\n",
            "38/38 [==============================] - 0s 6ms/step - loss: 1.4469 - accuracy: 0.4779 - val_loss: 2.4495 - val_accuracy: 0.3304\n",
            "Epoch 34/210\n",
            "38/38 [==============================] - 0s 7ms/step - loss: 1.2556 - accuracy: 0.5442 - val_loss: 1.5786 - val_accuracy: 0.4137\n",
            "Epoch 35/210\n",
            "38/38 [==============================] - 0s 6ms/step - loss: 1.6454 - accuracy: 0.4571 - val_loss: 3.4820 - val_accuracy: 0.2054\n",
            "Epoch 36/210\n",
            "38/38 [==============================] - 0s 6ms/step - loss: 1.4274 - accuracy: 0.5208 - val_loss: 1.3756 - val_accuracy: 0.5625\n",
            "Epoch 37/210\n",
            "38/38 [==============================] - 0s 6ms/step - loss: 1.3042 - accuracy: 0.5346 - val_loss: 2.6580 - val_accuracy: 0.2857\n",
            "Epoch 38/210\n",
            "38/38 [==============================] - 0s 6ms/step - loss: 1.3418 - accuracy: 0.5575 - val_loss: 1.9213 - val_accuracy: 0.4048\n",
            "Epoch 39/210\n",
            "38/38 [==============================] - 0s 6ms/step - loss: 1.2946 - accuracy: 0.5454 - val_loss: 1.4279 - val_accuracy: 0.4970\n",
            "Epoch 40/210\n",
            "38/38 [==============================] - 0s 7ms/step - loss: 1.2259 - accuracy: 0.5654 - val_loss: 1.8482 - val_accuracy: 0.4732\n",
            "Epoch 41/210\n",
            "38/38 [==============================] - 0s 6ms/step - loss: 1.1156 - accuracy: 0.6308 - val_loss: 1.1844 - val_accuracy: 0.5625\n",
            "Epoch 42/210\n",
            "38/38 [==============================] - 0s 6ms/step - loss: 1.0833 - accuracy: 0.6467 - val_loss: 1.4468 - val_accuracy: 0.5179\n",
            "Epoch 43/210\n",
            "38/38 [==============================] - 0s 6ms/step - loss: 1.1142 - accuracy: 0.6200 - val_loss: 1.8784 - val_accuracy: 0.3810\n",
            "Epoch 44/210\n",
            "38/38 [==============================] - 0s 6ms/step - loss: 1.1104 - accuracy: 0.6096 - val_loss: 2.1074 - val_accuracy: 0.3661\n",
            "Epoch 45/210\n",
            "38/38 [==============================] - 0s 6ms/step - loss: 1.2524 - accuracy: 0.5738 - val_loss: 1.6112 - val_accuracy: 0.4494\n",
            "Epoch 46/210\n",
            "38/38 [==============================] - 0s 6ms/step - loss: 1.1008 - accuracy: 0.6133 - val_loss: 1.4132 - val_accuracy: 0.5179\n",
            "Epoch 47/210\n",
            "38/38 [==============================] - 0s 6ms/step - loss: 1.1196 - accuracy: 0.6125 - val_loss: 1.8685 - val_accuracy: 0.4315\n",
            "Epoch 48/210\n",
            "38/38 [==============================] - 0s 7ms/step - loss: 1.0733 - accuracy: 0.6121 - val_loss: 1.8093 - val_accuracy: 0.4821\n",
            "Epoch 49/210\n",
            "38/38 [==============================] - 0s 8ms/step - loss: 1.3899 - accuracy: 0.5175 - val_loss: 1.9700 - val_accuracy: 0.4167\n",
            "Epoch 50/210\n",
            "38/38 [==============================] - 0s 7ms/step - loss: 1.1852 - accuracy: 0.6062 - val_loss: 1.5549 - val_accuracy: 0.5357\n",
            "Epoch 51/210\n",
            "38/38 [==============================] - 0s 7ms/step - loss: 0.9694 - accuracy: 0.6675 - val_loss: 1.3160 - val_accuracy: 0.5268\n",
            "Epoch 52/210\n",
            "38/38 [==============================] - 0s 7ms/step - loss: 1.0029 - accuracy: 0.6633 - val_loss: 1.8261 - val_accuracy: 0.4851\n",
            "Epoch 53/210\n",
            "38/38 [==============================] - 0s 7ms/step - loss: 0.9853 - accuracy: 0.6479 - val_loss: 1.8088 - val_accuracy: 0.4970\n",
            "Epoch 54/210\n",
            "38/38 [==============================] - 0s 6ms/step - loss: 1.0135 - accuracy: 0.6363 - val_loss: 1.6060 - val_accuracy: 0.5060\n",
            "Epoch 55/210\n",
            "38/38 [==============================] - 0s 6ms/step - loss: 0.8897 - accuracy: 0.6908 - val_loss: 1.4909 - val_accuracy: 0.4970\n",
            "Epoch 56/210\n",
            "38/38 [==============================] - 0s 7ms/step - loss: 0.9677 - accuracy: 0.6575 - val_loss: 1.7897 - val_accuracy: 0.5089\n",
            "Epoch 57/210\n",
            "38/38 [==============================] - 0s 7ms/step - loss: 0.9301 - accuracy: 0.6812 - val_loss: 1.5263 - val_accuracy: 0.5893\n",
            "Epoch 58/210\n",
            "38/38 [==============================] - 0s 6ms/step - loss: 0.9643 - accuracy: 0.6671 - val_loss: 1.4556 - val_accuracy: 0.5774\n",
            "Epoch 59/210\n",
            "38/38 [==============================] - 0s 6ms/step - loss: 1.0091 - accuracy: 0.6317 - val_loss: 1.8819 - val_accuracy: 0.4137\n",
            "Epoch 60/210\n",
            "38/38 [==============================] - 0s 6ms/step - loss: 0.9033 - accuracy: 0.6954 - val_loss: 1.1249 - val_accuracy: 0.6190\n",
            "Epoch 61/210\n",
            "38/38 [==============================] - 0s 7ms/step - loss: 0.7955 - accuracy: 0.7408 - val_loss: 1.7974 - val_accuracy: 0.4494\n",
            "Epoch 62/210\n",
            "38/38 [==============================] - 0s 6ms/step - loss: 0.8198 - accuracy: 0.7167 - val_loss: 1.4318 - val_accuracy: 0.5536\n",
            "Epoch 63/210\n",
            "38/38 [==============================] - 0s 7ms/step - loss: 0.9498 - accuracy: 0.6575 - val_loss: 1.2873 - val_accuracy: 0.5476\n",
            "Epoch 64/210\n",
            "38/38 [==============================] - 0s 7ms/step - loss: 0.8810 - accuracy: 0.6921 - val_loss: 1.4107 - val_accuracy: 0.5744\n",
            "Epoch 65/210\n",
            "38/38 [==============================] - 0s 7ms/step - loss: 0.8316 - accuracy: 0.7046 - val_loss: 1.1865 - val_accuracy: 0.6250\n",
            "Epoch 66/210\n",
            "38/38 [==============================] - 0s 7ms/step - loss: 0.7869 - accuracy: 0.7396 - val_loss: 1.2480 - val_accuracy: 0.5298\n",
            "Epoch 67/210\n",
            "38/38 [==============================] - 0s 6ms/step - loss: 0.8621 - accuracy: 0.7054 - val_loss: 1.3344 - val_accuracy: 0.5565\n",
            "Epoch 68/210\n",
            "38/38 [==============================] - 0s 6ms/step - loss: 0.8987 - accuracy: 0.6787 - val_loss: 1.3075 - val_accuracy: 0.5536\n",
            "Epoch 69/210\n",
            "38/38 [==============================] - 0s 6ms/step - loss: 0.7805 - accuracy: 0.7267 - val_loss: 1.7284 - val_accuracy: 0.5625\n",
            "Epoch 70/210\n",
            "38/38 [==============================] - 0s 6ms/step - loss: 0.7781 - accuracy: 0.7375 - val_loss: 1.0384 - val_accuracy: 0.6815\n",
            "Epoch 71/210\n",
            "38/38 [==============================] - 0s 6ms/step - loss: 0.8057 - accuracy: 0.7317 - val_loss: 1.1683 - val_accuracy: 0.5923\n",
            "Epoch 72/210\n",
            "38/38 [==============================] - 0s 7ms/step - loss: 0.9345 - accuracy: 0.6633 - val_loss: 1.6581 - val_accuracy: 0.4702\n",
            "Epoch 73/210\n",
            "38/38 [==============================] - 0s 6ms/step - loss: 0.7642 - accuracy: 0.7258 - val_loss: 0.9250 - val_accuracy: 0.7054\n",
            "Epoch 74/210\n",
            "38/38 [==============================] - 0s 6ms/step - loss: 0.7037 - accuracy: 0.7596 - val_loss: 1.0286 - val_accuracy: 0.6488\n",
            "Epoch 75/210\n",
            "38/38 [==============================] - 0s 6ms/step - loss: 0.7020 - accuracy: 0.7638 - val_loss: 1.1863 - val_accuracy: 0.5952\n",
            "Epoch 76/210\n",
            "38/38 [==============================] - 0s 7ms/step - loss: 0.6354 - accuracy: 0.7971 - val_loss: 0.9892 - val_accuracy: 0.6577\n",
            "Epoch 77/210\n",
            "38/38 [==============================] - 0s 6ms/step - loss: 0.9404 - accuracy: 0.7038 - val_loss: 1.3584 - val_accuracy: 0.4940\n",
            "Epoch 78/210\n",
            "38/38 [==============================] - 0s 7ms/step - loss: 0.9110 - accuracy: 0.6783 - val_loss: 1.0728 - val_accuracy: 0.6220\n",
            "Epoch 79/210\n",
            "38/38 [==============================] - 0s 7ms/step - loss: 0.7676 - accuracy: 0.7279 - val_loss: 1.3569 - val_accuracy: 0.6071\n",
            "Epoch 80/210\n",
            "38/38 [==============================] - 0s 7ms/step - loss: 0.7639 - accuracy: 0.7383 - val_loss: 1.4061 - val_accuracy: 0.5149\n",
            "Epoch 81/210\n",
            "38/38 [==============================] - 0s 7ms/step - loss: 0.7389 - accuracy: 0.7462 - val_loss: 1.0614 - val_accuracy: 0.6399\n",
            "Epoch 82/210\n",
            "38/38 [==============================] - 0s 7ms/step - loss: 0.7146 - accuracy: 0.7492 - val_loss: 0.9105 - val_accuracy: 0.6786\n",
            "Epoch 83/210\n",
            "38/38 [==============================] - 0s 7ms/step - loss: 0.6595 - accuracy: 0.7821 - val_loss: 1.1515 - val_accuracy: 0.5298\n",
            "Epoch 84/210\n",
            "38/38 [==============================] - 0s 7ms/step - loss: 0.7415 - accuracy: 0.7250 - val_loss: 0.9404 - val_accuracy: 0.6637\n",
            "Epoch 85/210\n",
            "38/38 [==============================] - 0s 7ms/step - loss: 0.6575 - accuracy: 0.7887 - val_loss: 1.2101 - val_accuracy: 0.5655\n",
            "Epoch 86/210\n",
            "38/38 [==============================] - 0s 7ms/step - loss: 0.6147 - accuracy: 0.7958 - val_loss: 1.1952 - val_accuracy: 0.6101\n",
            "Epoch 87/210\n",
            "38/38 [==============================] - 0s 8ms/step - loss: 0.5982 - accuracy: 0.7883 - val_loss: 1.2536 - val_accuracy: 0.6607\n",
            "Epoch 88/210\n",
            "38/38 [==============================] - 0s 7ms/step - loss: 0.8746 - accuracy: 0.7029 - val_loss: 1.4534 - val_accuracy: 0.5417\n",
            "Epoch 89/210\n",
            "38/38 [==============================] - 0s 7ms/step - loss: 0.7915 - accuracy: 0.7038 - val_loss: 1.0173 - val_accuracy: 0.6845\n",
            "Epoch 90/210\n",
            "38/38 [==============================] - 0s 7ms/step - loss: 0.6755 - accuracy: 0.7546 - val_loss: 1.1093 - val_accuracy: 0.6280\n",
            "Epoch 91/210\n",
            "38/38 [==============================] - 0s 7ms/step - loss: 0.6662 - accuracy: 0.7571 - val_loss: 1.1113 - val_accuracy: 0.6667\n",
            "Epoch 92/210\n",
            "38/38 [==============================] - 0s 7ms/step - loss: 0.7041 - accuracy: 0.7483 - val_loss: 0.7826 - val_accuracy: 0.7232\n",
            "Epoch 93/210\n",
            "38/38 [==============================] - 0s 7ms/step - loss: 0.6300 - accuracy: 0.7796 - val_loss: 0.9095 - val_accuracy: 0.7083\n",
            "Epoch 94/210\n",
            "38/38 [==============================] - 0s 7ms/step - loss: 0.6637 - accuracy: 0.7646 - val_loss: 1.0004 - val_accuracy: 0.6637\n",
            "Epoch 95/210\n",
            "38/38 [==============================] - 0s 7ms/step - loss: 0.5593 - accuracy: 0.8163 - val_loss: 0.9741 - val_accuracy: 0.6637\n",
            "Epoch 96/210\n",
            "38/38 [==============================] - 0s 7ms/step - loss: 0.5261 - accuracy: 0.8204 - val_loss: 0.8127 - val_accuracy: 0.7411\n",
            "Epoch 97/210\n",
            "38/38 [==============================] - 0s 6ms/step - loss: 0.5470 - accuracy: 0.8046 - val_loss: 0.8749 - val_accuracy: 0.7202\n",
            "Epoch 98/210\n",
            "38/38 [==============================] - 0s 7ms/step - loss: 0.6311 - accuracy: 0.7713 - val_loss: 1.1949 - val_accuracy: 0.5744\n",
            "Epoch 99/210\n",
            "38/38 [==============================] - 0s 6ms/step - loss: 0.6416 - accuracy: 0.7783 - val_loss: 0.8407 - val_accuracy: 0.7262\n",
            "Epoch 100/210\n",
            "38/38 [==============================] - 0s 7ms/step - loss: 0.5584 - accuracy: 0.8054 - val_loss: 0.7388 - val_accuracy: 0.7470\n",
            "Epoch 101/210\n",
            "38/38 [==============================] - 0s 7ms/step - loss: 0.5097 - accuracy: 0.8083 - val_loss: 0.8570 - val_accuracy: 0.7173\n",
            "Epoch 102/210\n",
            "38/38 [==============================] - 0s 6ms/step - loss: 0.5263 - accuracy: 0.8129 - val_loss: 1.3487 - val_accuracy: 0.5357\n",
            "Epoch 103/210\n",
            "38/38 [==============================] - 0s 6ms/step - loss: 0.5222 - accuracy: 0.8213 - val_loss: 0.8312 - val_accuracy: 0.7113\n",
            "Epoch 104/210\n",
            "38/38 [==============================] - 0s 6ms/step - loss: 0.9624 - accuracy: 0.6829 - val_loss: 1.1729 - val_accuracy: 0.5863\n",
            "Epoch 105/210\n",
            "38/38 [==============================] - 0s 6ms/step - loss: 1.1533 - accuracy: 0.6488 - val_loss: 0.9873 - val_accuracy: 0.6548\n",
            "Epoch 106/210\n",
            "38/38 [==============================] - 0s 7ms/step - loss: 0.7501 - accuracy: 0.7433 - val_loss: 0.9444 - val_accuracy: 0.6399\n",
            "Epoch 107/210\n",
            "38/38 [==============================] - 0s 6ms/step - loss: 0.6794 - accuracy: 0.7746 - val_loss: 1.2013 - val_accuracy: 0.5952\n",
            "Epoch 108/210\n",
            "38/38 [==============================] - 0s 7ms/step - loss: 0.6172 - accuracy: 0.7996 - val_loss: 1.1720 - val_accuracy: 0.6548\n",
            "Epoch 109/210\n",
            "38/38 [==============================] - 0s 6ms/step - loss: 0.5981 - accuracy: 0.7904 - val_loss: 1.3929 - val_accuracy: 0.5446\n",
            "Epoch 110/210\n",
            "38/38 [==============================] - 0s 6ms/step - loss: 0.6891 - accuracy: 0.7558 - val_loss: 1.1648 - val_accuracy: 0.6042\n",
            "Epoch 111/210\n",
            "38/38 [==============================] - 0s 6ms/step - loss: 0.5850 - accuracy: 0.7962 - val_loss: 1.0377 - val_accuracy: 0.6637\n",
            "Epoch 112/210\n",
            "38/38 [==============================] - 0s 6ms/step - loss: 0.6014 - accuracy: 0.7858 - val_loss: 0.9032 - val_accuracy: 0.7173\n",
            "Epoch 113/210\n",
            "38/38 [==============================] - 0s 6ms/step - loss: 0.5494 - accuracy: 0.8183 - val_loss: 1.1572 - val_accuracy: 0.6042\n",
            "Epoch 114/210\n",
            "38/38 [==============================] - 0s 6ms/step - loss: 0.7009 - accuracy: 0.7475 - val_loss: 1.3436 - val_accuracy: 0.5565\n",
            "Epoch 115/210\n",
            "38/38 [==============================] - 0s 6ms/step - loss: 0.6061 - accuracy: 0.7829 - val_loss: 0.9073 - val_accuracy: 0.6964\n",
            "Epoch 116/210\n",
            "38/38 [==============================] - 0s 6ms/step - loss: 0.5641 - accuracy: 0.7954 - val_loss: 1.1386 - val_accuracy: 0.6369\n",
            "Epoch 117/210\n",
            "38/38 [==============================] - 0s 6ms/step - loss: 0.5387 - accuracy: 0.8175 - val_loss: 1.0812 - val_accuracy: 0.6310\n",
            "Epoch 118/210\n",
            "38/38 [==============================] - 0s 6ms/step - loss: 0.5731 - accuracy: 0.7929 - val_loss: 1.3664 - val_accuracy: 0.6012\n",
            "Epoch 119/210\n",
            "38/38 [==============================] - 0s 6ms/step - loss: 0.5050 - accuracy: 0.8296 - val_loss: 0.9169 - val_accuracy: 0.7173\n",
            "Epoch 120/210\n",
            "38/38 [==============================] - 0s 7ms/step - loss: 0.5164 - accuracy: 0.8121 - val_loss: 1.0987 - val_accuracy: 0.6220\n",
            "Epoch 121/210\n",
            "38/38 [==============================] - 0s 7ms/step - loss: 0.5250 - accuracy: 0.8033 - val_loss: 0.8231 - val_accuracy: 0.6935\n",
            "Epoch 122/210\n",
            "38/38 [==============================] - 0s 7ms/step - loss: 0.5989 - accuracy: 0.7763 - val_loss: 0.8390 - val_accuracy: 0.6935\n",
            "Epoch 123/210\n",
            "38/38 [==============================] - 0s 7ms/step - loss: 0.5388 - accuracy: 0.8025 - val_loss: 1.2909 - val_accuracy: 0.6012\n",
            "Epoch 124/210\n",
            "38/38 [==============================] - 0s 7ms/step - loss: 0.5471 - accuracy: 0.7987 - val_loss: 0.9846 - val_accuracy: 0.6458\n",
            "Epoch 125/210\n",
            "38/38 [==============================] - 0s 6ms/step - loss: 0.5267 - accuracy: 0.8154 - val_loss: 0.8626 - val_accuracy: 0.6786\n",
            "Epoch 126/210\n",
            "38/38 [==============================] - 0s 6ms/step - loss: 0.5677 - accuracy: 0.7842 - val_loss: 0.8344 - val_accuracy: 0.7024\n",
            "Epoch 127/210\n",
            "38/38 [==============================] - 0s 6ms/step - loss: 0.5363 - accuracy: 0.8050 - val_loss: 1.6374 - val_accuracy: 0.5119\n",
            "Epoch 128/210\n",
            "38/38 [==============================] - 0s 6ms/step - loss: 0.5183 - accuracy: 0.8146 - val_loss: 0.9835 - val_accuracy: 0.6518\n",
            "Epoch 129/210\n",
            "38/38 [==============================] - 0s 6ms/step - loss: 0.4935 - accuracy: 0.8275 - val_loss: 0.9868 - val_accuracy: 0.6637\n",
            "Epoch 130/210\n",
            "38/38 [==============================] - 0s 7ms/step - loss: 0.6855 - accuracy: 0.7458 - val_loss: 2.3695 - val_accuracy: 0.3690\n",
            "Epoch 131/210\n",
            "38/38 [==============================] - 0s 6ms/step - loss: 0.6847 - accuracy: 0.7500 - val_loss: 1.0624 - val_accuracy: 0.6607\n",
            "Epoch 132/210\n",
            "38/38 [==============================] - 0s 6ms/step - loss: 0.7008 - accuracy: 0.7454 - val_loss: 0.9260 - val_accuracy: 0.7054\n",
            "Epoch 133/210\n",
            "38/38 [==============================] - 0s 6ms/step - loss: 0.5475 - accuracy: 0.8029 - val_loss: 0.8952 - val_accuracy: 0.6488\n",
            "Epoch 134/210\n",
            "38/38 [==============================] - 0s 6ms/step - loss: 0.5215 - accuracy: 0.7917 - val_loss: 0.6768 - val_accuracy: 0.7440\n",
            "Epoch 135/210\n",
            "38/38 [==============================] - 0s 6ms/step - loss: 0.4898 - accuracy: 0.8329 - val_loss: 0.9915 - val_accuracy: 0.6518\n",
            "Epoch 136/210\n",
            "38/38 [==============================] - 0s 6ms/step - loss: 0.4638 - accuracy: 0.8400 - val_loss: 0.6329 - val_accuracy: 0.7857\n",
            "Epoch 137/210\n",
            "38/38 [==============================] - 0s 6ms/step - loss: 0.4508 - accuracy: 0.8358 - val_loss: 0.7748 - val_accuracy: 0.7679\n",
            "Epoch 138/210\n",
            "38/38 [==============================] - 0s 6ms/step - loss: 0.4446 - accuracy: 0.8433 - val_loss: 0.9578 - val_accuracy: 0.6726\n",
            "Epoch 139/210\n",
            "38/38 [==============================] - 0s 6ms/step - loss: 0.4407 - accuracy: 0.8425 - val_loss: 0.6873 - val_accuracy: 0.7708\n",
            "Epoch 140/210\n",
            "38/38 [==============================] - 0s 6ms/step - loss: 0.5336 - accuracy: 0.7925 - val_loss: 1.2606 - val_accuracy: 0.6190\n",
            "Epoch 141/210\n",
            "38/38 [==============================] - 0s 7ms/step - loss: 0.4774 - accuracy: 0.8179 - val_loss: 0.9211 - val_accuracy: 0.6458\n",
            "Epoch 142/210\n",
            "38/38 [==============================] - 0s 7ms/step - loss: 0.5381 - accuracy: 0.7908 - val_loss: 0.7672 - val_accuracy: 0.7083\n",
            "Epoch 143/210\n",
            "38/38 [==============================] - 0s 6ms/step - loss: 0.4592 - accuracy: 0.8333 - val_loss: 1.0150 - val_accuracy: 0.6726\n",
            "Epoch 144/210\n",
            "38/38 [==============================] - 0s 7ms/step - loss: 0.5618 - accuracy: 0.7983 - val_loss: 0.6316 - val_accuracy: 0.7589\n",
            "Epoch 145/210\n",
            "38/38 [==============================] - 0s 7ms/step - loss: 0.4646 - accuracy: 0.8238 - val_loss: 0.9906 - val_accuracy: 0.6786\n",
            "Epoch 146/210\n",
            "38/38 [==============================] - 0s 7ms/step - loss: 0.4282 - accuracy: 0.8413 - val_loss: 0.8978 - val_accuracy: 0.7143\n",
            "Epoch 147/210\n",
            "38/38 [==============================] - 0s 7ms/step - loss: 0.4290 - accuracy: 0.8358 - val_loss: 0.7665 - val_accuracy: 0.7054\n",
            "Epoch 148/210\n",
            "38/38 [==============================] - 0s 7ms/step - loss: 0.4302 - accuracy: 0.8350 - val_loss: 0.6467 - val_accuracy: 0.7768\n",
            "Epoch 149/210\n",
            "38/38 [==============================] - 0s 6ms/step - loss: 0.4128 - accuracy: 0.8562 - val_loss: 0.6957 - val_accuracy: 0.7381\n",
            "Epoch 150/210\n",
            "38/38 [==============================] - 0s 7ms/step - loss: 0.4368 - accuracy: 0.8388 - val_loss: 0.6964 - val_accuracy: 0.7321\n",
            "Epoch 151/210\n",
            "38/38 [==============================] - 0s 6ms/step - loss: 0.4012 - accuracy: 0.8546 - val_loss: 0.8351 - val_accuracy: 0.7202\n",
            "Epoch 152/210\n",
            "38/38 [==============================] - 0s 7ms/step - loss: 0.4043 - accuracy: 0.8475 - val_loss: 0.7022 - val_accuracy: 0.7649\n",
            "Epoch 153/210\n",
            "38/38 [==============================] - 0s 6ms/step - loss: 0.3913 - accuracy: 0.8450 - val_loss: 0.6496 - val_accuracy: 0.7679\n",
            "Epoch 154/210\n",
            "38/38 [==============================] - 0s 7ms/step - loss: 0.4724 - accuracy: 0.8188 - val_loss: 0.6221 - val_accuracy: 0.7946\n",
            "Epoch 155/210\n",
            "38/38 [==============================] - 0s 7ms/step - loss: 0.4154 - accuracy: 0.8421 - val_loss: 0.6083 - val_accuracy: 0.8125\n",
            "Epoch 156/210\n",
            "38/38 [==============================] - 0s 6ms/step - loss: 0.3797 - accuracy: 0.8621 - val_loss: 0.7649 - val_accuracy: 0.7470\n",
            "Epoch 157/210\n",
            "38/38 [==============================] - 0s 6ms/step - loss: 0.5185 - accuracy: 0.7912 - val_loss: 0.9407 - val_accuracy: 0.7054\n",
            "Epoch 158/210\n",
            "38/38 [==============================] - 0s 7ms/step - loss: 0.4233 - accuracy: 0.8346 - val_loss: 0.6207 - val_accuracy: 0.8155\n",
            "Epoch 159/210\n",
            "38/38 [==============================] - 0s 6ms/step - loss: 0.4165 - accuracy: 0.8325 - val_loss: 0.9009 - val_accuracy: 0.6548\n",
            "Epoch 160/210\n",
            "38/38 [==============================] - 0s 6ms/step - loss: 0.4179 - accuracy: 0.8371 - val_loss: 0.5620 - val_accuracy: 0.7976\n",
            "Epoch 161/210\n",
            "38/38 [==============================] - 0s 7ms/step - loss: 0.3702 - accuracy: 0.8529 - val_loss: 0.6614 - val_accuracy: 0.7917\n",
            "Epoch 162/210\n",
            "38/38 [==============================] - 0s 7ms/step - loss: 0.3811 - accuracy: 0.8583 - val_loss: 0.8118 - val_accuracy: 0.7232\n",
            "Epoch 163/210\n",
            "38/38 [==============================] - 0s 6ms/step - loss: 0.3918 - accuracy: 0.8537 - val_loss: 0.6227 - val_accuracy: 0.7679\n",
            "Epoch 164/210\n",
            "38/38 [==============================] - 0s 6ms/step - loss: 0.4498 - accuracy: 0.8233 - val_loss: 0.7236 - val_accuracy: 0.7887\n",
            "Epoch 165/210\n",
            "38/38 [==============================] - 0s 7ms/step - loss: 0.4416 - accuracy: 0.8363 - val_loss: 0.6288 - val_accuracy: 0.7946\n",
            "Epoch 166/210\n",
            "38/38 [==============================] - 0s 6ms/step - loss: 0.3794 - accuracy: 0.8571 - val_loss: 0.5754 - val_accuracy: 0.7798\n",
            "Epoch 167/210\n",
            "38/38 [==============================] - 0s 6ms/step - loss: 0.3782 - accuracy: 0.8546 - val_loss: 0.6034 - val_accuracy: 0.7589\n",
            "Epoch 168/210\n",
            "38/38 [==============================] - 0s 6ms/step - loss: 0.3528 - accuracy: 0.8717 - val_loss: 0.7436 - val_accuracy: 0.7649\n",
            "Epoch 169/210\n",
            "38/38 [==============================] - 0s 7ms/step - loss: 0.3341 - accuracy: 0.8867 - val_loss: 0.5768 - val_accuracy: 0.8095\n",
            "Epoch 170/210\n",
            "38/38 [==============================] - 0s 6ms/step - loss: 0.4048 - accuracy: 0.8396 - val_loss: 0.7408 - val_accuracy: 0.7917\n",
            "Epoch 171/210\n",
            "38/38 [==============================] - 0s 6ms/step - loss: 0.4240 - accuracy: 0.8279 - val_loss: 0.6424 - val_accuracy: 0.7917\n",
            "Epoch 172/210\n",
            "38/38 [==============================] - 0s 6ms/step - loss: 0.3719 - accuracy: 0.8508 - val_loss: 0.6458 - val_accuracy: 0.7619\n",
            "Epoch 173/210\n",
            "38/38 [==============================] - 0s 7ms/step - loss: 0.3499 - accuracy: 0.8683 - val_loss: 0.6117 - val_accuracy: 0.7708\n",
            "Epoch 174/210\n",
            "38/38 [==============================] - 0s 7ms/step - loss: 0.3460 - accuracy: 0.8704 - val_loss: 0.5368 - val_accuracy: 0.7768\n",
            "Epoch 175/210\n",
            "38/38 [==============================] - 0s 6ms/step - loss: 0.3877 - accuracy: 0.8325 - val_loss: 0.5826 - val_accuracy: 0.8125\n",
            "Epoch 176/210\n",
            "38/38 [==============================] - 0s 7ms/step - loss: 0.4553 - accuracy: 0.8208 - val_loss: 0.5898 - val_accuracy: 0.8006\n",
            "Epoch 177/210\n",
            "38/38 [==============================] - 0s 7ms/step - loss: 0.3569 - accuracy: 0.8729 - val_loss: 0.4746 - val_accuracy: 0.8780\n",
            "Epoch 178/210\n",
            "38/38 [==============================] - 0s 6ms/step - loss: 0.3658 - accuracy: 0.8408 - val_loss: 0.6823 - val_accuracy: 0.6875\n",
            "Epoch 179/210\n",
            "38/38 [==============================] - 0s 6ms/step - loss: 0.4449 - accuracy: 0.8071 - val_loss: 0.7367 - val_accuracy: 0.7619\n",
            "Epoch 180/210\n",
            "38/38 [==============================] - 0s 6ms/step - loss: 0.3837 - accuracy: 0.8433 - val_loss: 0.6013 - val_accuracy: 0.8125\n",
            "Epoch 181/210\n",
            "38/38 [==============================] - 0s 7ms/step - loss: 0.3618 - accuracy: 0.8575 - val_loss: 0.8200 - val_accuracy: 0.7649\n",
            "Epoch 182/210\n",
            "38/38 [==============================] - 0s 6ms/step - loss: 0.3747 - accuracy: 0.8562 - val_loss: 0.4663 - val_accuracy: 0.8542\n",
            "Epoch 183/210\n",
            "38/38 [==============================] - 0s 6ms/step - loss: 0.3511 - accuracy: 0.8546 - val_loss: 0.8136 - val_accuracy: 0.7232\n",
            "Epoch 184/210\n",
            "38/38 [==============================] - 0s 6ms/step - loss: 0.3883 - accuracy: 0.8371 - val_loss: 0.5690 - val_accuracy: 0.8155\n",
            "Epoch 185/210\n",
            "38/38 [==============================] - 0s 6ms/step - loss: 0.7473 - accuracy: 0.7600 - val_loss: 2.0341 - val_accuracy: 0.4375\n",
            "Epoch 186/210\n",
            "38/38 [==============================] - 0s 6ms/step - loss: 0.7645 - accuracy: 0.7325 - val_loss: 0.7528 - val_accuracy: 0.6786\n",
            "Epoch 187/210\n",
            "38/38 [==============================] - 0s 6ms/step - loss: 0.5052 - accuracy: 0.8246 - val_loss: 0.7359 - val_accuracy: 0.7054\n",
            "Epoch 188/210\n",
            "38/38 [==============================] - 0s 6ms/step - loss: 0.5205 - accuracy: 0.7979 - val_loss: 0.6858 - val_accuracy: 0.7917\n",
            "Epoch 189/210\n",
            "38/38 [==============================] - 0s 7ms/step - loss: 0.4181 - accuracy: 0.8471 - val_loss: 0.6741 - val_accuracy: 0.7917\n",
            "Epoch 190/210\n",
            "38/38 [==============================] - 0s 6ms/step - loss: 0.3808 - accuracy: 0.8658 - val_loss: 0.5994 - val_accuracy: 0.8631\n",
            "Epoch 191/210\n",
            "38/38 [==============================] - 0s 6ms/step - loss: 0.3676 - accuracy: 0.8667 - val_loss: 0.6144 - val_accuracy: 0.8720\n",
            "Epoch 192/210\n",
            "38/38 [==============================] - 0s 7ms/step - loss: 0.3406 - accuracy: 0.8825 - val_loss: 0.6796 - val_accuracy: 0.7857\n",
            "Epoch 193/210\n",
            "38/38 [==============================] - 0s 7ms/step - loss: 0.3509 - accuracy: 0.8625 - val_loss: 0.6210 - val_accuracy: 0.8155\n",
            "Epoch 194/210\n",
            "38/38 [==============================] - 0s 6ms/step - loss: 0.3477 - accuracy: 0.8612 - val_loss: 0.5670 - val_accuracy: 0.8304\n",
            "Epoch 195/210\n",
            "38/38 [==============================] - 0s 6ms/step - loss: 0.4607 - accuracy: 0.8071 - val_loss: 0.6310 - val_accuracy: 0.8006\n",
            "Epoch 196/210\n",
            "38/38 [==============================] - 0s 6ms/step - loss: 0.3673 - accuracy: 0.8542 - val_loss: 0.5611 - val_accuracy: 0.8274\n",
            "Epoch 197/210\n",
            "38/38 [==============================] - 0s 6ms/step - loss: 0.3716 - accuracy: 0.8571 - val_loss: 1.9242 - val_accuracy: 0.5298\n",
            "Epoch 198/210\n",
            "38/38 [==============================] - 0s 6ms/step - loss: 0.4958 - accuracy: 0.8175 - val_loss: 0.6943 - val_accuracy: 0.7708\n",
            "Epoch 199/210\n",
            "38/38 [==============================] - 0s 6ms/step - loss: 0.3437 - accuracy: 0.8854 - val_loss: 0.6646 - val_accuracy: 0.8155\n",
            "Epoch 200/210\n",
            "38/38 [==============================] - 0s 6ms/step - loss: 0.3637 - accuracy: 0.8579 - val_loss: 0.6417 - val_accuracy: 0.8125\n",
            "Epoch 201/210\n",
            "38/38 [==============================] - 0s 6ms/step - loss: 0.3848 - accuracy: 0.8442 - val_loss: 0.6132 - val_accuracy: 0.8274\n",
            "Epoch 202/210\n",
            "38/38 [==============================] - 0s 6ms/step - loss: 0.3878 - accuracy: 0.8458 - val_loss: 0.7158 - val_accuracy: 0.7500\n",
            "Epoch 203/210\n",
            "38/38 [==============================] - 0s 6ms/step - loss: 0.3762 - accuracy: 0.8483 - val_loss: 0.5651 - val_accuracy: 0.7976\n",
            "Epoch 204/210\n",
            "38/38 [==============================] - 0s 6ms/step - loss: 0.3187 - accuracy: 0.8904 - val_loss: 0.5970 - val_accuracy: 0.8065\n",
            "Epoch 205/210\n",
            "38/38 [==============================] - 0s 6ms/step - loss: 0.3313 - accuracy: 0.8575 - val_loss: 0.8347 - val_accuracy: 0.7470\n",
            "Epoch 206/210\n",
            "38/38 [==============================] - 0s 6ms/step - loss: 0.4291 - accuracy: 0.8204 - val_loss: 0.9268 - val_accuracy: 0.6935\n",
            "Epoch 207/210\n",
            "38/38 [==============================] - 0s 6ms/step - loss: 0.3675 - accuracy: 0.8517 - val_loss: 0.5504 - val_accuracy: 0.8452\n",
            "Epoch 208/210\n",
            "38/38 [==============================] - 0s 7ms/step - loss: 0.3412 - accuracy: 0.8633 - val_loss: 0.5633 - val_accuracy: 0.8869\n",
            "Epoch 209/210\n",
            "38/38 [==============================] - 0s 7ms/step - loss: 0.3543 - accuracy: 0.8654 - val_loss: 0.6226 - val_accuracy: 0.8155\n",
            "Epoch 210/210\n",
            "38/38 [==============================] - 0s 7ms/step - loss: 0.3286 - accuracy: 0.8800 - val_loss: 0.5577 - val_accuracy: 0.8393\n"
          ],
          "name": "stdout"
        }
      ]
    },
    {
      "cell_type": "code",
      "metadata": {
        "id": "X0eexNEdAuwc",
        "colab": {
          "base_uri": "https://localhost:8080/",
          "height": 34
        },
        "outputId": "88f06da3-3093-41ce-bf3e-48ac51e13f03"
      },
      "source": [
        "acc1 = model1.evaluate(x_train, y_train)"
      ],
      "execution_count": null,
      "outputs": [
        {
          "output_type": "stream",
          "text": [
            "75/75 [==============================] - 0s 2ms/step - loss: 0.3152 - accuracy: 0.8587\n"
          ],
          "name": "stdout"
        }
      ]
    },
    {
      "cell_type": "code",
      "metadata": {
        "id": "hGzvqTm3A1UA",
        "colab": {
          "base_uri": "https://localhost:8080/",
          "height": 34
        },
        "outputId": "778561af-169a-4e38-d207-65aa8149f4b7"
      },
      "source": [
        "\n",
        "print(\"Loss:\", acc1[0], \" Accuracy:\", acc1[1])"
      ],
      "execution_count": null,
      "outputs": [
        {
          "output_type": "stream",
          "text": [
            "Loss: 0.3151627480983734  Accuracy: 0.8587499856948853\n"
          ],
          "name": "stdout"
        }
      ]
    },
    {
      "cell_type": "code",
      "metadata": {
        "id": "mWAlmfmEK7aL",
        "colab": {
          "base_uri": "https://localhost:8080/",
          "height": 34
        },
        "outputId": "b151a04c-0389-4c6b-c09f-fa9ab36e1a33"
      },
      "source": [
        "val_acc1 = model1.evaluate(x_test, y_test)"
      ],
      "execution_count": null,
      "outputs": [
        {
          "output_type": "stream",
          "text": [
            "11/11 [==============================] - 0s 2ms/step - loss: 0.5577 - accuracy: 0.8393\n"
          ],
          "name": "stdout"
        }
      ]
    },
    {
      "cell_type": "code",
      "metadata": {
        "id": "LugVdOz1LBqE",
        "colab": {
          "base_uri": "https://localhost:8080/",
          "height": 34
        },
        "outputId": "821a6d44-747d-4974-d98f-20076c1ca6dd"
      },
      "source": [
        "print(\"Loss:\", val_acc1[0], \" Accuracy:\", val_acc1[1])"
      ],
      "execution_count": null,
      "outputs": [
        {
          "output_type": "stream",
          "text": [
            "Loss: 0.5576666593551636  Accuracy: 0.8392857313156128\n"
          ],
          "name": "stdout"
        }
      ]
    },
    {
      "cell_type": "code",
      "metadata": {
        "id": "qCSCpvVxxjQ8"
      },
      "source": [
        "pred = model1.predict(x_test)\n",
        "pred_y = pred.argmax(axis=-1)"
      ],
      "execution_count": null,
      "outputs": []
    },
    {
      "cell_type": "code",
      "metadata": {
        "id": "vIEHi3d1xmEF",
        "colab": {
          "base_uri": "https://localhost:8080/",
          "height": 153
        },
        "outputId": "2dd7da82-dacb-4c04-c2a3-118965365f48"
      },
      "source": [
        "cm = confusion_matrix(y_test, pred_y)\n",
        "print(cm)"
      ],
      "execution_count": null,
      "outputs": [
        {
          "output_type": "stream",
          "text": [
            "[[39  0  1  0  0  2  0  0]\n",
            " [ 0 42  0  0  0  0  0  0]\n",
            " [ 0  0 42  0  0  0  0  0]\n",
            " [40  0  0  1  0  0  0  1]\n",
            " [ 0  0  0  0 40  0  1  1]\n",
            " [ 1  0  0  0  1 39  0  1]\n",
            " [ 0  0  0  0  1  1 40  0]\n",
            " [ 0  1  0  0  0  2  0 39]]\n"
          ],
          "name": "stdout"
        }
      ]
    },
    {
      "cell_type": "code",
      "metadata": {
        "id": "kTKpdF32xw9M",
        "colab": {
          "base_uri": "https://localhost:8080/",
          "height": 336
        },
        "outputId": "ba0887b3-505d-4c56-94c2-431c14d52ccf"
      },
      "source": [
        "import seaborn as sns\n",
        "sns.heatmap(cm, annot=True)"
      ],
      "execution_count": null,
      "outputs": [
        {
          "output_type": "stream",
          "text": [
            "/usr/local/lib/python3.6/dist-packages/statsmodels/tools/_testing.py:19: FutureWarning: pandas.util.testing is deprecated. Use the functions in the public API at pandas.testing instead.\n",
            "  import pandas.util.testing as tm\n"
          ],
          "name": "stderr"
        },
        {
          "output_type": "execute_result",
          "data": {
            "text/plain": [
              "<matplotlib.axes._subplots.AxesSubplot at 0x7f89fccb9080>"
            ]
          },
          "metadata": {
            "tags": []
          },
          "execution_count": 36
        },
        {
          "output_type": "display_data",
          "data": {
            "image/png": "[encoded data removed]",
            "text/plain": [
              "<Figure size 432x288 with 2 Axes>"
            ]
          },
          "metadata": {
            "tags": [],
            "needs_background": "light"
          }
        }
      ]
    },
    {
      "cell_type": "code",
      "metadata": {
        "id": "s3dD0vMzyB38",
        "colab": {
          "base_uri": "https://localhost:8080/",
          "height": 295
        },
        "outputId": "ddc895c3-e50b-4194-e673-2f8bb078c50c"
      },
      "source": [
        "\n",
        "plt.plot(model1_history.history['loss'])\n",
        "plt.plot(model1_history.history['val_loss'])\n",
        "plt.title('1-L-1D-CNN train vs validation loss')\n",
        "plt.ylabel('loss')\n",
        "plt.xlabel('epoch')\n",
        "plt.legend(['train', 'validation'], loc='upper right')\n",
        "plt.ylim((0,6))\n",
        "plt.show()"
      ],
      "execution_count": null,
      "outputs": [
        {
          "output_type": "display_data",
          "data": {
            "image/png": "[encoded data removed]",
            "text/plain": [
              "<Figure size 432x288 with 1 Axes>"
            ]
          },
          "metadata": {
            "tags": [],
            "needs_background": "light"
          }
        }
      ]
    },
    {
      "cell_type": "code",
      "metadata": {
        "id": "gJ2TS_W_OQ6j",
        "colab": {
          "base_uri": "https://localhost:8080/",
          "height": 295
        },
        "outputId": "c977b6d7-75fd-4dbc-858b-ca34788497cf"
      },
      "source": [
        "\n",
        "plt.plot(model1_history.history['accuracy'])\n",
        "plt.plot(model1_history.history['val_accuracy'])\n",
        "plt.title('1-L-1D-CNN train vs validation accuracy')\n",
        "plt.ylabel('accuracy')\n",
        "plt.xlabel('epoch')\n",
        "plt.legend(['train', 'validation'], loc='upper right')\n",
        "plt.show()"
      ],
      "execution_count": null,
      "outputs": [
        {
          "output_type": "display_data",
          "data": {
            "image/png": "[encoded data removed]",
            "text/plain": [
              "<Figure size 432x288 with 1 Axes>"
            ]
          },
          "metadata": {
            "tags": [],
            "needs_background": "light"
          }
        }
      ]
    },
    {
      "cell_type": "markdown",
      "metadata": {
        "id": "G-tmQNTEwAcu"
      },
      "source": [
        "inception layer"
      ]
    },
    {
      "cell_type": "code",
      "metadata": {
        "id": "hnuH8gDtyd5q"
      },
      "source": [
        "input_layer=Input(shape=(32,2))\n",
        "conv1=Conv1D(16,10,activation='relu',padding='same')(input_layer)\n",
        "conv2=Conv1D(32,10,activation='relu',padding='same')(input_layer)\n",
        "conv3=Conv1D(64,10,activation='relu',padding='same')(input_layer)\n",
        "inception_layer=concatenate([conv1,conv2,conv3],axis=-1)\n",
        "pool=MaxPooling1D(pool_size=2)(inception_layer)\n",
        "conv4=Conv1D(112,10,activation='relu')(pool)\n",
        "pool=MaxPooling1D(pool_size=2)(conv4)\n",
        "flatten=Flatten()(pool)\n",
        "layer=Dense(80,activation='relu')(flatten)\n",
        "outer_layer=Dense(8,activation='softmax')(layer)\n",
        "model2 = Model(inputs=input_layer, outputs=outer_layer)"
      ],
      "execution_count": null,
      "outputs": []
    },
    {
      "cell_type": "code",
      "metadata": {
        "id": "WtEybiJrynmT"
      },
      "source": [
        "model2.compile(loss = 'sparse_categorical_crossentropy',\n",
        "              optimizer ='adam',\n",
        "              metrics = ['accuracy']\n",
        "              )"
      ],
      "execution_count": null,
      "outputs": []
    },
    {
      "cell_type": "code",
      "metadata": {
        "id": "LA8Ma-wyzjXl",
        "colab": {
          "base_uri": "https://localhost:8080/",
          "height": 561
        },
        "outputId": "cf67a05a-444d-4ec9-e51d-9ba7b0495892"
      },
      "source": [
        "model2.summary()"
      ],
      "execution_count": null,
      "outputs": [
        {
          "output_type": "stream",
          "text": [
            "Model: \"functional_15\"\n",
            "__________________________________________________________________________________________________\n",
            "Layer (type)                    Output Shape         Param #     Connected to                     \n",
            "==================================================================================================\n",
            "input_8 (InputLayer)            [(None, 32, 2)]      0                                            \n",
            "__________________________________________________________________________________________________\n",
            "conv1d_34 (Conv1D)              (None, 32, 16)       336         input_8[0][0]                    \n",
            "__________________________________________________________________________________________________\n",
            "conv1d_35 (Conv1D)              (None, 32, 32)       672         input_8[0][0]                    \n",
            "__________________________________________________________________________________________________\n",
            "conv1d_36 (Conv1D)              (None, 32, 64)       1344        input_8[0][0]                    \n",
            "__________________________________________________________________________________________________\n",
            "concatenate_7 (Concatenate)     (None, 32, 112)      0           conv1d_34[0][0]                  \n",
            "                                                                 conv1d_35[0][0]                  \n",
            "                                                                 conv1d_36[0][0]                  \n",
            "__________________________________________________________________________________________________\n",
            "max_pooling1d_20 (MaxPooling1D) (None, 16, 112)      0           concatenate_7[0][0]              \n",
            "__________________________________________________________________________________________________\n",
            "conv1d_37 (Conv1D)              (None, 7, 112)       125552      max_pooling1d_20[0][0]           \n",
            "__________________________________________________________________________________________________\n",
            "max_pooling1d_21 (MaxPooling1D) (None, 3, 112)       0           conv1d_37[0][0]                  \n",
            "__________________________________________________________________________________________________\n",
            "flatten_13 (Flatten)            (None, 336)          0           max_pooling1d_21[0][0]           \n",
            "__________________________________________________________________________________________________\n",
            "dense_26 (Dense)                (None, 80)           26960       flatten_13[0][0]                 \n",
            "__________________________________________________________________________________________________\n",
            "dense_27 (Dense)                (None, 8)            648         dense_26[0][0]                   \n",
            "==================================================================================================\n",
            "Total params: 155,512\n",
            "Trainable params: 155,512\n",
            "Non-trainable params: 0\n",
            "__________________________________________________________________________________________________\n"
          ],
          "name": "stdout"
        }
      ]
    },
    {
      "cell_type": "code",
      "metadata": {
        "id": "rY2menIliySv",
        "colab": {
          "base_uri": "https://localhost:8080/",
          "height": 1000
        },
        "outputId": "3e552f04-f09b-41bc-c3c3-3e254913b597"
      },
      "source": [
        "batch_size=64\n",
        "epochs=100\n",
        "model2_history=model2.fit(x_train, y_train,\n",
        "                          batch_size,\n",
        "                          epochs=epochs,\n",
        "                          validation_data=(x_test, y_test)\n",
        "                          )"
      ],
      "execution_count": null,
      "outputs": [
        {
          "output_type": "stream",
          "text": [
            "Epoch 1/100\n",
            "38/38 [==============================] - 1s 36ms/step - loss: 0.3930 - accuracy: 0.8442 - val_loss: 0.5594 - val_accuracy: 0.8095\n",
            "Epoch 2/100\n",
            "38/38 [==============================] - 1s 33ms/step - loss: 0.3796 - accuracy: 0.8450 - val_loss: 0.8125 - val_accuracy: 0.6994\n",
            "Epoch 3/100\n",
            "38/38 [==============================] - 1s 32ms/step - loss: 0.3682 - accuracy: 0.8379 - val_loss: 0.7157 - val_accuracy: 0.7708\n",
            "Epoch 4/100\n",
            "38/38 [==============================] - 1s 35ms/step - loss: 0.3596 - accuracy: 0.8508 - val_loss: 0.6995 - val_accuracy: 0.7113\n",
            "Epoch 5/100\n",
            "38/38 [==============================] - 1s 35ms/step - loss: 0.4407 - accuracy: 0.8221 - val_loss: 1.5463 - val_accuracy: 0.6131\n",
            "Epoch 6/100\n",
            "38/38 [==============================] - 1s 36ms/step - loss: 0.5158 - accuracy: 0.7971 - val_loss: 0.6070 - val_accuracy: 0.7768\n",
            "Epoch 7/100\n",
            "38/38 [==============================] - 1s 37ms/step - loss: 0.3414 - accuracy: 0.8658 - val_loss: 0.5990 - val_accuracy: 0.8006\n",
            "Epoch 8/100\n",
            "38/38 [==============================] - 1s 37ms/step - loss: 0.6970 - accuracy: 0.7529 - val_loss: 1.2208 - val_accuracy: 0.5714\n",
            "Epoch 9/100\n",
            "38/38 [==============================] - 1s 34ms/step - loss: 0.5602 - accuracy: 0.7837 - val_loss: 0.6743 - val_accuracy: 0.7738\n",
            "Epoch 10/100\n",
            "38/38 [==============================] - 1s 34ms/step - loss: 0.4014 - accuracy: 0.8462 - val_loss: 0.7518 - val_accuracy: 0.7202\n",
            "Epoch 11/100\n",
            "38/38 [==============================] - 1s 39ms/step - loss: 0.4083 - accuracy: 0.8300 - val_loss: 0.6276 - val_accuracy: 0.7827\n",
            "Epoch 12/100\n",
            "38/38 [==============================] - 1s 38ms/step - loss: 0.7338 - accuracy: 0.7446 - val_loss: 1.2530 - val_accuracy: 0.5774\n",
            "Epoch 13/100\n",
            "38/38 [==============================] - 2s 40ms/step - loss: 0.4405 - accuracy: 0.8154 - val_loss: 0.6852 - val_accuracy: 0.7113\n",
            "Epoch 14/100\n",
            "38/38 [==============================] - 1s 39ms/step - loss: 0.3582 - accuracy: 0.8525 - val_loss: 0.6952 - val_accuracy: 0.8036\n",
            "Epoch 15/100\n",
            "38/38 [==============================] - 1s 39ms/step - loss: 0.5783 - accuracy: 0.7783 - val_loss: 0.7648 - val_accuracy: 0.7351\n",
            "Epoch 16/100\n",
            "38/38 [==============================] - 2s 41ms/step - loss: 0.4079 - accuracy: 0.8313 - val_loss: 0.9187 - val_accuracy: 0.6637\n",
            "Epoch 17/100\n",
            "38/38 [==============================] - 2s 40ms/step - loss: 0.3950 - accuracy: 0.8371 - val_loss: 0.8080 - val_accuracy: 0.7440\n",
            "Epoch 18/100\n",
            "38/38 [==============================] - 1s 36ms/step - loss: 0.3650 - accuracy: 0.8417 - val_loss: 0.7562 - val_accuracy: 0.7738\n",
            "Epoch 19/100\n",
            "38/38 [==============================] - 1s 39ms/step - loss: 0.3584 - accuracy: 0.8596 - val_loss: 0.7110 - val_accuracy: 0.8065\n",
            "Epoch 20/100\n",
            "38/38 [==============================] - 1s 36ms/step - loss: 0.3061 - accuracy: 0.8833 - val_loss: 0.6510 - val_accuracy: 0.8006\n",
            "Epoch 21/100\n",
            "38/38 [==============================] - 1s 35ms/step - loss: 0.3689 - accuracy: 0.8442 - val_loss: 0.9717 - val_accuracy: 0.6726\n",
            "Epoch 22/100\n",
            "38/38 [==============================] - 2s 41ms/step - loss: 0.8723 - accuracy: 0.6946 - val_loss: 0.9194 - val_accuracy: 0.7232\n",
            "Epoch 23/100\n",
            "38/38 [==============================] - 1s 35ms/step - loss: 0.5739 - accuracy: 0.7717 - val_loss: 0.6243 - val_accuracy: 0.8244\n",
            "Epoch 24/100\n",
            "38/38 [==============================] - 1s 35ms/step - loss: 0.4611 - accuracy: 0.8037 - val_loss: 0.8973 - val_accuracy: 0.6905\n",
            "Epoch 25/100\n",
            "38/38 [==============================] - 1s 37ms/step - loss: 0.4185 - accuracy: 0.8217 - val_loss: 0.6351 - val_accuracy: 0.8036\n",
            "Epoch 26/100\n",
            "38/38 [==============================] - 1s 37ms/step - loss: 0.4038 - accuracy: 0.8367 - val_loss: 0.5418 - val_accuracy: 0.8274\n",
            "Epoch 27/100\n",
            "38/38 [==============================] - 1s 39ms/step - loss: 0.4144 - accuracy: 0.8213 - val_loss: 0.5497 - val_accuracy: 0.8452\n",
            "Epoch 28/100\n",
            "38/38 [==============================] - 2s 40ms/step - loss: 0.3190 - accuracy: 0.8662 - val_loss: 0.4703 - val_accuracy: 0.8810\n",
            "Epoch 29/100\n",
            "38/38 [==============================] - 1s 38ms/step - loss: 0.3629 - accuracy: 0.8446 - val_loss: 0.5272 - val_accuracy: 0.8304\n",
            "Epoch 30/100\n",
            "38/38 [==============================] - 1s 38ms/step - loss: 0.5265 - accuracy: 0.7929 - val_loss: 0.7476 - val_accuracy: 0.7173\n",
            "Epoch 31/100\n",
            "38/38 [==============================] - 1s 33ms/step - loss: 0.4080 - accuracy: 0.8250 - val_loss: 0.5782 - val_accuracy: 0.8274\n",
            "Epoch 32/100\n",
            "38/38 [==============================] - 1s 33ms/step - loss: 0.3457 - accuracy: 0.8567 - val_loss: 0.6073 - val_accuracy: 0.8095\n",
            "Epoch 33/100\n",
            "38/38 [==============================] - 1s 32ms/step - loss: 0.4257 - accuracy: 0.8238 - val_loss: 1.1196 - val_accuracy: 0.6250\n",
            "Epoch 34/100\n",
            "38/38 [==============================] - 1s 34ms/step - loss: 0.5121 - accuracy: 0.7887 - val_loss: 0.5528 - val_accuracy: 0.8512\n",
            "Epoch 35/100\n",
            "38/38 [==============================] - 1s 35ms/step - loss: 0.3775 - accuracy: 0.8525 - val_loss: 0.5792 - val_accuracy: 0.7917\n",
            "Epoch 36/100\n",
            "38/38 [==============================] - 1s 32ms/step - loss: 0.3298 - accuracy: 0.8625 - val_loss: 0.5451 - val_accuracy: 0.8423\n",
            "Epoch 37/100\n",
            "38/38 [==============================] - 1s 32ms/step - loss: 0.3498 - accuracy: 0.8521 - val_loss: 0.5944 - val_accuracy: 0.7976\n",
            "Epoch 38/100\n",
            "38/38 [==============================] - 1s 33ms/step - loss: 0.3251 - accuracy: 0.8721 - val_loss: 0.4944 - val_accuracy: 0.8185\n",
            "Epoch 39/100\n",
            "38/38 [==============================] - 1s 33ms/step - loss: 0.2980 - accuracy: 0.8742 - val_loss: 0.4897 - val_accuracy: 0.8304\n",
            "Epoch 40/100\n",
            "38/38 [==============================] - 1s 33ms/step - loss: 0.2965 - accuracy: 0.8758 - val_loss: 0.9415 - val_accuracy: 0.6429\n",
            "Epoch 41/100\n",
            "38/38 [==============================] - 1s 34ms/step - loss: 0.3973 - accuracy: 0.8388 - val_loss: 0.5783 - val_accuracy: 0.7589\n",
            "Epoch 42/100\n",
            "38/38 [==============================] - 1s 33ms/step - loss: 0.7958 - accuracy: 0.7596 - val_loss: 1.2747 - val_accuracy: 0.6220\n",
            "Epoch 43/100\n",
            "38/38 [==============================] - 1s 35ms/step - loss: 0.7167 - accuracy: 0.7200 - val_loss: 0.7015 - val_accuracy: 0.7411\n",
            "Epoch 44/100\n",
            "38/38 [==============================] - 2s 40ms/step - loss: 0.4536 - accuracy: 0.8117 - val_loss: 0.5408 - val_accuracy: 0.8423\n",
            "Epoch 45/100\n",
            "38/38 [==============================] - 2s 40ms/step - loss: 0.3782 - accuracy: 0.8321 - val_loss: 0.6260 - val_accuracy: 0.8006\n",
            "Epoch 46/100\n",
            "38/38 [==============================] - 1s 35ms/step - loss: 0.4930 - accuracy: 0.8350 - val_loss: 0.9724 - val_accuracy: 0.6935\n",
            "Epoch 47/100\n",
            "38/38 [==============================] - 1s 32ms/step - loss: 0.4428 - accuracy: 0.8117 - val_loss: 0.6810 - val_accuracy: 0.7470\n",
            "Epoch 48/100\n",
            "38/38 [==============================] - 1s 32ms/step - loss: 0.3532 - accuracy: 0.8625 - val_loss: 0.4983 - val_accuracy: 0.8720\n",
            "Epoch 49/100\n",
            "38/38 [==============================] - 1s 38ms/step - loss: 0.3109 - accuracy: 0.8808 - val_loss: 0.5824 - val_accuracy: 0.8006\n",
            "Epoch 50/100\n",
            "38/38 [==============================] - 1s 39ms/step - loss: 0.3231 - accuracy: 0.8683 - val_loss: 0.4710 - val_accuracy: 0.8542\n",
            "Epoch 51/100\n",
            "38/38 [==============================] - 1s 32ms/step - loss: 0.4296 - accuracy: 0.8104 - val_loss: 0.6541 - val_accuracy: 0.7649\n",
            "Epoch 52/100\n",
            "38/38 [==============================] - 1s 35ms/step - loss: 0.3173 - accuracy: 0.8629 - val_loss: 0.5869 - val_accuracy: 0.7827\n",
            "Epoch 53/100\n",
            "38/38 [==============================] - 1s 37ms/step - loss: 0.3048 - accuracy: 0.8708 - val_loss: 0.4853 - val_accuracy: 0.8363\n",
            "Epoch 54/100\n",
            "38/38 [==============================] - 1s 33ms/step - loss: 0.2937 - accuracy: 0.8771 - val_loss: 0.5226 - val_accuracy: 0.8304\n",
            "Epoch 55/100\n",
            "38/38 [==============================] - 1s 33ms/step - loss: 0.5592 - accuracy: 0.7879 - val_loss: 0.9066 - val_accuracy: 0.7083\n",
            "Epoch 56/100\n",
            "38/38 [==============================] - 1s 37ms/step - loss: 0.3989 - accuracy: 0.8333 - val_loss: 0.5641 - val_accuracy: 0.8036\n",
            "Epoch 57/100\n",
            "38/38 [==============================] - 2s 42ms/step - loss: 0.3340 - accuracy: 0.8562 - val_loss: 0.6320 - val_accuracy: 0.7857\n",
            "Epoch 58/100\n",
            "38/38 [==============================] - 1s 35ms/step - loss: 0.4177 - accuracy: 0.8308 - val_loss: 0.8124 - val_accuracy: 0.7411\n",
            "Epoch 59/100\n",
            "38/38 [==============================] - 1s 32ms/step - loss: 0.7094 - accuracy: 0.7462 - val_loss: 0.8167 - val_accuracy: 0.6994\n",
            "Epoch 60/100\n",
            "38/38 [==============================] - 1s 34ms/step - loss: 0.3590 - accuracy: 0.8517 - val_loss: 0.9328 - val_accuracy: 0.7202\n",
            "Epoch 61/100\n",
            "38/38 [==============================] - 1s 34ms/step - loss: 0.4149 - accuracy: 0.8300 - val_loss: 0.5213 - val_accuracy: 0.8661\n",
            "Epoch 62/100\n",
            "38/38 [==============================] - 1s 35ms/step - loss: 0.3173 - accuracy: 0.8633 - val_loss: 0.5164 - val_accuracy: 0.8512\n",
            "Epoch 63/100\n",
            "38/38 [==============================] - 1s 32ms/step - loss: 0.3296 - accuracy: 0.8625 - val_loss: 0.4685 - val_accuracy: 0.8750\n",
            "Epoch 64/100\n",
            "38/38 [==============================] - 1s 34ms/step - loss: 0.3104 - accuracy: 0.8667 - val_loss: 0.4973 - val_accuracy: 0.8512\n",
            "Epoch 65/100\n",
            "38/38 [==============================] - 1s 32ms/step - loss: 0.5514 - accuracy: 0.7842 - val_loss: 0.6492 - val_accuracy: 0.8095\n",
            "Epoch 66/100\n",
            "38/38 [==============================] - 1s 31ms/step - loss: 0.3564 - accuracy: 0.8604 - val_loss: 0.5073 - val_accuracy: 0.8780\n",
            "Epoch 67/100\n",
            "38/38 [==============================] - 1s 35ms/step - loss: 0.3036 - accuracy: 0.8733 - val_loss: 0.5949 - val_accuracy: 0.7857\n",
            "Epoch 68/100\n",
            "38/38 [==============================] - 1s 31ms/step - loss: 0.3632 - accuracy: 0.8346 - val_loss: 0.6141 - val_accuracy: 0.7679\n",
            "Epoch 69/100\n",
            "38/38 [==============================] - 1s 38ms/step - loss: 0.3736 - accuracy: 0.8421 - val_loss: 0.5598 - val_accuracy: 0.8244\n",
            "Epoch 70/100\n",
            "38/38 [==============================] - 1s 37ms/step - loss: 0.3605 - accuracy: 0.8433 - val_loss: 0.8087 - val_accuracy: 0.6637\n",
            "Epoch 71/100\n",
            "38/38 [==============================] - 1s 31ms/step - loss: 0.5140 - accuracy: 0.7833 - val_loss: 0.7602 - val_accuracy: 0.7530\n",
            "Epoch 72/100\n",
            "38/38 [==============================] - 1s 33ms/step - loss: 0.3965 - accuracy: 0.8317 - val_loss: 0.5931 - val_accuracy: 0.7649\n",
            "Epoch 73/100\n",
            "38/38 [==============================] - 1s 33ms/step - loss: 0.3448 - accuracy: 0.8388 - val_loss: 0.6520 - val_accuracy: 0.7768\n",
            "Epoch 74/100\n",
            "38/38 [==============================] - 1s 31ms/step - loss: 0.3165 - accuracy: 0.8637 - val_loss: 1.2611 - val_accuracy: 0.6012\n",
            "Epoch 75/100\n",
            "38/38 [==============================] - 1s 34ms/step - loss: 0.5896 - accuracy: 0.7729 - val_loss: 0.7218 - val_accuracy: 0.8214\n",
            "Epoch 76/100\n",
            "38/38 [==============================] - 1s 34ms/step - loss: 0.3772 - accuracy: 0.8288 - val_loss: 0.6107 - val_accuracy: 0.8274\n",
            "Epoch 77/100\n",
            "38/38 [==============================] - 1s 37ms/step - loss: 0.9016 - accuracy: 0.7217 - val_loss: 1.1248 - val_accuracy: 0.5804\n",
            "Epoch 78/100\n",
            "38/38 [==============================] - 1s 33ms/step - loss: 0.4333 - accuracy: 0.8208 - val_loss: 0.9878 - val_accuracy: 0.8065\n",
            "Epoch 79/100\n",
            "38/38 [==============================] - 1s 32ms/step - loss: 0.7771 - accuracy: 0.7304 - val_loss: 2.0727 - val_accuracy: 0.5208\n",
            "Epoch 80/100\n",
            "38/38 [==============================] - 1s 36ms/step - loss: 0.6690 - accuracy: 0.7408 - val_loss: 1.1031 - val_accuracy: 0.7202\n",
            "Epoch 81/100\n",
            "38/38 [==============================] - 1s 34ms/step - loss: 0.4565 - accuracy: 0.8092 - val_loss: 1.2669 - val_accuracy: 0.6905\n",
            "Epoch 82/100\n",
            "38/38 [==============================] - 1s 34ms/step - loss: 0.4311 - accuracy: 0.8217 - val_loss: 1.1088 - val_accuracy: 0.7500\n",
            "Epoch 83/100\n",
            "38/38 [==============================] - 2s 41ms/step - loss: 0.3736 - accuracy: 0.8529 - val_loss: 1.0172 - val_accuracy: 0.8304\n",
            "Epoch 84/100\n",
            "38/38 [==============================] - 2s 42ms/step - loss: 0.4521 - accuracy: 0.8150 - val_loss: 1.1101 - val_accuracy: 0.7679\n",
            "Epoch 85/100\n",
            "38/38 [==============================] - 1s 39ms/step - loss: 0.4263 - accuracy: 0.8075 - val_loss: 1.1641 - val_accuracy: 0.7113\n",
            "Epoch 86/100\n",
            "38/38 [==============================] - 2s 40ms/step - loss: 0.6609 - accuracy: 0.7375 - val_loss: 1.5198 - val_accuracy: 0.6280\n",
            "Epoch 87/100\n",
            "38/38 [==============================] - 1s 32ms/step - loss: 0.5089 - accuracy: 0.7871 - val_loss: 1.1968 - val_accuracy: 0.7798\n",
            "Epoch 88/100\n",
            "38/38 [==============================] - 1s 35ms/step - loss: 0.3811 - accuracy: 0.8396 - val_loss: 1.0391 - val_accuracy: 0.7768\n",
            "Epoch 89/100\n",
            "38/38 [==============================] - 1s 32ms/step - loss: 0.3501 - accuracy: 0.8596 - val_loss: 1.1151 - val_accuracy: 0.7292\n",
            "Epoch 90/100\n",
            "38/38 [==============================] - 1s 34ms/step - loss: 0.3485 - accuracy: 0.8571 - val_loss: 1.0296 - val_accuracy: 0.7679\n",
            "Epoch 91/100\n",
            "38/38 [==============================] - 1s 34ms/step - loss: 0.3839 - accuracy: 0.8454 - val_loss: 1.0978 - val_accuracy: 0.8274\n",
            "Epoch 92/100\n",
            "38/38 [==============================] - 1s 35ms/step - loss: 0.2999 - accuracy: 0.8988 - val_loss: 1.0918 - val_accuracy: 0.7857\n",
            "Epoch 93/100\n",
            "38/38 [==============================] - 1s 33ms/step - loss: 0.3132 - accuracy: 0.8813 - val_loss: 1.0140 - val_accuracy: 0.8690\n",
            "Epoch 94/100\n",
            "38/38 [==============================] - 1s 33ms/step - loss: 0.4490 - accuracy: 0.8158 - val_loss: 1.4790 - val_accuracy: 0.5893\n",
            "Epoch 95/100\n",
            "38/38 [==============================] - 1s 32ms/step - loss: 0.3523 - accuracy: 0.8546 - val_loss: 1.0247 - val_accuracy: 0.8601\n",
            "Epoch 96/100\n",
            "38/38 [==============================] - 1s 36ms/step - loss: 0.3523 - accuracy: 0.8492 - val_loss: 1.0381 - val_accuracy: 0.8244\n",
            "Epoch 97/100\n",
            "38/38 [==============================] - 1s 33ms/step - loss: 1.0301 - accuracy: 0.6737 - val_loss: 1.0931 - val_accuracy: 0.7321\n",
            "Epoch 98/100\n",
            "38/38 [==============================] - 1s 33ms/step - loss: 0.5635 - accuracy: 0.7642 - val_loss: 1.4292 - val_accuracy: 0.6310\n",
            "Epoch 99/100\n",
            "38/38 [==============================] - 1s 33ms/step - loss: 0.3738 - accuracy: 0.8438 - val_loss: 1.2775 - val_accuracy: 0.6399\n",
            "Epoch 100/100\n",
            "38/38 [==============================] - 1s 36ms/step - loss: 0.4675 - accuracy: 0.7942 - val_loss: 1.0477 - val_accuracy: 0.7857\n"
          ],
          "name": "stdout"
        }
      ]
    },
    {
      "cell_type": "code",
      "metadata": {
        "id": "AtXAeBWuQ6Fu",
        "colab": {
          "base_uri": "https://localhost:8080/",
          "height": 35
        },
        "outputId": "76f9b14e-c883-4af8-e0c3-fde3226d68ec"
      },
      "source": [
        "acc2 = model2.evaluate(x_train, y_train)"
      ],
      "execution_count": null,
      "outputs": [
        {
          "output_type": "stream",
          "text": [
            "2400/2400 [==============================] - 0s 97us/step\n"
          ],
          "name": "stdout"
        }
      ]
    },
    {
      "cell_type": "code",
      "metadata": {
        "id": "4dtu4vJ7Q6-J",
        "colab": {
          "base_uri": "https://localhost:8080/",
          "height": 35
        },
        "outputId": "bb09fd03-e862-4c1b-9ebe-1e8c94c49487"
      },
      "source": [
        "print(\"Loss:\", acc2[0], \" Accuracy:\", acc2[1])"
      ],
      "execution_count": null,
      "outputs": [
        {
          "output_type": "stream",
          "text": [
            "Loss: 0.24665268162886303  Accuracy: 0.90625\n"
          ],
          "name": "stdout"
        }
      ]
    },
    {
      "cell_type": "code",
      "metadata": {
        "id": "yUcAYNFQRJeE",
        "colab": {
          "base_uri": "https://localhost:8080/",
          "height": 35
        },
        "outputId": "09fb21d8-cbe6-47d0-c79e-da6ad64e924c"
      },
      "source": [
        "val_acc2 = model2.evaluate(x_test, y_test)"
      ],
      "execution_count": null,
      "outputs": [
        {
          "output_type": "stream",
          "text": [
            "336/336 [==============================] - 0s 124us/step\n"
          ],
          "name": "stdout"
        }
      ]
    },
    {
      "cell_type": "code",
      "metadata": {
        "id": "1bNK3FBHRVEt",
        "colab": {
          "base_uri": "https://localhost:8080/",
          "height": 35
        },
        "outputId": "cd9de21d-a156-42c1-fd6a-d39832deed43"
      },
      "source": [
        "print(\"Loss:\", val_acc2[0], \" Accuracy:\", val_acc2[1])"
      ],
      "execution_count": null,
      "outputs": [
        {
          "output_type": "stream",
          "text": [
            "Loss: 0.5488930756137484  Accuracy: 0.8809523582458496\n"
          ],
          "name": "stdout"
        }
      ]
    },
    {
      "cell_type": "code",
      "metadata": {
        "id": "JrijKgD3i5BF"
      },
      "source": [
        "pred2 = model2.predict(x_test)\n",
        "pred_y2 = pred2.argmax(axis=-1)"
      ],
      "execution_count": null,
      "outputs": []
    },
    {
      "cell_type": "code",
      "metadata": {
        "id": "eu7-wtjtjLd8",
        "colab": {
          "base_uri": "https://localhost:8080/",
          "height": 163
        },
        "outputId": "3c3b9879-0974-455e-98b7-0bad8f73fc48"
      },
      "source": [
        "cm2 = confusion_matrix(y_test, pred_y2)\n",
        "print(cm2)"
      ],
      "execution_count": null,
      "outputs": [
        {
          "output_type": "stream",
          "text": [
            "[[20  0  1 14  0  0  2  5]\n",
            " [ 0 42  0  0  0  0  0  0]\n",
            " [ 0  0 42  0  0  0  0  0]\n",
            " [ 5  0  0 35  0  1  0  1]\n",
            " [ 1  0  0  0 39  0  2  0]\n",
            " [ 1  0  0  0  0 39  0  2]\n",
            " [ 1  0  0  0  3  0 38  0]\n",
            " [ 0  0  0  0  0  1  0 41]]\n"
          ],
          "name": "stdout"
        }
      ]
    },
    {
      "cell_type": "code",
      "metadata": {
        "id": "uZFHSx_cU1Q5",
        "colab": {
          "base_uri": "https://localhost:8080/",
          "height": 339
        },
        "outputId": "1418cd9d-c62b-4691-e9d5-539873e23f0d"
      },
      "source": [
        "import seaborn as sns\n",
        "sns.heatmap(cm2, annot=True)"
      ],
      "execution_count": null,
      "outputs": [
        {
          "output_type": "stream",
          "text": [
            "/usr/local/lib/python3.6/dist-packages/statsmodels/tools/_testing.py:19: FutureWarning: pandas.util.testing is deprecated. Use the functions in the public API at pandas.testing instead.\n",
            "  import pandas.util.testing as tm\n"
          ],
          "name": "stderr"
        },
        {
          "output_type": "execute_result",
          "data": {
            "text/plain": [
              "<matplotlib.axes._subplots.AxesSubplot at 0x7f793f036860>"
            ]
          },
          "metadata": {
            "tags": []
          },
          "execution_count": 133
        },
        {
          "output_type": "display_data",
          "data": {
            "image/png": "[encoded data removed]",
            "text/plain": [
              "<Figure size 432x288 with 2 Axes>"
            ]
          },
          "metadata": {
            "tags": [],
            "needs_background": "light"
          }
        }
      ]
    },
    {
      "cell_type": "code",
      "metadata": {
        "id": "e62irM4jjPTW",
        "colab": {
          "base_uri": "https://localhost:8080/",
          "height": 295
        },
        "outputId": "79281185-325e-4418-b74b-94f2b7630340"
      },
      "source": [
        "plt.plot(model2_history.history['loss'])\n",
        "plt.plot(model2_history.history['val_loss'])\n",
        "plt.title('Improved 1D-CNN train vs validation loss')\n",
        "plt.ylabel('loss')\n",
        "plt.xlabel('epoch')\n",
        "plt.legend(['train', 'validation'], loc='upper right')\n",
        "plt.show()"
      ],
      "execution_count": null,
      "outputs": [
        {
          "output_type": "display_data",
          "data": {
            "image/png": "[encoded data removed]",
            "text/plain": [
              "<Figure size 432x288 with 1 Axes>"
            ]
          },
          "metadata": {
            "tags": [],
            "needs_background": "light"
          }
        }
      ]
    },
    {
      "cell_type": "code",
      "metadata": {
        "id": "N1JTnp6aRrby",
        "colab": {
          "base_uri": "https://localhost:8080/",
          "height": 295
        },
        "outputId": "55d6f2de-6f76-4e5c-ce4d-1cb7dfafb469"
      },
      "source": [
        "plt.plot(model2_history.history['accuracy'])\n",
        "plt.plot(model2_history.history['val_accuracy'])\n",
        "plt.title('improved 1D-CNN train vs validation accuracy')\n",
        "plt.ylabel('accuracy')\n",
        "plt.xlabel('epoch')\n",
        "plt.legend(['train', 'validation'], loc='upper right')\n",
        "plt.show()"
      ],
      "execution_count": null,
      "outputs": [
        {
          "output_type": "display_data",
          "data": {
            "image/png": "[encoded data removed]",
            "text/plain": [
              "<Figure size 432x288 with 1 Axes>"
            ]
          },
          "metadata": {
            "tags": [],
            "needs_background": "light"
          }
        }
      ]
    },
    {
      "cell_type": "markdown",
      "metadata": {
        "id": "fGgeEhArpv2G"
      },
      "source": [
        "2-L-1D-CNN"
      ]
    },
    {
      "cell_type": "code",
      "metadata": {
        "id": "j0x0zAu9jVdD"
      },
      "source": [
        "model3 = Sequential()\n",
        "model3.add(Conv1D(128,10 , activation=\"relu\",strides=1,input_shape=(32,2)))\n",
        "model3.add(MaxPooling1D(pool_size=2))\n",
        "model3.add(Conv1D(128,10 , activation=\"relu\",strides=1))\n",
        "model3.add(MaxPooling1D(pool_size=2))\n",
        "model3.add(Flatten())\n",
        "model3.add(Dense(80, activation=\"relu\"))\n",
        "model3.add(Dense(8, activation = 'softmax'))\n",
        "model3.compile(loss = 'sparse_categorical_crossentropy',\n",
        "              optimizer = \"adam\",\n",
        "              metrics = ['accuracy']\n",
        "              )"
      ],
      "execution_count": null,
      "outputs": []
    },
    {
      "cell_type": "code",
      "metadata": {
        "id": "s-2X8ZaSqkru",
        "colab": {
          "base_uri": "https://localhost:8080/",
          "height": 391
        },
        "outputId": "146da332-b8fe-463f-a640-20665d75b74f"
      },
      "source": [
        "model3.summary()"
      ],
      "execution_count": null,
      "outputs": [
        {
          "output_type": "stream",
          "text": [
            "Model: \"sequential_8\"\n",
            "_________________________________________________________________\n",
            "Layer (type)                 Output Shape              Param #   \n",
            "=================================================================\n",
            "conv1d_27 (Conv1D)           (None, 23, 128)           2688      \n",
            "_________________________________________________________________\n",
            "max_pooling1d_19 (MaxPooling (None, 11, 128)           0         \n",
            "_________________________________________________________________\n",
            "conv1d_28 (Conv1D)           (None, 2, 128)            163968    \n",
            "_________________________________________________________________\n",
            "max_pooling1d_20 (MaxPooling (None, 1, 128)            0         \n",
            "_________________________________________________________________\n",
            "flatten_12 (Flatten)         (None, 128)               0         \n",
            "_________________________________________________________________\n",
            "dense_23 (Dense)             (None, 80)                10320     \n",
            "_________________________________________________________________\n",
            "dense_24 (Dense)             (None, 8)                 648       \n",
            "=================================================================\n",
            "Total params: 177,624\n",
            "Trainable params: 177,624\n",
            "Non-trainable params: 0\n",
            "_________________________________________________________________\n"
          ],
          "name": "stdout"
        }
      ]
    },
    {
      "cell_type": "code",
      "metadata": {
        "id": "plAEFoimqrTK",
        "colab": {
          "base_uri": "https://localhost:8080/",
          "height": 1000
        },
        "outputId": "9e9d1a6a-2d86-4af1-a570-9fee26c1ef17"
      },
      "source": [
        "batch_size=64\n",
        "epochs=225\n",
        "model3_history=model3.fit(x_train, y_train,\n",
        "                          batch_size,\n",
        "                          epochs=epochs,\n",
        "                          validation_data=(x_test, y_test)\n",
        "                          )"
      ],
      "execution_count": null,
      "outputs": [
        {
          "output_type": "stream",
          "text": [
            "Train on 2400 samples, validate on 336 samples\n",
            "Epoch 1/225\n",
            "2400/2400 [==============================] - 2s 671us/step - loss: 34.9501 - accuracy: 0.1200 - val_loss: 10.1367 - val_accuracy: 0.1369\n",
            "Epoch 2/225\n",
            "2400/2400 [==============================] - 1s 611us/step - loss: 4.3568 - accuracy: 0.1317 - val_loss: 2.6202 - val_accuracy: 0.1577\n",
            "Epoch 3/225\n",
            "2400/2400 [==============================] - 1s 610us/step - loss: 2.2342 - accuracy: 0.1650 - val_loss: 2.1851 - val_accuracy: 0.1845\n",
            "Epoch 4/225\n",
            "2400/2400 [==============================] - 1s 611us/step - loss: 2.0080 - accuracy: 0.2021 - val_loss: 2.0273 - val_accuracy: 0.2440\n",
            "Epoch 5/225\n",
            "2400/2400 [==============================] - 1s 611us/step - loss: 2.0502 - accuracy: 0.1979 - val_loss: 2.0030 - val_accuracy: 0.2173\n",
            "Epoch 6/225\n",
            "2400/2400 [==============================] - 1s 594us/step - loss: 1.9601 - accuracy: 0.2225 - val_loss: 2.0890 - val_accuracy: 0.2173\n",
            "Epoch 7/225\n",
            "2400/2400 [==============================] - 1s 606us/step - loss: 1.9479 - accuracy: 0.2546 - val_loss: 1.8740 - val_accuracy: 0.2440\n",
            "Epoch 8/225\n",
            "2400/2400 [==============================] - 1s 589us/step - loss: 1.8637 - accuracy: 0.2729 - val_loss: 1.8333 - val_accuracy: 0.2679\n",
            "Epoch 9/225\n",
            "2400/2400 [==============================] - 1s 615us/step - loss: 1.9654 - accuracy: 0.2512 - val_loss: 1.8022 - val_accuracy: 0.3125\n",
            "Epoch 10/225\n",
            "2400/2400 [==============================] - 2s 634us/step - loss: 2.3144 - accuracy: 0.2250 - val_loss: 2.0234 - val_accuracy: 0.1786\n",
            "Epoch 11/225\n",
            "2400/2400 [==============================] - 1s 589us/step - loss: 1.9301 - accuracy: 0.2271 - val_loss: 1.7311 - val_accuracy: 0.3661\n",
            "Epoch 12/225\n",
            "2400/2400 [==============================] - 1s 585us/step - loss: 1.8527 - accuracy: 0.2887 - val_loss: 1.9465 - val_accuracy: 0.2143\n",
            "Epoch 13/225\n",
            "2400/2400 [==============================] - 2s 634us/step - loss: 1.7782 - accuracy: 0.3208 - val_loss: 1.8448 - val_accuracy: 0.2024\n",
            "Epoch 14/225\n",
            "2400/2400 [==============================] - 1s 601us/step - loss: 1.7113 - accuracy: 0.3642 - val_loss: 1.6803 - val_accuracy: 0.3512\n",
            "Epoch 15/225\n",
            "2400/2400 [==============================] - 1s 612us/step - loss: 1.7140 - accuracy: 0.3142 - val_loss: 1.6146 - val_accuracy: 0.3869\n",
            "Epoch 16/225\n",
            "2400/2400 [==============================] - 1s 617us/step - loss: 1.7170 - accuracy: 0.3429 - val_loss: 1.8852 - val_accuracy: 0.3095\n",
            "Epoch 17/225\n",
            "2400/2400 [==============================] - 1s 617us/step - loss: 1.6566 - accuracy: 0.3446 - val_loss: 1.8035 - val_accuracy: 0.2351\n",
            "Epoch 18/225\n",
            "2400/2400 [==============================] - 1s 614us/step - loss: 1.5651 - accuracy: 0.4296 - val_loss: 1.6542 - val_accuracy: 0.2917\n",
            "Epoch 19/225\n",
            "2400/2400 [==============================] - 1s 605us/step - loss: 1.6051 - accuracy: 0.3837 - val_loss: 1.4952 - val_accuracy: 0.5119\n",
            "Epoch 20/225\n",
            "2400/2400 [==============================] - 1s 619us/step - loss: 1.6365 - accuracy: 0.3550 - val_loss: 1.4853 - val_accuracy: 0.4762\n",
            "Epoch 21/225\n",
            "2400/2400 [==============================] - 1s 599us/step - loss: 1.6537 - accuracy: 0.3587 - val_loss: 1.6860 - val_accuracy: 0.2887\n",
            "Epoch 22/225\n",
            "2400/2400 [==============================] - 1s 604us/step - loss: 1.5282 - accuracy: 0.4042 - val_loss: 1.5103 - val_accuracy: 0.4286\n",
            "Epoch 23/225\n",
            "2400/2400 [==============================] - 1s 610us/step - loss: 1.4871 - accuracy: 0.4304 - val_loss: 1.5091 - val_accuracy: 0.3869\n",
            "Epoch 24/225\n",
            "2400/2400 [==============================] - 1s 608us/step - loss: 1.4552 - accuracy: 0.4417 - val_loss: 1.6799 - val_accuracy: 0.2530\n",
            "Epoch 25/225\n",
            "2400/2400 [==============================] - 1s 618us/step - loss: 1.4840 - accuracy: 0.4150 - val_loss: 1.3548 - val_accuracy: 0.4256\n",
            "Epoch 26/225\n",
            "2400/2400 [==============================] - 1s 618us/step - loss: 1.3993 - accuracy: 0.4704 - val_loss: 1.2617 - val_accuracy: 0.5536\n",
            "Epoch 27/225\n",
            "2400/2400 [==============================] - 1s 616us/step - loss: 1.4618 - accuracy: 0.4392 - val_loss: 1.6735 - val_accuracy: 0.3750\n",
            "Epoch 28/225\n",
            "2400/2400 [==============================] - 1s 614us/step - loss: 1.3344 - accuracy: 0.4825 - val_loss: 1.3827 - val_accuracy: 0.5595\n",
            "Epoch 29/225\n",
            "2400/2400 [==============================] - 1s 615us/step - loss: 1.3718 - accuracy: 0.4917 - val_loss: 1.2063 - val_accuracy: 0.5119\n",
            "Epoch 30/225\n",
            "2400/2400 [==============================] - 1s 615us/step - loss: 1.2475 - accuracy: 0.5071 - val_loss: 1.1981 - val_accuracy: 0.5089\n",
            "Epoch 31/225\n",
            "2400/2400 [==============================] - 1s 608us/step - loss: 1.2919 - accuracy: 0.4879 - val_loss: 1.4181 - val_accuracy: 0.3125\n",
            "Epoch 32/225\n",
            "2400/2400 [==============================] - 1s 607us/step - loss: 1.2701 - accuracy: 0.4900 - val_loss: 1.2981 - val_accuracy: 0.4643\n",
            "Epoch 33/225\n",
            "2400/2400 [==============================] - 1s 610us/step - loss: 1.1095 - accuracy: 0.5917 - val_loss: 1.0870 - val_accuracy: 0.5298\n",
            "Epoch 34/225\n",
            "2400/2400 [==============================] - 1s 611us/step - loss: 1.2052 - accuracy: 0.5367 - val_loss: 1.4063 - val_accuracy: 0.4583\n",
            "Epoch 35/225\n",
            "2400/2400 [==============================] - 1s 617us/step - loss: 1.2826 - accuracy: 0.5117 - val_loss: 1.0396 - val_accuracy: 0.6815\n",
            "Epoch 36/225\n",
            "2400/2400 [==============================] - 1s 614us/step - loss: 1.1065 - accuracy: 0.5767 - val_loss: 1.2553 - val_accuracy: 0.5030\n",
            "Epoch 37/225\n",
            "2400/2400 [==============================] - 1s 610us/step - loss: 1.1765 - accuracy: 0.5200 - val_loss: 1.1495 - val_accuracy: 0.5982\n",
            "Epoch 38/225\n",
            "2400/2400 [==============================] - 1s 620us/step - loss: 1.0108 - accuracy: 0.6150 - val_loss: 1.1062 - val_accuracy: 0.5744\n",
            "Epoch 39/225\n",
            "2400/2400 [==============================] - 1s 597us/step - loss: 1.0374 - accuracy: 0.5808 - val_loss: 1.0541 - val_accuracy: 0.6280\n",
            "Epoch 40/225\n",
            "2400/2400 [==============================] - 1s 614us/step - loss: 0.9568 - accuracy: 0.6442 - val_loss: 1.4941 - val_accuracy: 0.3601\n",
            "Epoch 41/225\n",
            "2400/2400 [==============================] - 1s 605us/step - loss: 0.9776 - accuracy: 0.6242 - val_loss: 1.1679 - val_accuracy: 0.5238\n",
            "Epoch 42/225\n",
            "2400/2400 [==============================] - 1s 614us/step - loss: 1.0418 - accuracy: 0.5800 - val_loss: 1.1775 - val_accuracy: 0.5714\n",
            "Epoch 43/225\n",
            "2400/2400 [==============================] - 1s 607us/step - loss: 1.1174 - accuracy: 0.5542 - val_loss: 1.8792 - val_accuracy: 0.3839\n",
            "Epoch 44/225\n",
            "2400/2400 [==============================] - 1s 615us/step - loss: 1.0421 - accuracy: 0.5917 - val_loss: 1.2855 - val_accuracy: 0.4851\n",
            "Epoch 45/225\n",
            "2400/2400 [==============================] - 1s 607us/step - loss: 1.0735 - accuracy: 0.5775 - val_loss: 1.2564 - val_accuracy: 0.4970\n",
            "Epoch 46/225\n",
            "2400/2400 [==============================] - 1s 610us/step - loss: 0.9917 - accuracy: 0.6204 - val_loss: 1.2009 - val_accuracy: 0.4613\n",
            "Epoch 47/225\n",
            "2400/2400 [==============================] - 1s 606us/step - loss: 1.0504 - accuracy: 0.5879 - val_loss: 0.9085 - val_accuracy: 0.7262\n",
            "Epoch 48/225\n",
            "2400/2400 [==============================] - 1s 616us/step - loss: 1.1009 - accuracy: 0.5775 - val_loss: 1.0304 - val_accuracy: 0.6161\n",
            "Epoch 49/225\n",
            "2400/2400 [==============================] - 1s 596us/step - loss: 0.8931 - accuracy: 0.6846 - val_loss: 2.1882 - val_accuracy: 0.3304\n",
            "Epoch 50/225\n",
            "2400/2400 [==============================] - 1s 611us/step - loss: 0.9961 - accuracy: 0.6463 - val_loss: 0.9085 - val_accuracy: 0.5923\n",
            "Epoch 51/225\n",
            "2400/2400 [==============================] - 1s 612us/step - loss: 0.8782 - accuracy: 0.6571 - val_loss: 0.8109 - val_accuracy: 0.7708\n",
            "Epoch 52/225\n",
            "2400/2400 [==============================] - 1s 599us/step - loss: 0.8285 - accuracy: 0.6858 - val_loss: 0.9638 - val_accuracy: 0.5476\n",
            "Epoch 53/225\n",
            "2400/2400 [==============================] - 1s 606us/step - loss: 0.9309 - accuracy: 0.6371 - val_loss: 0.8376 - val_accuracy: 0.7381\n",
            "Epoch 54/225\n",
            "2400/2400 [==============================] - 1s 612us/step - loss: 0.8705 - accuracy: 0.6846 - val_loss: 0.9428 - val_accuracy: 0.6250\n",
            "Epoch 55/225\n",
            "2400/2400 [==============================] - 1s 614us/step - loss: 0.8366 - accuracy: 0.6792 - val_loss: 0.9763 - val_accuracy: 0.5565\n",
            "Epoch 56/225\n",
            "2400/2400 [==============================] - 1s 611us/step - loss: 0.8054 - accuracy: 0.6933 - val_loss: 0.8400 - val_accuracy: 0.7024\n",
            "Epoch 57/225\n",
            "2400/2400 [==============================] - 1s 621us/step - loss: 0.7276 - accuracy: 0.7362 - val_loss: 0.7782 - val_accuracy: 0.7054\n",
            "Epoch 58/225\n",
            "2400/2400 [==============================] - 1s 611us/step - loss: 0.9600 - accuracy: 0.5908 - val_loss: 0.8583 - val_accuracy: 0.6607\n",
            "Epoch 59/225\n",
            "2400/2400 [==============================] - 1s 614us/step - loss: 0.9418 - accuracy: 0.6292 - val_loss: 1.5913 - val_accuracy: 0.4256\n",
            "Epoch 60/225\n",
            "2400/2400 [==============================] - 1s 607us/step - loss: 0.9121 - accuracy: 0.6263 - val_loss: 1.0805 - val_accuracy: 0.5536\n",
            "Epoch 61/225\n",
            "2400/2400 [==============================] - 1s 617us/step - loss: 0.9899 - accuracy: 0.5962 - val_loss: 0.9093 - val_accuracy: 0.6458\n",
            "Epoch 62/225\n",
            "2400/2400 [==============================] - 1s 609us/step - loss: 0.8278 - accuracy: 0.6667 - val_loss: 1.2227 - val_accuracy: 0.4881\n",
            "Epoch 63/225\n",
            "2400/2400 [==============================] - 1s 607us/step - loss: 0.7346 - accuracy: 0.7333 - val_loss: 0.8277 - val_accuracy: 0.7143\n",
            "Epoch 64/225\n",
            "2400/2400 [==============================] - 1s 605us/step - loss: 0.8105 - accuracy: 0.6692 - val_loss: 0.8562 - val_accuracy: 0.7054\n",
            "Epoch 65/225\n",
            "2400/2400 [==============================] - 1s 599us/step - loss: 0.7481 - accuracy: 0.7075 - val_loss: 0.7461 - val_accuracy: 0.7411\n",
            "Epoch 66/225\n",
            "2400/2400 [==============================] - 1s 603us/step - loss: 0.7059 - accuracy: 0.7279 - val_loss: 0.7239 - val_accuracy: 0.7649\n",
            "Epoch 67/225\n",
            "2400/2400 [==============================] - 1s 601us/step - loss: 0.7207 - accuracy: 0.7071 - val_loss: 0.7547 - val_accuracy: 0.7113\n",
            "Epoch 68/225\n",
            "2400/2400 [==============================] - 1s 601us/step - loss: 0.9200 - accuracy: 0.6358 - val_loss: 1.2760 - val_accuracy: 0.5060\n",
            "Epoch 69/225\n",
            "2400/2400 [==============================] - 1s 595us/step - loss: 0.8938 - accuracy: 0.6375 - val_loss: 1.4429 - val_accuracy: 0.4940\n",
            "Epoch 70/225\n",
            "2400/2400 [==============================] - 1s 591us/step - loss: 1.0454 - accuracy: 0.5913 - val_loss: 1.0149 - val_accuracy: 0.5446\n",
            "Epoch 71/225\n",
            "2400/2400 [==============================] - 1s 607us/step - loss: 0.8597 - accuracy: 0.6525 - val_loss: 0.8307 - val_accuracy: 0.6101\n",
            "Epoch 72/225\n",
            "2400/2400 [==============================] - 1s 604us/step - loss: 0.7156 - accuracy: 0.7412 - val_loss: 0.7684 - val_accuracy: 0.8125\n",
            "Epoch 73/225\n",
            "2400/2400 [==============================] - 1s 610us/step - loss: 0.6903 - accuracy: 0.7362 - val_loss: 0.7316 - val_accuracy: 0.7798\n",
            "Epoch 74/225\n",
            "2400/2400 [==============================] - 1s 604us/step - loss: 0.7239 - accuracy: 0.7200 - val_loss: 0.8160 - val_accuracy: 0.7292\n",
            "Epoch 75/225\n",
            "2400/2400 [==============================] - 1s 609us/step - loss: 0.9085 - accuracy: 0.6296 - val_loss: 1.4274 - val_accuracy: 0.5268\n",
            "Epoch 76/225\n",
            "2400/2400 [==============================] - 1s 599us/step - loss: 0.7835 - accuracy: 0.6988 - val_loss: 0.7842 - val_accuracy: 0.7202\n",
            "Epoch 77/225\n",
            "2400/2400 [==============================] - 1s 613us/step - loss: 1.0967 - accuracy: 0.6012 - val_loss: 1.0608 - val_accuracy: 0.6101\n",
            "Epoch 78/225\n",
            "2400/2400 [==============================] - 1s 608us/step - loss: 0.8744 - accuracy: 0.6592 - val_loss: 0.9446 - val_accuracy: 0.6161\n",
            "Epoch 79/225\n",
            "2400/2400 [==============================] - 1s 607us/step - loss: 0.7468 - accuracy: 0.7212 - val_loss: 0.8068 - val_accuracy: 0.7143\n",
            "Epoch 80/225\n",
            "2400/2400 [==============================] - 1s 606us/step - loss: 0.6324 - accuracy: 0.7767 - val_loss: 0.8093 - val_accuracy: 0.6429\n",
            "Epoch 81/225\n",
            "2400/2400 [==============================] - 1s 609us/step - loss: 0.7258 - accuracy: 0.7171 - val_loss: 1.3552 - val_accuracy: 0.4048\n",
            "Epoch 82/225\n",
            "2400/2400 [==============================] - 1s 608us/step - loss: 1.0037 - accuracy: 0.6196 - val_loss: 0.7936 - val_accuracy: 0.7500\n",
            "Epoch 83/225\n",
            "2400/2400 [==============================] - 1s 605us/step - loss: 0.6811 - accuracy: 0.7425 - val_loss: 0.8573 - val_accuracy: 0.6667\n",
            "Epoch 84/225\n",
            "2400/2400 [==============================] - 1s 614us/step - loss: 0.6990 - accuracy: 0.7167 - val_loss: 0.8928 - val_accuracy: 0.6845\n",
            "Epoch 85/225\n",
            "2400/2400 [==============================] - 1s 607us/step - loss: 0.8898 - accuracy: 0.6583 - val_loss: 1.2522 - val_accuracy: 0.5208\n",
            "Epoch 86/225\n",
            "2400/2400 [==============================] - 1s 603us/step - loss: 0.8453 - accuracy: 0.6546 - val_loss: 0.8671 - val_accuracy: 0.6429\n",
            "Epoch 87/225\n",
            "2400/2400 [==============================] - 1s 608us/step - loss: 0.6966 - accuracy: 0.7158 - val_loss: 0.7351 - val_accuracy: 0.7887\n",
            "Epoch 88/225\n",
            "2400/2400 [==============================] - 1s 600us/step - loss: 0.6282 - accuracy: 0.7571 - val_loss: 1.0419 - val_accuracy: 0.5208\n",
            "Epoch 89/225\n",
            "2400/2400 [==============================] - 1s 608us/step - loss: 0.8118 - accuracy: 0.6742 - val_loss: 0.7649 - val_accuracy: 0.7054\n",
            "Epoch 90/225\n",
            "2400/2400 [==============================] - 1s 609us/step - loss: 0.6325 - accuracy: 0.7487 - val_loss: 0.8717 - val_accuracy: 0.6607\n",
            "Epoch 91/225\n",
            "2400/2400 [==============================] - 1s 607us/step - loss: 0.6919 - accuracy: 0.7287 - val_loss: 0.7465 - val_accuracy: 0.7054\n",
            "Epoch 92/225\n",
            "2400/2400 [==============================] - 1s 611us/step - loss: 0.7652 - accuracy: 0.6988 - val_loss: 1.1122 - val_accuracy: 0.5714\n",
            "Epoch 93/225\n",
            "2400/2400 [==============================] - 1s 611us/step - loss: 1.1243 - accuracy: 0.5487 - val_loss: 0.9814 - val_accuracy: 0.6667\n",
            "Epoch 94/225\n",
            "2400/2400 [==============================] - 1s 594us/step - loss: 0.9751 - accuracy: 0.6046 - val_loss: 0.8590 - val_accuracy: 0.6875\n",
            "Epoch 95/225\n",
            "2400/2400 [==============================] - 2s 626us/step - loss: 0.8004 - accuracy: 0.6942 - val_loss: 0.8660 - val_accuracy: 0.7560\n",
            "Epoch 96/225\n",
            "2400/2400 [==============================] - 2s 636us/step - loss: 0.7930 - accuracy: 0.6875 - val_loss: 0.9791 - val_accuracy: 0.5298\n",
            "Epoch 97/225\n",
            "2400/2400 [==============================] - 2s 636us/step - loss: 0.7675 - accuracy: 0.7054 - val_loss: 0.9002 - val_accuracy: 0.6399\n",
            "Epoch 98/225\n",
            "2400/2400 [==============================] - 2s 700us/step - loss: 0.8383 - accuracy: 0.6467 - val_loss: 1.4962 - val_accuracy: 0.4405\n",
            "Epoch 99/225\n",
            "2400/2400 [==============================] - 2s 686us/step - loss: 1.1459 - accuracy: 0.5688 - val_loss: 1.1679 - val_accuracy: 0.5387\n",
            "Epoch 100/225\n",
            "2400/2400 [==============================] - 2s 627us/step - loss: 0.8121 - accuracy: 0.6854 - val_loss: 0.8382 - val_accuracy: 0.7321\n",
            "Epoch 101/225\n",
            "2400/2400 [==============================] - 1s 625us/step - loss: 0.8141 - accuracy: 0.6583 - val_loss: 1.1271 - val_accuracy: 0.5268\n",
            "Epoch 102/225\n",
            "2400/2400 [==============================] - 2s 625us/step - loss: 0.7853 - accuracy: 0.7121 - val_loss: 0.8458 - val_accuracy: 0.7232\n",
            "Epoch 103/225\n",
            "2400/2400 [==============================] - 2s 627us/step - loss: 0.7216 - accuracy: 0.7179 - val_loss: 0.7208 - val_accuracy: 0.8155\n",
            "Epoch 104/225\n",
            "2400/2400 [==============================] - 1s 624us/step - loss: 0.7395 - accuracy: 0.7025 - val_loss: 1.0425 - val_accuracy: 0.5327\n",
            "Epoch 105/225\n",
            "2400/2400 [==============================] - 1s 617us/step - loss: 0.7976 - accuracy: 0.6775 - val_loss: 0.9975 - val_accuracy: 0.6190\n",
            "Epoch 106/225\n",
            "2400/2400 [==============================] - 2s 626us/step - loss: 0.9585 - accuracy: 0.6242 - val_loss: 0.9040 - val_accuracy: 0.6905\n",
            "Epoch 107/225\n",
            "2400/2400 [==============================] - 1s 623us/step - loss: 1.0233 - accuracy: 0.6737 - val_loss: 2.1423 - val_accuracy: 0.3720\n",
            "Epoch 108/225\n",
            "2400/2400 [==============================] - 1s 621us/step - loss: 1.0701 - accuracy: 0.6338 - val_loss: 0.9290 - val_accuracy: 0.6726\n",
            "Epoch 109/225\n",
            "2400/2400 [==============================] - 1s 621us/step - loss: 0.8574 - accuracy: 0.6575 - val_loss: 0.8999 - val_accuracy: 0.6905\n",
            "Epoch 110/225\n",
            "2400/2400 [==============================] - 2s 634us/step - loss: 0.8377 - accuracy: 0.6883 - val_loss: 0.8569 - val_accuracy: 0.6845\n",
            "Epoch 111/225\n",
            "2400/2400 [==============================] - 2s 632us/step - loss: 1.1835 - accuracy: 0.5650 - val_loss: 2.1493 - val_accuracy: 0.3601\n",
            "Epoch 112/225\n",
            "2400/2400 [==============================] - 2s 647us/step - loss: 1.0127 - accuracy: 0.6233 - val_loss: 0.9352 - val_accuracy: 0.6518\n",
            "Epoch 113/225\n",
            "2400/2400 [==============================] - 1s 620us/step - loss: 0.8289 - accuracy: 0.6787 - val_loss: 0.9219 - val_accuracy: 0.6726\n",
            "Epoch 114/225\n",
            "2400/2400 [==============================] - 1s 614us/step - loss: 0.7811 - accuracy: 0.7050 - val_loss: 0.8436 - val_accuracy: 0.7440\n",
            "Epoch 115/225\n",
            "2400/2400 [==============================] - 1s 615us/step - loss: 0.8141 - accuracy: 0.6754 - val_loss: 0.8697 - val_accuracy: 0.6726\n",
            "Epoch 116/225\n",
            "2400/2400 [==============================] - 1s 604us/step - loss: 0.7580 - accuracy: 0.7113 - val_loss: 0.9571 - val_accuracy: 0.5268\n",
            "Epoch 117/225\n",
            "2400/2400 [==============================] - 1s 605us/step - loss: 0.7688 - accuracy: 0.6954 - val_loss: 0.8268 - val_accuracy: 0.7143\n",
            "Epoch 118/225\n",
            "2400/2400 [==============================] - 1s 605us/step - loss: 0.7626 - accuracy: 0.6862 - val_loss: 0.7871 - val_accuracy: 0.7768\n",
            "Epoch 119/225\n",
            "2400/2400 [==============================] - 1s 610us/step - loss: 0.6987 - accuracy: 0.7367 - val_loss: 0.8141 - val_accuracy: 0.7381\n",
            "Epoch 120/225\n",
            "2400/2400 [==============================] - 2s 656us/step - loss: 0.7728 - accuracy: 0.6954 - val_loss: 1.4362 - val_accuracy: 0.4524\n",
            "Epoch 121/225\n",
            "2400/2400 [==============================] - 2s 962us/step - loss: 0.8628 - accuracy: 0.6429 - val_loss: 0.9303 - val_accuracy: 0.6696\n",
            "Epoch 122/225\n",
            "2400/2400 [==============================] - 2s 948us/step - loss: 0.8956 - accuracy: 0.6658 - val_loss: 0.8526 - val_accuracy: 0.7173\n",
            "Epoch 123/225\n",
            "2400/2400 [==============================] - 2s 949us/step - loss: 0.8353 - accuracy: 0.6879 - val_loss: 1.1053 - val_accuracy: 0.6071\n",
            "Epoch 124/225\n",
            "2400/2400 [==============================] - 2s 953us/step - loss: 0.9523 - accuracy: 0.6525 - val_loss: 0.9192 - val_accuracy: 0.7321\n",
            "Epoch 125/225\n",
            "2400/2400 [==============================] - 2s 955us/step - loss: 0.6662 - accuracy: 0.7513 - val_loss: 0.7634 - val_accuracy: 0.7857\n",
            "Epoch 126/225\n",
            "2400/2400 [==============================] - 1s 616us/step - loss: 0.7647 - accuracy: 0.6954 - val_loss: 0.9052 - val_accuracy: 0.6726\n",
            "Epoch 127/225\n",
            "2400/2400 [==============================] - 1s 611us/step - loss: 0.7609 - accuracy: 0.6896 - val_loss: 0.8632 - val_accuracy: 0.6190\n",
            "Epoch 128/225\n",
            "2400/2400 [==============================] - 1s 617us/step - loss: 0.7175 - accuracy: 0.7075 - val_loss: 1.2966 - val_accuracy: 0.4851\n",
            "Epoch 129/225\n",
            "2400/2400 [==============================] - 1s 611us/step - loss: 0.7485 - accuracy: 0.6983 - val_loss: 0.9970 - val_accuracy: 0.6280\n",
            "Epoch 130/225\n",
            "2400/2400 [==============================] - 2s 626us/step - loss: 0.8847 - accuracy: 0.6567 - val_loss: 0.8295 - val_accuracy: 0.7649\n",
            "Epoch 131/225\n",
            "2400/2400 [==============================] - 1s 595us/step - loss: 0.6470 - accuracy: 0.7529 - val_loss: 1.1069 - val_accuracy: 0.5476\n",
            "Epoch 132/225\n",
            "2400/2400 [==============================] - 1s 614us/step - loss: 0.6503 - accuracy: 0.7533 - val_loss: 0.7664 - val_accuracy: 0.7440\n",
            "Epoch 133/225\n",
            "2400/2400 [==============================] - 1s 612us/step - loss: 0.7437 - accuracy: 0.6979 - val_loss: 0.7597 - val_accuracy: 0.7560\n",
            "Epoch 134/225\n",
            "2400/2400 [==============================] - 1s 617us/step - loss: 0.8662 - accuracy: 0.6575 - val_loss: 0.8327 - val_accuracy: 0.7440\n",
            "Epoch 135/225\n",
            "2400/2400 [==============================] - 1s 600us/step - loss: 0.6352 - accuracy: 0.7600 - val_loss: 0.7265 - val_accuracy: 0.7946\n",
            "Epoch 136/225\n",
            "2400/2400 [==============================] - 1s 611us/step - loss: 0.6772 - accuracy: 0.7400 - val_loss: 2.4854 - val_accuracy: 0.3482\n",
            "Epoch 137/225\n",
            "2400/2400 [==============================] - 1s 612us/step - loss: 1.1294 - accuracy: 0.6112 - val_loss: 0.7970 - val_accuracy: 0.8095\n",
            "Epoch 138/225\n",
            "2400/2400 [==============================] - 1s 618us/step - loss: 0.6074 - accuracy: 0.7929 - val_loss: 0.9592 - val_accuracy: 0.5923\n",
            "Epoch 139/225\n",
            "2400/2400 [==============================] - 1s 614us/step - loss: 0.6651 - accuracy: 0.7292 - val_loss: 0.7719 - val_accuracy: 0.7500\n",
            "Epoch 140/225\n",
            "2400/2400 [==============================] - 1s 612us/step - loss: 0.6406 - accuracy: 0.7629 - val_loss: 0.6926 - val_accuracy: 0.7619\n",
            "Epoch 141/225\n",
            "2400/2400 [==============================] - 1s 609us/step - loss: 0.6691 - accuracy: 0.7296 - val_loss: 0.9257 - val_accuracy: 0.6815\n",
            "Epoch 142/225\n",
            "2400/2400 [==============================] - 1s 612us/step - loss: 0.6917 - accuracy: 0.7267 - val_loss: 0.8401 - val_accuracy: 0.6637\n",
            "Epoch 143/225\n",
            "2400/2400 [==============================] - 1s 613us/step - loss: 0.5841 - accuracy: 0.7842 - val_loss: 0.6785 - val_accuracy: 0.7976\n",
            "Epoch 144/225\n",
            "2400/2400 [==============================] - 1s 615us/step - loss: 0.7338 - accuracy: 0.6992 - val_loss: 0.7313 - val_accuracy: 0.7589\n",
            "Epoch 145/225\n",
            "2400/2400 [==============================] - 1s 619us/step - loss: 0.5989 - accuracy: 0.7692 - val_loss: 0.7153 - val_accuracy: 0.7917\n",
            "Epoch 146/225\n",
            "2400/2400 [==============================] - 1s 608us/step - loss: 0.6564 - accuracy: 0.7371 - val_loss: 0.7434 - val_accuracy: 0.7500\n",
            "Epoch 147/225\n",
            "2400/2400 [==============================] - 1s 617us/step - loss: 0.5764 - accuracy: 0.7733 - val_loss: 0.7056 - val_accuracy: 0.8006\n",
            "Epoch 148/225\n",
            "2400/2400 [==============================] - 1s 615us/step - loss: 1.0054 - accuracy: 0.6350 - val_loss: 1.0136 - val_accuracy: 0.6012\n",
            "Epoch 149/225\n",
            "2400/2400 [==============================] - 1s 613us/step - loss: 0.7297 - accuracy: 0.7242 - val_loss: 0.9372 - val_accuracy: 0.6905\n",
            "Epoch 150/225\n",
            "2400/2400 [==============================] - 1s 616us/step - loss: 0.7256 - accuracy: 0.7142 - val_loss: 0.7850 - val_accuracy: 0.7976\n",
            "Epoch 151/225\n",
            "2400/2400 [==============================] - 1s 607us/step - loss: 0.6444 - accuracy: 0.7487 - val_loss: 0.7583 - val_accuracy: 0.7530\n",
            "Epoch 152/225\n",
            "2400/2400 [==============================] - 1s 617us/step - loss: 0.5279 - accuracy: 0.8208 - val_loss: 0.9112 - val_accuracy: 0.6190\n",
            "Epoch 153/225\n",
            "2400/2400 [==============================] - 1s 614us/step - loss: 0.5407 - accuracy: 0.8008 - val_loss: 0.7000 - val_accuracy: 0.7976\n",
            "Epoch 154/225\n",
            "2400/2400 [==============================] - 1s 608us/step - loss: 0.9306 - accuracy: 0.7042 - val_loss: 1.7069 - val_accuracy: 0.4643\n",
            "Epoch 155/225\n",
            "2400/2400 [==============================] - 1s 612us/step - loss: 1.0221 - accuracy: 0.6413 - val_loss: 0.7783 - val_accuracy: 0.8006\n",
            "Epoch 156/225\n",
            "2400/2400 [==============================] - 1s 608us/step - loss: 0.6245 - accuracy: 0.7604 - val_loss: 0.7818 - val_accuracy: 0.7946\n",
            "Epoch 157/225\n",
            "2400/2400 [==============================] - 1s 607us/step - loss: 0.5421 - accuracy: 0.7975 - val_loss: 0.7646 - val_accuracy: 0.7857\n",
            "Epoch 158/225\n",
            "2400/2400 [==============================] - 1s 602us/step - loss: 0.5807 - accuracy: 0.7679 - val_loss: 0.8005 - val_accuracy: 0.7173\n",
            "Epoch 159/225\n",
            "2400/2400 [==============================] - 1s 588us/step - loss: 0.5531 - accuracy: 0.7817 - val_loss: 0.6854 - val_accuracy: 0.7649\n",
            "Epoch 160/225\n",
            "2400/2400 [==============================] - 1s 606us/step - loss: 0.5211 - accuracy: 0.7896 - val_loss: 0.8414 - val_accuracy: 0.7381\n",
            "Epoch 161/225\n",
            "2400/2400 [==============================] - 1s 612us/step - loss: 0.9168 - accuracy: 0.6913 - val_loss: 1.7493 - val_accuracy: 0.6071\n",
            "Epoch 162/225\n",
            "2400/2400 [==============================] - 1s 601us/step - loss: 0.8674 - accuracy: 0.6800 - val_loss: 0.7666 - val_accuracy: 0.7768\n",
            "Epoch 163/225\n",
            "2400/2400 [==============================] - 1s 598us/step - loss: 0.5475 - accuracy: 0.8017 - val_loss: 0.8864 - val_accuracy: 0.6875\n",
            "Epoch 164/225\n",
            "2400/2400 [==============================] - 1s 617us/step - loss: 0.5493 - accuracy: 0.7975 - val_loss: 0.7029 - val_accuracy: 0.8423\n",
            "Epoch 165/225\n",
            "2400/2400 [==============================] - 1s 603us/step - loss: 0.4903 - accuracy: 0.8313 - val_loss: 0.6538 - val_accuracy: 0.8214\n",
            "Epoch 166/225\n",
            "2400/2400 [==============================] - 1s 613us/step - loss: 1.2968 - accuracy: 0.6096 - val_loss: 1.2435 - val_accuracy: 0.6399\n",
            "Epoch 167/225\n",
            "2400/2400 [==============================] - 1s 612us/step - loss: 0.8912 - accuracy: 0.6550 - val_loss: 0.8307 - val_accuracy: 0.7679\n",
            "Epoch 168/225\n",
            "2400/2400 [==============================] - 1s 618us/step - loss: 0.5541 - accuracy: 0.8133 - val_loss: 0.7549 - val_accuracy: 0.8155\n",
            "Epoch 169/225\n",
            "2400/2400 [==============================] - 1s 613us/step - loss: 0.5575 - accuracy: 0.7792 - val_loss: 0.7657 - val_accuracy: 0.8274\n",
            "Epoch 170/225\n",
            "2400/2400 [==============================] - 1s 618us/step - loss: 0.5842 - accuracy: 0.7750 - val_loss: 0.9374 - val_accuracy: 0.7381\n",
            "Epoch 171/225\n",
            "2400/2400 [==============================] - 1s 619us/step - loss: 0.5484 - accuracy: 0.8029 - val_loss: 0.8239 - val_accuracy: 0.7470\n",
            "Epoch 172/225\n",
            "2400/2400 [==============================] - 1s 599us/step - loss: 0.4842 - accuracy: 0.8225 - val_loss: 0.7870 - val_accuracy: 0.7887\n",
            "Epoch 173/225\n",
            "2400/2400 [==============================] - 1s 613us/step - loss: 0.4864 - accuracy: 0.8150 - val_loss: 0.8296 - val_accuracy: 0.7768\n",
            "Epoch 174/225\n",
            "2400/2400 [==============================] - 1s 610us/step - loss: 0.5456 - accuracy: 0.7833 - val_loss: 0.8031 - val_accuracy: 0.7946\n",
            "Epoch 175/225\n",
            "2400/2400 [==============================] - 1s 619us/step - loss: 0.9996 - accuracy: 0.6700 - val_loss: 2.5099 - val_accuracy: 0.3006\n",
            "Epoch 176/225\n",
            "2400/2400 [==============================] - 1s 611us/step - loss: 0.8990 - accuracy: 0.6667 - val_loss: 0.8739 - val_accuracy: 0.7649\n",
            "Epoch 177/225\n",
            "2400/2400 [==============================] - 1s 616us/step - loss: 0.5633 - accuracy: 0.8008 - val_loss: 0.8919 - val_accuracy: 0.7560\n",
            "Epoch 178/225\n",
            "2400/2400 [==============================] - 1s 618us/step - loss: 0.4905 - accuracy: 0.8267 - val_loss: 0.8912 - val_accuracy: 0.7500\n",
            "Epoch 179/225\n",
            "2400/2400 [==============================] - 1s 608us/step - loss: 0.4950 - accuracy: 0.8213 - val_loss: 0.7642 - val_accuracy: 0.7827\n",
            "Epoch 180/225\n",
            "2400/2400 [==============================] - 1s 615us/step - loss: 0.5655 - accuracy: 0.7908 - val_loss: 0.9550 - val_accuracy: 0.7143\n",
            "Epoch 181/225\n",
            "2400/2400 [==============================] - 1s 609us/step - loss: 0.8384 - accuracy: 0.6879 - val_loss: 0.9108 - val_accuracy: 0.7649\n",
            "Epoch 182/225\n",
            "2400/2400 [==============================] - 1s 608us/step - loss: 0.4845 - accuracy: 0.8338 - val_loss: 0.7319 - val_accuracy: 0.8304\n",
            "Epoch 183/225\n",
            "2400/2400 [==============================] - 1s 597us/step - loss: 0.4715 - accuracy: 0.8300 - val_loss: 0.7419 - val_accuracy: 0.7976\n",
            "Epoch 184/225\n",
            "2400/2400 [==============================] - 1s 606us/step - loss: 0.4804 - accuracy: 0.8342 - val_loss: 0.8381 - val_accuracy: 0.7798\n",
            "Epoch 185/225\n",
            "2400/2400 [==============================] - 1s 610us/step - loss: 0.4967 - accuracy: 0.8158 - val_loss: 0.7516 - val_accuracy: 0.7917\n",
            "Epoch 186/225\n",
            "2400/2400 [==============================] - 1s 613us/step - loss: 0.5212 - accuracy: 0.7925 - val_loss: 0.7263 - val_accuracy: 0.8214\n",
            "Epoch 187/225\n",
            "2400/2400 [==============================] - 1s 616us/step - loss: 0.4877 - accuracy: 0.8104 - val_loss: 0.9210 - val_accuracy: 0.6786\n",
            "Epoch 188/225\n",
            "2400/2400 [==============================] - 1s 609us/step - loss: 0.6082 - accuracy: 0.7725 - val_loss: 2.0670 - val_accuracy: 0.3810\n",
            "Epoch 189/225\n",
            "2400/2400 [==============================] - 1s 612us/step - loss: 0.8296 - accuracy: 0.7013 - val_loss: 0.9228 - val_accuracy: 0.7976\n",
            "Epoch 190/225\n",
            "2400/2400 [==============================] - 1s 616us/step - loss: 0.5509 - accuracy: 0.8083 - val_loss: 0.8336 - val_accuracy: 0.8065\n",
            "Epoch 191/225\n",
            "2400/2400 [==============================] - 1s 615us/step - loss: 0.4927 - accuracy: 0.8142 - val_loss: 0.9974 - val_accuracy: 0.7202\n",
            "Epoch 192/225\n",
            "2400/2400 [==============================] - 1s 621us/step - loss: 0.7493 - accuracy: 0.7275 - val_loss: 0.9529 - val_accuracy: 0.7470\n",
            "Epoch 193/225\n",
            "2400/2400 [==============================] - 1s 595us/step - loss: 0.5674 - accuracy: 0.7867 - val_loss: 0.8097 - val_accuracy: 0.7917\n",
            "Epoch 194/225\n",
            "2400/2400 [==============================] - 1s 609us/step - loss: 0.4589 - accuracy: 0.8242 - val_loss: 0.8099 - val_accuracy: 0.7946\n",
            "Epoch 195/225\n",
            "2400/2400 [==============================] - 1s 606us/step - loss: 0.4588 - accuracy: 0.8325 - val_loss: 0.7361 - val_accuracy: 0.7976\n",
            "Epoch 196/225\n",
            "2400/2400 [==============================] - 1s 612us/step - loss: 0.4639 - accuracy: 0.8238 - val_loss: 0.6927 - val_accuracy: 0.8065\n",
            "Epoch 197/225\n",
            "2400/2400 [==============================] - 1s 608us/step - loss: 0.4150 - accuracy: 0.8487 - val_loss: 0.7485 - val_accuracy: 0.8006\n",
            "Epoch 198/225\n",
            "2400/2400 [==============================] - 1s 614us/step - loss: 0.4272 - accuracy: 0.8417 - val_loss: 0.6821 - val_accuracy: 0.8423\n",
            "Epoch 199/225\n",
            "2400/2400 [==============================] - 1s 601us/step - loss: 0.8623 - accuracy: 0.7212 - val_loss: 2.1003 - val_accuracy: 0.3601\n",
            "Epoch 200/225\n",
            "2400/2400 [==============================] - 1s 611us/step - loss: 0.7132 - accuracy: 0.7396 - val_loss: 1.0182 - val_accuracy: 0.7292\n",
            "Epoch 201/225\n",
            "2400/2400 [==============================] - 1s 605us/step - loss: 0.5012 - accuracy: 0.8138 - val_loss: 0.7793 - val_accuracy: 0.8214\n",
            "Epoch 202/225\n",
            "2400/2400 [==============================] - 1s 618us/step - loss: 0.4886 - accuracy: 0.8054 - val_loss: 1.3797 - val_accuracy: 0.5089\n",
            "Epoch 203/225\n",
            "2400/2400 [==============================] - 1s 611us/step - loss: 0.5139 - accuracy: 0.8112 - val_loss: 0.7718 - val_accuracy: 0.8214\n",
            "Epoch 204/225\n",
            "2400/2400 [==============================] - 1s 597us/step - loss: 0.5748 - accuracy: 0.7842 - val_loss: 0.7493 - val_accuracy: 0.8036\n",
            "Epoch 205/225\n",
            "2400/2400 [==============================] - 1s 614us/step - loss: 0.5573 - accuracy: 0.7842 - val_loss: 0.8415 - val_accuracy: 0.7798\n",
            "Epoch 206/225\n",
            "2400/2400 [==============================] - 1s 602us/step - loss: 0.4705 - accuracy: 0.8250 - val_loss: 0.7803 - val_accuracy: 0.8036\n",
            "Epoch 207/225\n",
            "2400/2400 [==============================] - 1s 618us/step - loss: 0.3828 - accuracy: 0.8683 - val_loss: 0.7347 - val_accuracy: 0.8244\n",
            "Epoch 208/225\n",
            "2400/2400 [==============================] - 1s 603us/step - loss: 0.4764 - accuracy: 0.8183 - val_loss: 0.7717 - val_accuracy: 0.7976\n",
            "Epoch 209/225\n",
            "2400/2400 [==============================] - 1s 609us/step - loss: 0.5581 - accuracy: 0.7833 - val_loss: 1.0617 - val_accuracy: 0.7202\n",
            "Epoch 210/225\n",
            "2400/2400 [==============================] - 1s 612us/step - loss: 0.6525 - accuracy: 0.7579 - val_loss: 0.9782 - val_accuracy: 0.7798\n",
            "Epoch 211/225\n",
            "2400/2400 [==============================] - 1s 615us/step - loss: 0.5052 - accuracy: 0.8146 - val_loss: 0.9627 - val_accuracy: 0.7738\n",
            "Epoch 212/225\n",
            "2400/2400 [==============================] - 1s 613us/step - loss: 0.4825 - accuracy: 0.8175 - val_loss: 0.8077 - val_accuracy: 0.8095\n",
            "Epoch 213/225\n",
            "2400/2400 [==============================] - 1s 612us/step - loss: 0.4191 - accuracy: 0.8504 - val_loss: 0.8881 - val_accuracy: 0.7411\n",
            "Epoch 214/225\n",
            "2400/2400 [==============================] - 1s 614us/step - loss: 0.4384 - accuracy: 0.8408 - val_loss: 0.6828 - val_accuracy: 0.8333\n",
            "Epoch 215/225\n",
            "2400/2400 [==============================] - 1s 603us/step - loss: 0.7573 - accuracy: 0.7483 - val_loss: 1.0831 - val_accuracy: 0.7232\n",
            "Epoch 216/225\n",
            "2400/2400 [==============================] - 1s 620us/step - loss: 0.4779 - accuracy: 0.8200 - val_loss: 0.9135 - val_accuracy: 0.7649\n",
            "Epoch 217/225\n",
            "2400/2400 [==============================] - 1s 605us/step - loss: 0.4168 - accuracy: 0.8475 - val_loss: 0.7686 - val_accuracy: 0.8333\n",
            "Epoch 218/225\n",
            "2400/2400 [==============================] - 1s 605us/step - loss: 0.4276 - accuracy: 0.8367 - val_loss: 0.7103 - val_accuracy: 0.8214\n",
            "Epoch 219/225\n",
            "2400/2400 [==============================] - 1s 611us/step - loss: 0.4127 - accuracy: 0.8429 - val_loss: 0.6963 - val_accuracy: 0.8393\n",
            "Epoch 220/225\n",
            "2400/2400 [==============================] - 1s 618us/step - loss: 0.4365 - accuracy: 0.8350 - val_loss: 1.1004 - val_accuracy: 0.7173\n",
            "Epoch 221/225\n",
            "2400/2400 [==============================] - 1s 616us/step - loss: 0.4510 - accuracy: 0.8400 - val_loss: 0.8522 - val_accuracy: 0.8423\n",
            "Epoch 222/225\n",
            "2400/2400 [==============================] - 1s 602us/step - loss: 0.4223 - accuracy: 0.8413 - val_loss: 0.8211 - val_accuracy: 0.8304\n",
            "Epoch 223/225\n",
            "2400/2400 [==============================] - 1s 603us/step - loss: 0.4037 - accuracy: 0.8517 - val_loss: 0.8142 - val_accuracy: 0.8304\n",
            "Epoch 224/225\n",
            "2400/2400 [==============================] - 1s 597us/step - loss: 0.3927 - accuracy: 0.8483 - val_loss: 1.1815 - val_accuracy: 0.6280\n",
            "Epoch 225/225\n",
            "2400/2400 [==============================] - 1s 615us/step - loss: 0.6821 - accuracy: 0.7392 - val_loss: 1.0165 - val_accuracy: 0.8065\n"
          ],
          "name": "stdout"
        }
      ]
    },
    {
      "cell_type": "code",
      "metadata": {
        "id": "TutL_6_HLQWk",
        "colab": {
          "base_uri": "https://localhost:8080/",
          "height": 34
        },
        "outputId": "78290a70-c080-4ef8-f894-cc6e0baecfba"
      },
      "source": [
        "\n",
        "acc3 = model3.evaluate(x_train, y_train)"
      ],
      "execution_count": null,
      "outputs": [
        {
          "output_type": "stream",
          "text": [
            "2400/2400 [==============================] - 0s 73us/step\n"
          ],
          "name": "stdout"
        }
      ]
    },
    {
      "cell_type": "code",
      "metadata": {
        "id": "9NOox_ZZLQkP",
        "colab": {
          "base_uri": "https://localhost:8080/",
          "height": 34
        },
        "outputId": "b323bb8a-b811-4fa2-e8a8-81354025582d"
      },
      "source": [
        "print(\"Loss:\", acc3[0], \" Accuracy:\", acc3[1])"
      ],
      "execution_count": null,
      "outputs": [
        {
          "output_type": "stream",
          "text": [
            "Loss: 0.5024164202809334  Accuracy: 0.8183333277702332\n"
          ],
          "name": "stdout"
        }
      ]
    },
    {
      "cell_type": "code",
      "metadata": {
        "id": "zXtpklEmLQwC",
        "colab": {
          "base_uri": "https://localhost:8080/",
          "height": 34
        },
        "outputId": "e51e0dbb-913a-4442-80a2-9cadc6faa759"
      },
      "source": [
        "val_acc3 = model3.evaluate(x_test, y_test)"
      ],
      "execution_count": null,
      "outputs": [
        {
          "output_type": "stream",
          "text": [
            "336/336 [==============================] - 0s 80us/step\n"
          ],
          "name": "stdout"
        }
      ]
    },
    {
      "cell_type": "code",
      "metadata": {
        "id": "AypRSruPLQ9y",
        "colab": {
          "base_uri": "https://localhost:8080/",
          "height": 34
        },
        "outputId": "44d39287-3e2c-4104-f681-d2098a84d25b"
      },
      "source": [
        "print(\"Loss:\", val_acc3[0], \" Accuracy:\", val_acc3[1])"
      ],
      "execution_count": null,
      "outputs": [
        {
          "output_type": "stream",
          "text": [
            "Loss: 0.682296009290786  Accuracy: 0.8571428656578064\n"
          ],
          "name": "stdout"
        }
      ]
    },
    {
      "cell_type": "code",
      "metadata": {
        "id": "afsRwIU0LRQS"
      },
      "source": [
        "pred3 = model3.predict(x_test)\n",
        "pred_y3 = pred3.argmax(axis=-1)"
      ],
      "execution_count": null,
      "outputs": []
    },
    {
      "cell_type": "code",
      "metadata": {
        "id": "Wi7Z85dvLR1C",
        "colab": {
          "base_uri": "https://localhost:8080/",
          "height": 153
        },
        "outputId": "aa2a81a9-8ab9-4a65-ce97-8b1fdc6a9d96"
      },
      "source": [
        "cm3 = confusion_matrix(y_test, pred_y3)\n",
        "print(cm3)"
      ],
      "execution_count": null,
      "outputs": [
        {
          "output_type": "stream",
          "text": [
            "[[26  0  0  9  0  4  0  3]\n",
            " [ 0 42  0  0  0  0  0  0]\n",
            " [ 0  0 41  0  0  1  0  0]\n",
            " [ 1  0  0 37  1  3  0  0]\n",
            " [ 8  0  0  0 29  0  5  0]\n",
            " [ 0  0  1  0  0 38  0  3]\n",
            " [ 6  0  0  0  0  0 36  0]\n",
            " [ 1  0  0  0  0  2  0 39]]\n"
          ],
          "name": "stdout"
        }
      ]
    },
    {
      "cell_type": "code",
      "metadata": {
        "id": "yGjrEa1hLR-f",
        "colab": {
          "base_uri": "https://localhost:8080/",
          "height": 282
        },
        "outputId": "f92c5bd8-ebb4-4abf-da8e-8e87f41ef3f8"
      },
      "source": [
        "import seaborn as sns\n",
        "sns.heatmap(cm3, annot=True)"
      ],
      "execution_count": null,
      "outputs": [
        {
          "output_type": "execute_result",
          "data": {
            "text/plain": [
              "<matplotlib.axes._subplots.AxesSubplot at 0x7f4ff3171e80>"
            ]
          },
          "metadata": {
            "tags": []
          },
          "execution_count": 83
        },
        {
          "output_type": "display_data",
          "data": {
            "image/png": "[encoded data removed]",
            "text/plain": [
              "<Figure size 432x288 with 2 Axes>"
            ]
          },
          "metadata": {
            "tags": [],
            "needs_background": "light"
          }
        }
      ]
    },
    {
      "cell_type": "code",
      "metadata": {
        "id": "Z18aQ6_5aPp-",
        "colab": {
          "base_uri": "https://localhost:8080/",
          "height": 295
        },
        "outputId": "ff4a9fba-a38d-4b01-da78-8b70693b6801"
      },
      "source": [
        "plt.plot(model3_history.history['loss'])\n",
        "plt.plot(model3_history.history['val_loss'])\n",
        "plt.title('2-L 1D-CNN train vs validation loss')\n",
        "plt.ylabel('loss')\n",
        "plt.xlabel('epoch')\n",
        "plt.legend(['train', 'validation'], loc='upper right')\n",
        "plt.show()"
      ],
      "execution_count": null,
      "outputs": [
        {
          "output_type": "display_data",
          "data": {
            "image/png": "[encoded data removed]",
            "text/plain": [
              "<Figure size 432x288 with 1 Axes>"
            ]
          },
          "metadata": {
            "tags": [],
            "needs_background": "light"
          }
        }
      ]
    },
    {
      "cell_type": "code",
      "metadata": {
        "id": "51hjpGzaaP1f",
        "colab": {
          "base_uri": "https://localhost:8080/",
          "height": 295
        },
        "outputId": "6e8ef5a6-4acb-476e-f677-a8643fcaf777"
      },
      "source": [
        "plt.plot(model3_history.history['accuracy'])\n",
        "plt.plot(model3_history.history['val_accuracy'])\n",
        "plt.title('2-L 1D-CNN train vs validation accuracy')\n",
        "plt.ylabel('accuracy')\n",
        "plt.xlabel('epoch')\n",
        "plt.legend(['train', 'validation'], loc='upper left')\n",
        "plt.show()"
      ],
      "execution_count": null,
      "outputs": [
        {
          "output_type": "display_data",
          "data": {
            "image/png": "[encoded data removed]",
            "text/plain": [
              "<Figure size 432x288 with 1 Axes>"
            ]
          },
          "metadata": {
            "tags": [],
            "needs_background": "light"
          }
        }
      ]
    },
    {
      "cell_type": "markdown",
      "metadata": {
        "id": "ETVUJ79tr6bm"
      },
      "source": [
        "3-L-1D-CNN"
      ]
    },
    {
      "cell_type": "code",
      "metadata": {
        "id": "k2VrYxGlrTe5"
      },
      "source": [
        "model5 = Sequential()\n",
        "model5.add(Conv1D(80,3 , activation=\"relu\",input_shape=(32,2)))\n",
        "model5.add(MaxPooling1D(pool_size=2))\n",
        "model5.add(Conv1D(112,3 , activation=\"relu\"))\n",
        "model5.add(MaxPooling1D(pool_size=2))\n",
        "model5.add(Conv1D(64,3 , activation=\"relu\"))\n",
        "model5.add(MaxPooling1D(pool_size=1))\n",
        "model5.add(Flatten())\n",
        "model5.add(Dense(48,activation=\"relu\"))\n",
        "model5.add(Dense(8, activation = 'softmax'))\n",
        "model5.compile(loss = 'sparse_categorical_crossentropy',\n",
        "              optimizer = 'adam',\n",
        "              metrics = ['accuracy']\n",
        "              )"
      ],
      "execution_count": null,
      "outputs": []
    },
    {
      "cell_type": "code",
      "metadata": {
        "id": "XZHkM1rbso6Z",
        "colab": {
          "base_uri": "https://localhost:8080/",
          "height": 459
        },
        "outputId": "2f47a113-8404-4bfd-b31e-232bef58fa73"
      },
      "source": [
        "model5.summary()"
      ],
      "execution_count": null,
      "outputs": [
        {
          "output_type": "stream",
          "text": [
            "Model: \"sequential_16\"\n",
            "_________________________________________________________________\n",
            "Layer (type)                 Output Shape              Param #   \n",
            "=================================================================\n",
            "conv1d_44 (Conv1D)           (None, 30, 80)            560       \n",
            "_________________________________________________________________\n",
            "max_pooling1d_34 (MaxPooling (None, 15, 80)            0         \n",
            "_________________________________________________________________\n",
            "conv1d_45 (Conv1D)           (None, 13, 112)           26992     \n",
            "_________________________________________________________________\n",
            "max_pooling1d_35 (MaxPooling (None, 6, 112)            0         \n",
            "_________________________________________________________________\n",
            "conv1d_46 (Conv1D)           (None, 4, 64)             21568     \n",
            "_________________________________________________________________\n",
            "max_pooling1d_36 (MaxPooling (None, 4, 64)             0         \n",
            "_________________________________________________________________\n",
            "flatten_18 (Flatten)         (None, 256)               0         \n",
            "_________________________________________________________________\n",
            "dense_38 (Dense)             (None, 48)                12336     \n",
            "_________________________________________________________________\n",
            "dense_39 (Dense)             (None, 8)                 392       \n",
            "=================================================================\n",
            "Total params: 61,848\n",
            "Trainable params: 61,848\n",
            "Non-trainable params: 0\n",
            "_________________________________________________________________\n"
          ],
          "name": "stdout"
        }
      ]
    },
    {
      "cell_type": "code",
      "metadata": {
        "id": "f3ObPhDRspOy",
        "colab": {
          "base_uri": "https://localhost:8080/",
          "height": 1000
        },
        "outputId": "e736cf92-e97b-47b0-8c4d-12a88eb95964"
      },
      "source": [
        "batch_size=64\n",
        "epochs=200\n",
        "model5_history=model5.fit(x_train, y_train,\n",
        "                          batch_size,\n",
        "                          epochs=epochs,\n",
        "                          validation_data=(x_test, y_test)\n",
        "                          )"
      ],
      "execution_count": null,
      "outputs": [
        {
          "output_type": "stream",
          "text": [
            "Train on 2400 samples, validate on 336 samples\n",
            "Epoch 1/200\n",
            "2400/2400 [==============================] - 1s 321us/step - loss: 13.3919 - accuracy: 0.1200 - val_loss: 3.6647 - val_accuracy: 0.1310\n",
            "Epoch 2/200\n",
            "2400/2400 [==============================] - 1s 229us/step - loss: 2.8504 - accuracy: 0.1562 - val_loss: 2.7949 - val_accuracy: 0.2440\n",
            "Epoch 3/200\n",
            "2400/2400 [==============================] - 1s 231us/step - loss: 2.4452 - accuracy: 0.1637 - val_loss: 2.2867 - val_accuracy: 0.1458\n",
            "Epoch 4/200\n",
            "2400/2400 [==============================] - 1s 225us/step - loss: 2.2381 - accuracy: 0.1696 - val_loss: 2.3116 - val_accuracy: 0.1577\n",
            "Epoch 5/200\n",
            "2400/2400 [==============================] - 1s 228us/step - loss: 2.2009 - accuracy: 0.2008 - val_loss: 2.4479 - val_accuracy: 0.1667\n",
            "Epoch 6/200\n",
            "2400/2400 [==============================] - 1s 237us/step - loss: 2.0552 - accuracy: 0.2042 - val_loss: 1.9933 - val_accuracy: 0.2589\n",
            "Epoch 7/200\n",
            "2400/2400 [==============================] - 1s 232us/step - loss: 2.0478 - accuracy: 0.2083 - val_loss: 2.4271 - val_accuracy: 0.2024\n",
            "Epoch 8/200\n",
            "2400/2400 [==============================] - 1s 230us/step - loss: 2.0892 - accuracy: 0.2217 - val_loss: 2.4150 - val_accuracy: 0.1399\n",
            "Epoch 9/200\n",
            "2400/2400 [==============================] - 1s 229us/step - loss: 2.0883 - accuracy: 0.2279 - val_loss: 2.0539 - val_accuracy: 0.2500\n",
            "Epoch 10/200\n",
            "2400/2400 [==============================] - 1s 234us/step - loss: 2.0535 - accuracy: 0.2321 - val_loss: 2.1468 - val_accuracy: 0.1994\n",
            "Epoch 11/200\n",
            "2400/2400 [==============================] - 1s 229us/step - loss: 1.9536 - accuracy: 0.2612 - val_loss: 2.1435 - val_accuracy: 0.1756\n",
            "Epoch 12/200\n",
            "2400/2400 [==============================] - 1s 225us/step - loss: 2.0303 - accuracy: 0.2288 - val_loss: 2.1915 - val_accuracy: 0.2262\n",
            "Epoch 13/200\n",
            "2400/2400 [==============================] - 1s 227us/step - loss: 1.9480 - accuracy: 0.2688 - val_loss: 1.9113 - val_accuracy: 0.2411\n",
            "Epoch 14/200\n",
            "2400/2400 [==============================] - 1s 241us/step - loss: 1.9626 - accuracy: 0.2658 - val_loss: 2.0558 - val_accuracy: 0.2798\n",
            "Epoch 15/200\n",
            "2400/2400 [==============================] - 1s 226us/step - loss: 1.9129 - accuracy: 0.2821 - val_loss: 1.8388 - val_accuracy: 0.2649\n",
            "Epoch 16/200\n",
            "2400/2400 [==============================] - 1s 226us/step - loss: 1.8142 - accuracy: 0.3000 - val_loss: 1.8194 - val_accuracy: 0.2411\n",
            "Epoch 17/200\n",
            "2400/2400 [==============================] - 1s 225us/step - loss: 1.8482 - accuracy: 0.3013 - val_loss: 1.7743 - val_accuracy: 0.3631\n",
            "Epoch 18/200\n",
            "2400/2400 [==============================] - 1s 226us/step - loss: 1.9240 - accuracy: 0.2738 - val_loss: 2.4446 - val_accuracy: 0.2470\n",
            "Epoch 19/200\n",
            "2400/2400 [==============================] - 1s 212us/step - loss: 1.7834 - accuracy: 0.3342 - val_loss: 2.0382 - val_accuracy: 0.2470\n",
            "Epoch 20/200\n",
            "2400/2400 [==============================] - 1s 216us/step - loss: 1.7972 - accuracy: 0.3100 - val_loss: 1.8504 - val_accuracy: 0.2917\n",
            "Epoch 21/200\n",
            "2400/2400 [==============================] - 1s 221us/step - loss: 1.6893 - accuracy: 0.3700 - val_loss: 2.5607 - val_accuracy: 0.1488\n",
            "Epoch 22/200\n",
            "2400/2400 [==============================] - 1s 235us/step - loss: 1.7524 - accuracy: 0.3217 - val_loss: 1.9430 - val_accuracy: 0.2589\n",
            "Epoch 23/200\n",
            "2400/2400 [==============================] - 1s 225us/step - loss: 1.6762 - accuracy: 0.3621 - val_loss: 1.8447 - val_accuracy: 0.2798\n",
            "Epoch 24/200\n",
            "2400/2400 [==============================] - 1s 225us/step - loss: 1.6658 - accuracy: 0.3750 - val_loss: 2.0566 - val_accuracy: 0.2976\n",
            "Epoch 25/200\n",
            "2400/2400 [==============================] - 1s 215us/step - loss: 1.6593 - accuracy: 0.3621 - val_loss: 1.7415 - val_accuracy: 0.3899\n",
            "Epoch 26/200\n",
            "2400/2400 [==============================] - 1s 216us/step - loss: 1.6852 - accuracy: 0.3721 - val_loss: 1.9502 - val_accuracy: 0.2768\n",
            "Epoch 27/200\n",
            "2400/2400 [==============================] - 1s 221us/step - loss: 1.5493 - accuracy: 0.4467 - val_loss: 1.7365 - val_accuracy: 0.3631\n",
            "Epoch 28/200\n",
            "2400/2400 [==============================] - 1s 226us/step - loss: 1.6235 - accuracy: 0.3908 - val_loss: 1.9105 - val_accuracy: 0.3720\n",
            "Epoch 29/200\n",
            "2400/2400 [==============================] - 1s 221us/step - loss: 1.5849 - accuracy: 0.4283 - val_loss: 1.8614 - val_accuracy: 0.3333\n",
            "Epoch 30/200\n",
            "2400/2400 [==============================] - 1s 227us/step - loss: 1.4711 - accuracy: 0.4504 - val_loss: 1.9203 - val_accuracy: 0.3095\n",
            "Epoch 31/200\n",
            "2400/2400 [==============================] - 1s 214us/step - loss: 1.4552 - accuracy: 0.4717 - val_loss: 2.0197 - val_accuracy: 0.3006\n",
            "Epoch 32/200\n",
            "2400/2400 [==============================] - 1s 216us/step - loss: 1.4181 - accuracy: 0.4888 - val_loss: 2.0106 - val_accuracy: 0.3423\n",
            "Epoch 33/200\n",
            "2400/2400 [==============================] - 1s 226us/step - loss: 1.5069 - accuracy: 0.4467 - val_loss: 1.8193 - val_accuracy: 0.3274\n",
            "Epoch 34/200\n",
            "2400/2400 [==============================] - 1s 240us/step - loss: 1.4394 - accuracy: 0.4804 - val_loss: 1.7296 - val_accuracy: 0.3006\n",
            "Epoch 35/200\n",
            "2400/2400 [==============================] - 1s 233us/step - loss: 1.4121 - accuracy: 0.4837 - val_loss: 2.2280 - val_accuracy: 0.3423\n",
            "Epoch 36/200\n",
            "2400/2400 [==============================] - 1s 221us/step - loss: 1.3950 - accuracy: 0.4883 - val_loss: 1.9974 - val_accuracy: 0.3214\n",
            "Epoch 37/200\n",
            "2400/2400 [==============================] - 1s 218us/step - loss: 1.3389 - accuracy: 0.4975 - val_loss: 1.9778 - val_accuracy: 0.2738\n",
            "Epoch 38/200\n",
            "2400/2400 [==============================] - 1s 229us/step - loss: 1.4403 - accuracy: 0.4658 - val_loss: 1.8402 - val_accuracy: 0.3869\n",
            "Epoch 39/200\n",
            "2400/2400 [==============================] - 1s 232us/step - loss: 1.3145 - accuracy: 0.5379 - val_loss: 1.7963 - val_accuracy: 0.2917\n",
            "Epoch 40/200\n",
            "2400/2400 [==============================] - 1s 232us/step - loss: 1.6632 - accuracy: 0.4479 - val_loss: 2.0989 - val_accuracy: 0.3244\n",
            "Epoch 41/200\n",
            "2400/2400 [==============================] - 1s 230us/step - loss: 1.4346 - accuracy: 0.4767 - val_loss: 1.4810 - val_accuracy: 0.4196\n",
            "Epoch 42/200\n",
            "2400/2400 [==============================] - 1s 231us/step - loss: 1.3246 - accuracy: 0.5433 - val_loss: 1.7795 - val_accuracy: 0.3452\n",
            "Epoch 43/200\n",
            "2400/2400 [==============================] - 1s 224us/step - loss: 1.2615 - accuracy: 0.5646 - val_loss: 1.5020 - val_accuracy: 0.4851\n",
            "Epoch 44/200\n",
            "2400/2400 [==============================] - 1s 232us/step - loss: 1.2753 - accuracy: 0.5429 - val_loss: 1.6598 - val_accuracy: 0.4107\n",
            "Epoch 45/200\n",
            "2400/2400 [==============================] - 1s 226us/step - loss: 1.2508 - accuracy: 0.5454 - val_loss: 1.7265 - val_accuracy: 0.3988\n",
            "Epoch 46/200\n",
            "2400/2400 [==============================] - 1s 229us/step - loss: 1.1659 - accuracy: 0.6037 - val_loss: 1.6788 - val_accuracy: 0.3810\n",
            "Epoch 47/200\n",
            "2400/2400 [==============================] - 1s 220us/step - loss: 1.1457 - accuracy: 0.6029 - val_loss: 1.3907 - val_accuracy: 0.4732\n",
            "Epoch 48/200\n",
            "2400/2400 [==============================] - 1s 221us/step - loss: 1.0984 - accuracy: 0.6117 - val_loss: 1.3884 - val_accuracy: 0.4821\n",
            "Epoch 49/200\n",
            "2400/2400 [==============================] - 1s 242us/step - loss: 1.0328 - accuracy: 0.6575 - val_loss: 1.5792 - val_accuracy: 0.4256\n",
            "Epoch 50/200\n",
            "2400/2400 [==============================] - 1s 227us/step - loss: 1.1994 - accuracy: 0.5821 - val_loss: 1.7976 - val_accuracy: 0.3929\n",
            "Epoch 51/200\n",
            "2400/2400 [==============================] - 1s 216us/step - loss: 1.2558 - accuracy: 0.5658 - val_loss: 1.4215 - val_accuracy: 0.4851\n",
            "Epoch 52/200\n",
            "2400/2400 [==============================] - 1s 212us/step - loss: 1.4242 - accuracy: 0.4908 - val_loss: 1.5875 - val_accuracy: 0.3958\n",
            "Epoch 53/200\n",
            "2400/2400 [==============================] - 1s 220us/step - loss: 1.2072 - accuracy: 0.5483 - val_loss: 1.4002 - val_accuracy: 0.4702\n",
            "Epoch 54/200\n",
            "2400/2400 [==============================] - 1s 218us/step - loss: 1.0849 - accuracy: 0.6179 - val_loss: 1.4064 - val_accuracy: 0.4077\n",
            "Epoch 55/200\n",
            "2400/2400 [==============================] - 1s 227us/step - loss: 1.0939 - accuracy: 0.6012 - val_loss: 1.4295 - val_accuracy: 0.4494\n",
            "Epoch 56/200\n",
            "2400/2400 [==============================] - 1s 236us/step - loss: 0.9523 - accuracy: 0.6879 - val_loss: 1.9620 - val_accuracy: 0.3482\n",
            "Epoch 57/200\n",
            "2400/2400 [==============================] - 1s 229us/step - loss: 0.9001 - accuracy: 0.7154 - val_loss: 1.4235 - val_accuracy: 0.5506\n",
            "Epoch 58/200\n",
            "2400/2400 [==============================] - 1s 235us/step - loss: 0.9147 - accuracy: 0.6804 - val_loss: 1.5651 - val_accuracy: 0.5298\n",
            "Epoch 59/200\n",
            "2400/2400 [==============================] - 1s 229us/step - loss: 0.9400 - accuracy: 0.6800 - val_loss: 1.3312 - val_accuracy: 0.5000\n",
            "Epoch 60/200\n",
            "2400/2400 [==============================] - 1s 220us/step - loss: 1.0737 - accuracy: 0.6012 - val_loss: 1.3301 - val_accuracy: 0.4583\n",
            "Epoch 61/200\n",
            "2400/2400 [==============================] - 1s 227us/step - loss: 0.8687 - accuracy: 0.6958 - val_loss: 1.2349 - val_accuracy: 0.5625\n",
            "Epoch 62/200\n",
            "2400/2400 [==============================] - 1s 223us/step - loss: 0.8756 - accuracy: 0.6900 - val_loss: 1.4270 - val_accuracy: 0.5238\n",
            "Epoch 63/200\n",
            "2400/2400 [==============================] - 1s 219us/step - loss: 1.1030 - accuracy: 0.5883 - val_loss: 1.6112 - val_accuracy: 0.4643\n",
            "Epoch 64/200\n",
            "2400/2400 [==============================] - 1s 221us/step - loss: 0.8688 - accuracy: 0.7017 - val_loss: 1.3071 - val_accuracy: 0.5387\n",
            "Epoch 65/200\n",
            "2400/2400 [==============================] - 1s 224us/step - loss: 0.8162 - accuracy: 0.7104 - val_loss: 1.1995 - val_accuracy: 0.5774\n",
            "Epoch 66/200\n",
            "2400/2400 [==============================] - 1s 225us/step - loss: 0.8237 - accuracy: 0.6950 - val_loss: 1.2782 - val_accuracy: 0.5208\n",
            "Epoch 67/200\n",
            "2400/2400 [==============================] - 1s 223us/step - loss: 0.7603 - accuracy: 0.7321 - val_loss: 2.0845 - val_accuracy: 0.3690\n",
            "Epoch 68/200\n",
            "2400/2400 [==============================] - 1s 223us/step - loss: 0.8538 - accuracy: 0.6787 - val_loss: 1.8008 - val_accuracy: 0.4524\n",
            "Epoch 69/200\n",
            "2400/2400 [==============================] - 1s 235us/step - loss: 0.7985 - accuracy: 0.7167 - val_loss: 1.4164 - val_accuracy: 0.5149\n",
            "Epoch 70/200\n",
            "2400/2400 [==============================] - 1s 232us/step - loss: 0.8713 - accuracy: 0.7050 - val_loss: 0.9693 - val_accuracy: 0.7113\n",
            "Epoch 71/200\n",
            "2400/2400 [==============================] - 1s 228us/step - loss: 0.7308 - accuracy: 0.7396 - val_loss: 0.9058 - val_accuracy: 0.7024\n",
            "Epoch 72/200\n",
            "2400/2400 [==============================] - 1s 214us/step - loss: 0.7501 - accuracy: 0.7254 - val_loss: 1.8394 - val_accuracy: 0.4613\n",
            "Epoch 73/200\n",
            "2400/2400 [==============================] - 1s 238us/step - loss: 0.8297 - accuracy: 0.6708 - val_loss: 1.3820 - val_accuracy: 0.4881\n",
            "Epoch 74/200\n",
            "2400/2400 [==============================] - 1s 219us/step - loss: 0.7232 - accuracy: 0.7088 - val_loss: 0.9573 - val_accuracy: 0.7262\n",
            "Epoch 75/200\n",
            "2400/2400 [==============================] - 1s 209us/step - loss: 0.6684 - accuracy: 0.7462 - val_loss: 2.0161 - val_accuracy: 0.3958\n",
            "Epoch 76/200\n",
            "2400/2400 [==============================] - 0s 204us/step - loss: 0.6062 - accuracy: 0.8037 - val_loss: 1.1288 - val_accuracy: 0.5923\n",
            "Epoch 77/200\n",
            "2400/2400 [==============================] - 1s 212us/step - loss: 0.6137 - accuracy: 0.7729 - val_loss: 2.0038 - val_accuracy: 0.4018\n",
            "Epoch 78/200\n",
            "2400/2400 [==============================] - 0s 208us/step - loss: 1.8849 - accuracy: 0.4604 - val_loss: 2.0738 - val_accuracy: 0.2411\n",
            "Epoch 79/200\n",
            "2400/2400 [==============================] - 1s 221us/step - loss: 1.7126 - accuracy: 0.3642 - val_loss: 1.6781 - val_accuracy: 0.3393\n",
            "Epoch 80/200\n",
            "2400/2400 [==============================] - 0s 208us/step - loss: 1.4070 - accuracy: 0.5217 - val_loss: 1.9282 - val_accuracy: 0.3542\n",
            "Epoch 81/200\n",
            "2400/2400 [==============================] - 1s 210us/step - loss: 1.1552 - accuracy: 0.5929 - val_loss: 1.5454 - val_accuracy: 0.3899\n",
            "Epoch 82/200\n",
            "2400/2400 [==============================] - 0s 207us/step - loss: 0.9488 - accuracy: 0.6883 - val_loss: 2.1171 - val_accuracy: 0.3214\n",
            "Epoch 83/200\n",
            "2400/2400 [==============================] - 1s 220us/step - loss: 0.9362 - accuracy: 0.6821 - val_loss: 1.7763 - val_accuracy: 0.4315\n",
            "Epoch 84/200\n",
            "2400/2400 [==============================] - 1s 219us/step - loss: 0.9471 - accuracy: 0.6554 - val_loss: 1.3559 - val_accuracy: 0.4315\n",
            "Epoch 85/200\n",
            "2400/2400 [==============================] - 1s 224us/step - loss: 0.7839 - accuracy: 0.7437 - val_loss: 1.2298 - val_accuracy: 0.5238\n",
            "Epoch 86/200\n",
            "2400/2400 [==============================] - 1s 231us/step - loss: 0.7301 - accuracy: 0.7646 - val_loss: 2.0392 - val_accuracy: 0.3690\n",
            "Epoch 87/200\n",
            "2400/2400 [==============================] - 1s 226us/step - loss: 0.7898 - accuracy: 0.7163 - val_loss: 1.7815 - val_accuracy: 0.4583\n",
            "Epoch 88/200\n",
            "2400/2400 [==============================] - 1s 234us/step - loss: 1.1856 - accuracy: 0.5996 - val_loss: 2.1574 - val_accuracy: 0.3899\n",
            "Epoch 89/200\n",
            "2400/2400 [==============================] - 1s 226us/step - loss: 1.3809 - accuracy: 0.5462 - val_loss: 1.2640 - val_accuracy: 0.5208\n",
            "Epoch 90/200\n",
            "2400/2400 [==============================] - 1s 222us/step - loss: 0.9322 - accuracy: 0.6800 - val_loss: 2.0120 - val_accuracy: 0.3958\n",
            "Epoch 91/200\n",
            "2400/2400 [==============================] - 1s 209us/step - loss: 0.8207 - accuracy: 0.7058 - val_loss: 1.2302 - val_accuracy: 0.6042\n",
            "Epoch 92/200\n",
            "2400/2400 [==============================] - 1s 227us/step - loss: 0.6897 - accuracy: 0.7742 - val_loss: 1.7989 - val_accuracy: 0.4077\n",
            "Epoch 93/200\n",
            "2400/2400 [==============================] - 1s 237us/step - loss: 0.7152 - accuracy: 0.7604 - val_loss: 1.3804 - val_accuracy: 0.4732\n",
            "Epoch 94/200\n",
            "2400/2400 [==============================] - 1s 226us/step - loss: 0.8781 - accuracy: 0.6825 - val_loss: 1.4475 - val_accuracy: 0.5208\n",
            "Epoch 95/200\n",
            "2400/2400 [==============================] - 1s 226us/step - loss: 0.6134 - accuracy: 0.8062 - val_loss: 2.4829 - val_accuracy: 0.3512\n",
            "Epoch 96/200\n",
            "2400/2400 [==============================] - 1s 229us/step - loss: 0.6584 - accuracy: 0.7588 - val_loss: 1.6091 - val_accuracy: 0.5089\n",
            "Epoch 97/200\n",
            "2400/2400 [==============================] - 1s 225us/step - loss: 0.5853 - accuracy: 0.8037 - val_loss: 1.3468 - val_accuracy: 0.5804\n",
            "Epoch 98/200\n",
            "2400/2400 [==============================] - 1s 230us/step - loss: 0.5518 - accuracy: 0.8079 - val_loss: 1.5706 - val_accuracy: 0.5179\n",
            "Epoch 99/200\n",
            "2400/2400 [==============================] - 1s 229us/step - loss: 0.6333 - accuracy: 0.7546 - val_loss: 1.4032 - val_accuracy: 0.5179\n",
            "Epoch 100/200\n",
            "2400/2400 [==============================] - 1s 228us/step - loss: 0.5643 - accuracy: 0.7958 - val_loss: 1.6885 - val_accuracy: 0.4881\n",
            "Epoch 101/200\n",
            "2400/2400 [==============================] - 1s 231us/step - loss: 0.5788 - accuracy: 0.7937 - val_loss: 1.6203 - val_accuracy: 0.5179\n",
            "Epoch 102/200\n",
            "2400/2400 [==============================] - 1s 221us/step - loss: 0.5348 - accuracy: 0.8100 - val_loss: 2.1440 - val_accuracy: 0.4226\n",
            "Epoch 103/200\n",
            "2400/2400 [==============================] - 1s 221us/step - loss: 0.5792 - accuracy: 0.7896 - val_loss: 1.9840 - val_accuracy: 0.4435\n",
            "Epoch 104/200\n",
            "2400/2400 [==============================] - 1s 220us/step - loss: 0.4461 - accuracy: 0.8642 - val_loss: 2.1219 - val_accuracy: 0.4315\n",
            "Epoch 105/200\n",
            "2400/2400 [==============================] - 1s 225us/step - loss: 0.5395 - accuracy: 0.7908 - val_loss: 1.3169 - val_accuracy: 0.5476\n",
            "Epoch 106/200\n",
            "2400/2400 [==============================] - 1s 222us/step - loss: 0.4954 - accuracy: 0.8096 - val_loss: 2.5635 - val_accuracy: 0.3810\n",
            "Epoch 107/200\n",
            "2400/2400 [==============================] - 1s 226us/step - loss: 0.5623 - accuracy: 0.7725 - val_loss: 1.5451 - val_accuracy: 0.5179\n",
            "Epoch 108/200\n",
            "2400/2400 [==============================] - 1s 226us/step - loss: 0.6285 - accuracy: 0.7617 - val_loss: 1.3975 - val_accuracy: 0.5149\n",
            "Epoch 109/200\n",
            "2400/2400 [==============================] - 1s 213us/step - loss: 0.5776 - accuracy: 0.7738 - val_loss: 1.9659 - val_accuracy: 0.4494\n",
            "Epoch 110/200\n",
            "2400/2400 [==============================] - 1s 214us/step - loss: 0.4419 - accuracy: 0.8479 - val_loss: 1.5845 - val_accuracy: 0.5119\n",
            "Epoch 111/200\n",
            "2400/2400 [==============================] - 1s 234us/step - loss: 0.4370 - accuracy: 0.8313 - val_loss: 2.7160 - val_accuracy: 0.3631\n",
            "Epoch 112/200\n",
            "2400/2400 [==============================] - 1s 225us/step - loss: 0.4579 - accuracy: 0.8308 - val_loss: 2.0213 - val_accuracy: 0.4643\n",
            "Epoch 113/200\n",
            "2400/2400 [==============================] - 1s 229us/step - loss: 0.4081 - accuracy: 0.8558 - val_loss: 1.6779 - val_accuracy: 0.5238\n",
            "Epoch 114/200\n",
            "2400/2400 [==============================] - 1s 220us/step - loss: 0.4574 - accuracy: 0.8208 - val_loss: 1.3405 - val_accuracy: 0.5685\n",
            "Epoch 115/200\n",
            "2400/2400 [==============================] - 1s 217us/step - loss: 0.5295 - accuracy: 0.7858 - val_loss: 1.7608 - val_accuracy: 0.4673\n",
            "Epoch 116/200\n",
            "2400/2400 [==============================] - 1s 219us/step - loss: 0.4191 - accuracy: 0.8296 - val_loss: 1.8428 - val_accuracy: 0.4524\n",
            "Epoch 117/200\n",
            "2400/2400 [==============================] - 1s 215us/step - loss: 0.4775 - accuracy: 0.8000 - val_loss: 1.9360 - val_accuracy: 0.4286\n",
            "Epoch 118/200\n",
            "2400/2400 [==============================] - 1s 215us/step - loss: 0.5770 - accuracy: 0.7746 - val_loss: 1.6719 - val_accuracy: 0.5060\n",
            "Epoch 119/200\n",
            "2400/2400 [==============================] - 1s 209us/step - loss: 0.4016 - accuracy: 0.8404 - val_loss: 2.4788 - val_accuracy: 0.3750\n",
            "Epoch 120/200\n",
            "2400/2400 [==============================] - 1s 225us/step - loss: 0.5449 - accuracy: 0.7692 - val_loss: 2.5317 - val_accuracy: 0.4137\n",
            "Epoch 121/200\n",
            "2400/2400 [==============================] - 1s 226us/step - loss: 0.3880 - accuracy: 0.8512 - val_loss: 1.1708 - val_accuracy: 0.6161\n",
            "Epoch 122/200\n",
            "2400/2400 [==============================] - 1s 227us/step - loss: 0.3885 - accuracy: 0.8525 - val_loss: 1.3529 - val_accuracy: 0.5774\n",
            "Epoch 123/200\n",
            "2400/2400 [==============================] - 1s 224us/step - loss: 0.3821 - accuracy: 0.8458 - val_loss: 3.1995 - val_accuracy: 0.3869\n",
            "Epoch 124/200\n",
            "2400/2400 [==============================] - 1s 228us/step - loss: 0.4336 - accuracy: 0.8188 - val_loss: 2.7411 - val_accuracy: 0.4315\n",
            "Epoch 125/200\n",
            "2400/2400 [==============================] - 1s 220us/step - loss: 1.2908 - accuracy: 0.6025 - val_loss: 1.5908 - val_accuracy: 0.3542\n",
            "Epoch 126/200\n",
            "2400/2400 [==============================] - 1s 227us/step - loss: 1.5136 - accuracy: 0.4492 - val_loss: 1.2372 - val_accuracy: 0.5387\n",
            "Epoch 127/200\n",
            "2400/2400 [==============================] - 1s 228us/step - loss: 0.9712 - accuracy: 0.6629 - val_loss: 1.3570 - val_accuracy: 0.5298\n",
            "Epoch 128/200\n",
            "2400/2400 [==============================] - 1s 226us/step - loss: 0.6723 - accuracy: 0.7467 - val_loss: 0.6995 - val_accuracy: 0.7798\n",
            "Epoch 129/200\n",
            "2400/2400 [==============================] - 1s 225us/step - loss: 0.5399 - accuracy: 0.7908 - val_loss: 1.3666 - val_accuracy: 0.5238\n",
            "Epoch 130/200\n",
            "2400/2400 [==============================] - 1s 221us/step - loss: 0.4954 - accuracy: 0.8117 - val_loss: 0.8922 - val_accuracy: 0.6994\n",
            "Epoch 131/200\n",
            "2400/2400 [==============================] - 1s 218us/step - loss: 0.5075 - accuracy: 0.7996 - val_loss: 1.3003 - val_accuracy: 0.5536\n",
            "Epoch 132/200\n",
            "2400/2400 [==============================] - 1s 216us/step - loss: 0.6226 - accuracy: 0.7604 - val_loss: 1.8271 - val_accuracy: 0.4286\n",
            "Epoch 133/200\n",
            "2400/2400 [==============================] - 1s 234us/step - loss: 0.5504 - accuracy: 0.7896 - val_loss: 2.4472 - val_accuracy: 0.4256\n",
            "Epoch 134/200\n",
            "2400/2400 [==============================] - 1s 222us/step - loss: 0.4301 - accuracy: 0.8429 - val_loss: 2.8928 - val_accuracy: 0.3750\n",
            "Epoch 135/200\n",
            "2400/2400 [==============================] - 1s 225us/step - loss: 0.4488 - accuracy: 0.8267 - val_loss: 1.3361 - val_accuracy: 0.6012\n",
            "Epoch 136/200\n",
            "2400/2400 [==============================] - 1s 220us/step - loss: 0.4441 - accuracy: 0.8179 - val_loss: 1.7268 - val_accuracy: 0.5238\n",
            "Epoch 137/200\n",
            "2400/2400 [==============================] - 1s 220us/step - loss: 0.3712 - accuracy: 0.8517 - val_loss: 1.7661 - val_accuracy: 0.5417\n",
            "Epoch 138/200\n",
            "2400/2400 [==============================] - 1s 211us/step - loss: 0.3780 - accuracy: 0.8438 - val_loss: 2.6565 - val_accuracy: 0.4107\n",
            "Epoch 139/200\n",
            "2400/2400 [==============================] - 1s 220us/step - loss: 0.4106 - accuracy: 0.8279 - val_loss: 2.3304 - val_accuracy: 0.4613\n",
            "Epoch 140/200\n",
            "2400/2400 [==============================] - 1s 221us/step - loss: 0.3774 - accuracy: 0.8379 - val_loss: 3.0884 - val_accuracy: 0.3988\n",
            "Epoch 141/200\n",
            "2400/2400 [==============================] - 1s 227us/step - loss: 0.3717 - accuracy: 0.8458 - val_loss: 1.7761 - val_accuracy: 0.5506\n",
            "Epoch 142/200\n",
            "2400/2400 [==============================] - 1s 218us/step - loss: 0.3549 - accuracy: 0.8521 - val_loss: 2.2142 - val_accuracy: 0.4673\n",
            "Epoch 143/200\n",
            "2400/2400 [==============================] - 1s 221us/step - loss: 0.3683 - accuracy: 0.8471 - val_loss: 1.9561 - val_accuracy: 0.4821\n",
            "Epoch 144/200\n",
            "2400/2400 [==============================] - 1s 217us/step - loss: 0.3849 - accuracy: 0.8304 - val_loss: 2.9024 - val_accuracy: 0.4018\n",
            "Epoch 145/200\n",
            "2400/2400 [==============================] - 1s 225us/step - loss: 0.4232 - accuracy: 0.8129 - val_loss: 1.8076 - val_accuracy: 0.5298\n",
            "Epoch 146/200\n",
            "2400/2400 [==============================] - 1s 224us/step - loss: 0.4210 - accuracy: 0.8142 - val_loss: 2.9758 - val_accuracy: 0.4167\n",
            "Epoch 147/200\n",
            "2400/2400 [==============================] - 1s 220us/step - loss: 0.3885 - accuracy: 0.8396 - val_loss: 1.9180 - val_accuracy: 0.5208\n",
            "Epoch 148/200\n",
            "2400/2400 [==============================] - 1s 221us/step - loss: 0.3373 - accuracy: 0.8508 - val_loss: 3.3142 - val_accuracy: 0.3810\n",
            "Epoch 149/200\n",
            "2400/2400 [==============================] - 1s 225us/step - loss: 0.3536 - accuracy: 0.8392 - val_loss: 0.9780 - val_accuracy: 0.6994\n",
            "Epoch 150/200\n",
            "2400/2400 [==============================] - 1s 224us/step - loss: 0.9517 - accuracy: 0.6867 - val_loss: 1.3022 - val_accuracy: 0.6131\n",
            "Epoch 151/200\n",
            "2400/2400 [==============================] - 1s 222us/step - loss: 0.3997 - accuracy: 0.8483 - val_loss: 1.8942 - val_accuracy: 0.5119\n",
            "Epoch 152/200\n",
            "2400/2400 [==============================] - 1s 216us/step - loss: 0.4424 - accuracy: 0.8604 - val_loss: 3.4533 - val_accuracy: 0.3750\n",
            "Epoch 153/200\n",
            "2400/2400 [==============================] - 1s 229us/step - loss: 0.5730 - accuracy: 0.7842 - val_loss: 2.0245 - val_accuracy: 0.5595\n",
            "Epoch 154/200\n",
            "2400/2400 [==============================] - 1s 223us/step - loss: 0.3600 - accuracy: 0.8471 - val_loss: 1.7930 - val_accuracy: 0.5179\n",
            "Epoch 155/200\n",
            "2400/2400 [==============================] - 1s 223us/step - loss: 0.3648 - accuracy: 0.8408 - val_loss: 1.3382 - val_accuracy: 0.5417\n",
            "Epoch 156/200\n",
            "2400/2400 [==============================] - 1s 223us/step - loss: 0.3090 - accuracy: 0.8667 - val_loss: 1.0616 - val_accuracy: 0.6101\n",
            "Epoch 157/200\n",
            "2400/2400 [==============================] - 1s 220us/step - loss: 0.3001 - accuracy: 0.8725 - val_loss: 0.8947 - val_accuracy: 0.6786\n",
            "Epoch 158/200\n",
            "2400/2400 [==============================] - 1s 225us/step - loss: 0.3446 - accuracy: 0.8487 - val_loss: 0.8358 - val_accuracy: 0.7232\n",
            "Epoch 159/200\n",
            "2400/2400 [==============================] - 1s 232us/step - loss: 0.6950 - accuracy: 0.7362 - val_loss: 2.8128 - val_accuracy: 0.3690\n",
            "Epoch 160/200\n",
            "2400/2400 [==============================] - 1s 241us/step - loss: 0.5187 - accuracy: 0.7967 - val_loss: 1.3060 - val_accuracy: 0.5625\n",
            "Epoch 161/200\n",
            "2400/2400 [==============================] - 1s 235us/step - loss: 0.3155 - accuracy: 0.8675 - val_loss: 1.1434 - val_accuracy: 0.5982\n",
            "Epoch 162/200\n",
            "2400/2400 [==============================] - 1s 236us/step - loss: 0.3054 - accuracy: 0.8708 - val_loss: 1.7416 - val_accuracy: 0.4851\n",
            "Epoch 163/200\n",
            "2400/2400 [==============================] - 1s 257us/step - loss: 0.3177 - accuracy: 0.8642 - val_loss: 1.3360 - val_accuracy: 0.5506\n",
            "Epoch 164/200\n",
            "2400/2400 [==============================] - 1s 250us/step - loss: 0.2970 - accuracy: 0.8792 - val_loss: 0.8135 - val_accuracy: 0.7202\n",
            "Epoch 165/200\n",
            "2400/2400 [==============================] - 1s 244us/step - loss: 0.5461 - accuracy: 0.7792 - val_loss: 1.2274 - val_accuracy: 0.6637\n",
            "Epoch 166/200\n",
            "2400/2400 [==============================] - 1s 247us/step - loss: 0.3714 - accuracy: 0.8471 - val_loss: 1.2561 - val_accuracy: 0.6429\n",
            "Epoch 167/200\n",
            "2400/2400 [==============================] - 1s 250us/step - loss: 0.2892 - accuracy: 0.8746 - val_loss: 2.0044 - val_accuracy: 0.4940\n",
            "Epoch 168/200\n",
            "2400/2400 [==============================] - 1s 255us/step - loss: 0.2903 - accuracy: 0.8704 - val_loss: 0.9029 - val_accuracy: 0.6905\n",
            "Epoch 169/200\n",
            "2400/2400 [==============================] - 1s 233us/step - loss: 0.3246 - accuracy: 0.8454 - val_loss: 1.9087 - val_accuracy: 0.4911\n",
            "Epoch 170/200\n",
            "2400/2400 [==============================] - 1s 215us/step - loss: 0.3017 - accuracy: 0.8596 - val_loss: 1.3097 - val_accuracy: 0.5625\n",
            "Epoch 171/200\n",
            "2400/2400 [==============================] - 1s 227us/step - loss: 0.3111 - accuracy: 0.8625 - val_loss: 2.0493 - val_accuracy: 0.4732\n",
            "Epoch 172/200\n",
            "2400/2400 [==============================] - 1s 249us/step - loss: 0.3024 - accuracy: 0.8558 - val_loss: 0.9474 - val_accuracy: 0.6518\n",
            "Epoch 173/200\n",
            "2400/2400 [==============================] - 1s 211us/step - loss: 0.3031 - accuracy: 0.8737 - val_loss: 1.2109 - val_accuracy: 0.5774\n",
            "Epoch 174/200\n",
            "2400/2400 [==============================] - 1s 212us/step - loss: 0.3069 - accuracy: 0.8621 - val_loss: 2.6104 - val_accuracy: 0.4137\n",
            "Epoch 175/200\n",
            "2400/2400 [==============================] - 1s 223us/step - loss: 0.2867 - accuracy: 0.8679 - val_loss: 1.7927 - val_accuracy: 0.4911\n",
            "Epoch 176/200\n",
            "2400/2400 [==============================] - 1s 222us/step - loss: 0.4003 - accuracy: 0.8300 - val_loss: 3.7343 - val_accuracy: 0.3333\n",
            "Epoch 177/200\n",
            "2400/2400 [==============================] - 1s 219us/step - loss: 0.4618 - accuracy: 0.8167 - val_loss: 1.2602 - val_accuracy: 0.5982\n",
            "Epoch 178/200\n",
            "2400/2400 [==============================] - 1s 216us/step - loss: 0.6306 - accuracy: 0.7583 - val_loss: 0.9896 - val_accuracy: 0.6696\n",
            "Epoch 179/200\n",
            "2400/2400 [==============================] - 1s 221us/step - loss: 0.3403 - accuracy: 0.8692 - val_loss: 1.2391 - val_accuracy: 0.5833\n",
            "Epoch 180/200\n",
            "2400/2400 [==============================] - 1s 237us/step - loss: 0.3063 - accuracy: 0.8717 - val_loss: 1.0928 - val_accuracy: 0.5982\n",
            "Epoch 181/200\n",
            "2400/2400 [==============================] - 1s 223us/step - loss: 0.3025 - accuracy: 0.8783 - val_loss: 1.6158 - val_accuracy: 0.5089\n",
            "Epoch 182/200\n",
            "2400/2400 [==============================] - 1s 233us/step - loss: 0.3615 - accuracy: 0.8392 - val_loss: 0.9970 - val_accuracy: 0.6161\n",
            "Epoch 183/200\n",
            "2400/2400 [==============================] - 1s 219us/step - loss: 0.2940 - accuracy: 0.8612 - val_loss: 0.9894 - val_accuracy: 0.6488\n",
            "Epoch 184/200\n",
            "2400/2400 [==============================] - 1s 223us/step - loss: 0.2774 - accuracy: 0.8813 - val_loss: 0.9828 - val_accuracy: 0.6637\n",
            "Epoch 185/200\n",
            "2400/2400 [==============================] - 1s 217us/step - loss: 0.3723 - accuracy: 0.8479 - val_loss: 1.1605 - val_accuracy: 0.6071\n",
            "Epoch 186/200\n",
            "2400/2400 [==============================] - 1s 216us/step - loss: 1.1866 - accuracy: 0.6417 - val_loss: 0.9373 - val_accuracy: 0.6042\n",
            "Epoch 187/200\n",
            "2400/2400 [==============================] - 1s 211us/step - loss: 0.4758 - accuracy: 0.8163 - val_loss: 2.2614 - val_accuracy: 0.4435\n",
            "Epoch 188/200\n",
            "2400/2400 [==============================] - 1s 213us/step - loss: 0.4177 - accuracy: 0.8317 - val_loss: 1.5003 - val_accuracy: 0.5417\n",
            "Epoch 189/200\n",
            "2400/2400 [==============================] - 0s 207us/step - loss: 0.4688 - accuracy: 0.8288 - val_loss: 1.1236 - val_accuracy: 0.6101\n",
            "Epoch 190/200\n",
            "2400/2400 [==============================] - 1s 212us/step - loss: 1.3272 - accuracy: 0.6008 - val_loss: 1.1986 - val_accuracy: 0.5655\n",
            "Epoch 191/200\n",
            "2400/2400 [==============================] - 0s 206us/step - loss: 0.4985 - accuracy: 0.8217 - val_loss: 0.8919 - val_accuracy: 0.6548\n",
            "Epoch 192/200\n",
            "2400/2400 [==============================] - 1s 235us/step - loss: 0.4479 - accuracy: 0.8183 - val_loss: 1.2251 - val_accuracy: 0.5565\n",
            "Epoch 193/200\n",
            "2400/2400 [==============================] - 1s 225us/step - loss: 0.3736 - accuracy: 0.8608 - val_loss: 1.1519 - val_accuracy: 0.6101\n",
            "Epoch 194/200\n",
            "2400/2400 [==============================] - 1s 222us/step - loss: 0.3824 - accuracy: 0.8450 - val_loss: 0.8360 - val_accuracy: 0.6964\n",
            "Epoch 195/200\n",
            "2400/2400 [==============================] - 1s 226us/step - loss: 0.3740 - accuracy: 0.8454 - val_loss: 1.5562 - val_accuracy: 0.5030\n",
            "Epoch 196/200\n",
            "2400/2400 [==============================] - 1s 211us/step - loss: 0.6693 - accuracy: 0.7671 - val_loss: 1.6378 - val_accuracy: 0.5506\n",
            "Epoch 197/200\n",
            "2400/2400 [==============================] - 1s 209us/step - loss: 0.4170 - accuracy: 0.8200 - val_loss: 1.3655 - val_accuracy: 0.5268\n",
            "Epoch 198/200\n",
            "2400/2400 [==============================] - 1s 218us/step - loss: 0.3247 - accuracy: 0.8838 - val_loss: 1.1255 - val_accuracy: 0.5923\n",
            "Epoch 199/200\n",
            "2400/2400 [==============================] - 1s 222us/step - loss: 0.3333 - accuracy: 0.8596 - val_loss: 1.1870 - val_accuracy: 0.5863\n",
            "Epoch 200/200\n",
            "2400/2400 [==============================] - 1s 222us/step - loss: 0.3254 - accuracy: 0.8671 - val_loss: 0.7049 - val_accuracy: 0.7500\n"
          ],
          "name": "stdout"
        }
      ]
    },
    {
      "cell_type": "code",
      "metadata": {
        "id": "8C8bJTEfW2r4",
        "colab": {
          "base_uri": "https://localhost:8080/",
          "height": 34
        },
        "outputId": "39ad413c-b4d9-4df3-c066-050a0f2ffad1"
      },
      "source": [
        "acc5 = model5.evaluate(x_train, y_train)"
      ],
      "execution_count": null,
      "outputs": [
        {
          "output_type": "stream",
          "text": [
            "2400/2400 [==============================] - 0s 78us/step\n"
          ],
          "name": "stdout"
        }
      ]
    },
    {
      "cell_type": "code",
      "metadata": {
        "id": "2W03tb3DW6eU",
        "colab": {
          "base_uri": "https://localhost:8080/",
          "height": 34
        },
        "outputId": "a8f335ce-9c87-48fb-a0e9-57a6ba68c07e"
      },
      "source": [
        "print(\"Loss:\", acc5[0], \" Accuracy:\", acc5[1])"
      ],
      "execution_count": null,
      "outputs": [
        {
          "output_type": "stream",
          "text": [
            "Loss: 0.33787116984526316  Accuracy: 0.8354166746139526\n"
          ],
          "name": "stdout"
        }
      ]
    },
    {
      "cell_type": "code",
      "metadata": {
        "id": "D5F0j14dW764",
        "colab": {
          "base_uri": "https://localhost:8080/",
          "height": 34
        },
        "outputId": "476415c7-4b70-4b96-a079-9758c195ee38"
      },
      "source": [
        "val_acc5 = model5.evaluate(x_test, y_test)"
      ],
      "execution_count": null,
      "outputs": [
        {
          "output_type": "stream",
          "text": [
            "336/336 [==============================] - 0s 96us/step\n"
          ],
          "name": "stdout"
        }
      ]
    },
    {
      "cell_type": "code",
      "metadata": {
        "id": "sqy-jAxdW8HF",
        "colab": {
          "base_uri": "https://localhost:8080/",
          "height": 34
        },
        "outputId": "b424e14e-9a16-45d0-9786-07488ffa8325"
      },
      "source": [
        "print(\"Loss:\", val_acc5[0], \" Accuracy:\", val_acc5[1])"
      ],
      "execution_count": null,
      "outputs": [
        {
          "output_type": "stream",
          "text": [
            "Loss: 0.7048789603369576  Accuracy: 0.75\n"
          ],
          "name": "stdout"
        }
      ]
    },
    {
      "cell_type": "code",
      "metadata": {
        "id": "BhdGpNX6XAo3"
      },
      "source": [
        "pred5 = model5.predict(x_test)\n",
        "pred_y5 = pred5.argmax(axis=-1)"
      ],
      "execution_count": null,
      "outputs": []
    },
    {
      "cell_type": "code",
      "metadata": {
        "id": "2llJylllXEoG",
        "colab": {
          "base_uri": "https://localhost:8080/",
          "height": 153
        },
        "outputId": "784a0b86-9ef0-4ea3-ad71-362219975b14"
      },
      "source": [
        "cm5 = confusion_matrix(y_test, pred_y5)\n",
        "print(cm5)"
      ],
      "execution_count": null,
      "outputs": [
        {
          "output_type": "stream",
          "text": [
            "[[15  1 14 11  0  0  1  0]\n",
            " [ 0 41  1  0  0  0  0  0]\n",
            " [ 3  0 39  0  0  0  0  0]\n",
            " [11  0 10 19  0  0  0  2]\n",
            " [ 1  0  3  1 34  0  2  1]\n",
            " [ 1  0 11  0  0 30  0  0]\n",
            " [ 1  0  3  0  0  0 38  0]\n",
            " [ 0  1  3  1  0  1  0 36]]\n"
          ],
          "name": "stdout"
        }
      ]
    },
    {
      "cell_type": "code",
      "metadata": {
        "id": "Z1pxIphBXIfm",
        "colab": {
          "base_uri": "https://localhost:8080/",
          "height": 282
        },
        "outputId": "f2c621c8-18f7-4427-98af-6ea2a480e56e"
      },
      "source": [
        "import seaborn as sns\n",
        "sns.heatmap(cm5, annot=True)"
      ],
      "execution_count": null,
      "outputs": [
        {
          "output_type": "execute_result",
          "data": {
            "text/plain": [
              "<matplotlib.axes._subplots.AxesSubplot at 0x7f4ff109c588>"
            ]
          },
          "metadata": {
            "tags": []
          },
          "execution_count": 143
        },
        {
          "output_type": "display_data",
          "data": {
            "image/png": "[encoded data removed]",
            "text/plain": [
              "<Figure size 432x288 with 2 Axes>"
            ]
          },
          "metadata": {
            "tags": [],
            "needs_background": "light"
          }
        }
      ]
    },
    {
      "cell_type": "code",
      "metadata": {
        "id": "xht66I9z12v5",
        "colab": {
          "base_uri": "https://localhost:8080/",
          "height": 295
        },
        "outputId": "3312eef2-21dc-4dca-fc33-409fa7c2974e"
      },
      "source": [
        "plt.plot(model5_history.history['loss'])\n",
        "plt.plot(model5_history.history['val_loss'])\n",
        "plt.title('3-L 1D-CNN train vs validation loss')\n",
        "plt.ylabel('loss')\n",
        "plt.xlabel('epoch')\n",
        "plt.legend(['train', 'validation'], loc='upper right')\n",
        "plt.show()"
      ],
      "execution_count": null,
      "outputs": [
        {
          "output_type": "display_data",
          "data": {
            "image/png": "[encoded data removed]",
            "text/plain": [
              "<Figure size 432x288 with 1 Axes>"
            ]
          },
          "metadata": {
            "tags": [],
            "needs_background": "light"
          }
        }
      ]
    },
    {
      "cell_type": "code",
      "metadata": {
        "id": "CFAA-ODI16Mn",
        "colab": {
          "base_uri": "https://localhost:8080/",
          "height": 295
        },
        "outputId": "19ea56db-9432-4f44-97a1-25dfe65c8e5a"
      },
      "source": [
        "plt.plot(model5_history.history['accuracy'])\n",
        "plt.plot(model5_history.history['val_accuracy'])\n",
        "plt.title('3-L 1D-CNN train vs validation accuracy')\n",
        "plt.ylabel('accuracy')\n",
        "plt.xlabel('epoch')\n",
        "plt.legend(['train', 'validation'], loc='upper left')\n",
        "plt.show()"
      ],
      "execution_count": null,
      "outputs": [
        {
          "output_type": "display_data",
          "data": {
            "image/png": "[encoded data removed]",
            "text/plain": [
              "<Figure size 432x288 with 1 Axes>"
            ]
          },
          "metadata": {
            "tags": [],
            "needs_background": "light"
          }
        }
      ]
    },
    {
      "cell_type": "markdown",
      "metadata": {
        "id": "w-cKd_G4uHb3"
      },
      "source": [
        "ANN"
      ]
    },
    {
      "cell_type": "code",
      "metadata": {
        "id": "5hg1TJ-cs--w"
      },
      "source": [
        "model4=Sequential()\n",
        "model4.add(Flatten(input_shape=(32,2)))\n",
        "model4.add(Dense(448,kernel_initializer='he_uniform',activation='relu',input_dim=2))\n",
        "model4.add(Dense(448,kernel_initializer='he_uniform',activation='relu'))\n",
        "model4.add(Dense(8,activation='softmax'))\n",
        "model4.compile(loss='sparse_categorical_crossentropy', optimizer='adam', metrics=['accuracy'])"
      ],
      "execution_count": null,
      "outputs": []
    },
    {
      "cell_type": "code",
      "metadata": {
        "id": "wGeYkAiJuvyG"
      },
      "source": [
        "batch_size=64\n",
        "epochs=300\n",
        "model4_history=model4.fit(x_train, y_train,\n",
        "                          batch_size=32,\n",
        "                          epochs=epochs,\n",
        "                          validation_data=(x_test, y_test)\n",
        "                          )"
      ],
      "execution_count": null,
      "outputs": []
    },
    {
      "cell_type": "code",
      "metadata": {
        "id": "f8p64hBlX65h",
        "colab": {
          "base_uri": "https://localhost:8080/",
          "height": 34
        },
        "outputId": "fecee0e0-cdee-47bf-e36e-df94f51179e4"
      },
      "source": [
        "acc4 = model4.evaluate(x_train, y_train)"
      ],
      "execution_count": null,
      "outputs": [
        {
          "output_type": "stream",
          "text": [
            "2400/2400 [==============================] - 0s 64us/step\n"
          ],
          "name": "stdout"
        }
      ]
    },
    {
      "cell_type": "code",
      "metadata": {
        "id": "faKgsrnMX7I5",
        "colab": {
          "base_uri": "https://localhost:8080/",
          "height": 35
        },
        "outputId": "916c5a21-8196-48c7-b613-5421a9a990a3"
      },
      "source": [
        "print(\"Loss:\", acc4[0], \" Accuracy:\", acc4[1])"
      ],
      "execution_count": null,
      "outputs": [
        {
          "output_type": "stream",
          "text": [
            "Loss: 0.38804240902264914  Accuracy: 0.8062499761581421\n"
          ],
          "name": "stdout"
        }
      ]
    },
    {
      "cell_type": "code",
      "metadata": {
        "id": "foMR0hroX7TE",
        "colab": {
          "base_uri": "https://localhost:8080/",
          "height": 35
        },
        "outputId": "0639cd2e-5bf8-4d78-a433-5397262cc2d2"
      },
      "source": [
        "val_acc4 = model4.evaluate(x_test, y_test)"
      ],
      "execution_count": null,
      "outputs": [
        {
          "output_type": "stream",
          "text": [
            "336/336 [==============================] - 0s 96us/step\n"
          ],
          "name": "stdout"
        }
      ]
    },
    {
      "cell_type": "code",
      "metadata": {
        "id": "OJk-f3HUX7bV",
        "colab": {
          "base_uri": "https://localhost:8080/",
          "height": 35
        },
        "outputId": "b4529bd1-1196-44c6-94bd-4fcd20e64e45"
      },
      "source": [
        "print(\"Loss:\", val_acc4[0], \" Accuracy:\", val_acc4[1])"
      ],
      "execution_count": null,
      "outputs": [
        {
          "output_type": "stream",
          "text": [
            "Loss: 0.668267914227077  Accuracy: 0.7797619104385376\n"
          ],
          "name": "stdout"
        }
      ]
    },
    {
      "cell_type": "code",
      "metadata": {
        "id": "kBMiQDuuX7qb"
      },
      "source": [
        "pred4 = model4.predict(x_test)\n",
        "pred_y4 = pred4.argmax(axis=-1)"
      ],
      "execution_count": null,
      "outputs": []
    },
    {
      "cell_type": "code",
      "metadata": {
        "id": "LzV3ZcxYX7je",
        "colab": {
          "base_uri": "https://localhost:8080/",
          "height": 163
        },
        "outputId": "d79a5ff1-45e4-4564-c5a2-1db88d09152b"
      },
      "source": [
        "cm4 = confusion_matrix(y_test, pred_y4)\n",
        "print(cm4)"
      ],
      "execution_count": null,
      "outputs": [
        {
          "output_type": "stream",
          "text": [
            "[[ 2  0  1 38  0  0  0  1]\n",
            " [ 0 42  0  0  0  0  0  0]\n",
            " [ 0  0 42  0  0  0  0  0]\n",
            " [ 1  0  0 41  0  0  0  0]\n",
            " [ 0  0  0  0 31  0 11  0]\n",
            " [ 0  0  0  0  0 33  0  9]\n",
            " [ 0  0  0  0  5  0 37  0]\n",
            " [ 0  4  0  0  0  4  0 34]]\n"
          ],
          "name": "stdout"
        }
      ]
    },
    {
      "cell_type": "code",
      "metadata": {
        "id": "NAdHqTeivDIp",
        "colab": {
          "base_uri": "https://localhost:8080/",
          "height": 283
        },
        "outputId": "b2436515-3a47-4eff-eca7-17c5df5433d2"
      },
      "source": [
        "import seaborn as sns\n",
        "sns.heatmap(cm4, annot=True)"
      ],
      "execution_count": null,
      "outputs": [
        {
          "output_type": "execute_result",
          "data": {
            "text/plain": [
              "<matplotlib.axes._subplots.AxesSubplot at 0x7f4ff1e16358>"
            ]
          },
          "metadata": {
            "tags": []
          },
          "execution_count": 107
        },
        {
          "output_type": "display_data",
          "data": {
            "image/png": "[encoded data removed]",
            "text/plain": [
              "<Figure size 432x288 with 2 Axes>"
            ]
          },
          "metadata": {
            "tags": [],
            "needs_background": "light"
          }
        }
      ]
    },
    {
      "cell_type": "code",
      "metadata": {
        "id": "FaX8WcX8nLdr",
        "colab": {
          "base_uri": "https://localhost:8080/",
          "height": 295
        },
        "outputId": "b44e960c-d378-4c38-e35e-86db75b699ec"
      },
      "source": [
        "plt.plot(model4_history.history['loss'])\n",
        "plt.plot(model4_history.history['val_loss'])\n",
        "plt.title('ANN train vs validation loss')\n",
        "plt.ylabel('loss')\n",
        "plt.xlabel('epoch')\n",
        "plt.legend(['train', 'validation'], loc='upper right')\n",
        "plt.show()"
      ],
      "execution_count": null,
      "outputs": [
        {
          "output_type": "display_data",
          "data": {
            "image/png": "[encoded data removed]",
            "text/plain": [
              "<Figure size 432x288 with 1 Axes>"
            ]
          },
          "metadata": {
            "tags": [],
            "needs_background": "light"
          }
        }
      ]
    },
    {
      "cell_type": "code",
      "metadata": {
        "id": "_8KVIeLWqSVa",
        "colab": {
          "base_uri": "https://localhost:8080/",
          "height": 295
        },
        "outputId": "e2d8c7d2-6d09-4b35-dea1-a82e19c53a73"
      },
      "source": [
        "plt.plot(model4_history.history['accuracy'])\n",
        "plt.plot(model4_history.history['val_accuracy'])\n",
        "plt.title('ANN train vs validation accuracy')\n",
        "plt.ylabel('accuracy')\n",
        "plt.xlabel('epoch')\n",
        "plt.legend(['train', 'validation'], loc='upper left')\n",
        "plt.show()"
      ],
      "execution_count": null,
      "outputs": [
        {
          "output_type": "display_data",
          "data": {
            "image/png": "[encoded data removed]",
            "text/plain": [
              "<Figure size 432x288 with 1 Axes>"
            ]
          },
          "metadata": {
            "tags": [],
            "needs_background": "light"
          }
        }
      ]
    },
    {
      "cell_type": "code",
      "metadata": {
        "id": "pmDJAa_Bqcl4"
      },
      "source": [
        ""
      ],
      "execution_count": null,
      "outputs": []
    }
  ]
}